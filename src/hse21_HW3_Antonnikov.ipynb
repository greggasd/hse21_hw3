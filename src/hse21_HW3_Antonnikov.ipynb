{
  "nbformat": 4,
  "nbformat_minor": 0,
  "metadata": {
    "colab": {
      "name": "hse21_HW3_Antonnikov.ipynb",
      "provenance": [],
      "collapsed_sections": [
        "7DFpK_Pf1hAX",
        "0fTXUIiw2WGQ",
        "XiVlP4mfy74q",
        "SCi67fISyzVe",
        "HAn1rivS0BME",
        "sGULD5P70tvT",
        "GG2vRkSj0Cyp"
      ]
    },
    "kernelspec": {
      "display_name": "Python 3",
      "name": "python3"
    },
    "language_info": {
      "name": "python"
    }
  },
  "cells": [
    {
      "cell_type": "markdown",
      "metadata": {
        "id": "3rFZS5A_yy1o"
      },
      "source": [
        "# Подготовка файлов и программ"
      ]
    },
    {
      "cell_type": "markdown",
      "metadata": {
        "id": "7DFpK_Pf1hAX"
      },
      "source": [
        "## Установка HISAT2 (для выравниваия RNA-seq чтений на геном)"
      ]
    },
    {
      "cell_type": "code",
      "metadata": {
        "colab": {
          "base_uri": "https://localhost:8080/"
        },
        "id": "WS21uIX63ehw",
        "outputId": "eeb8f431-e79c-4ae4-a85e-82e1cb2819da"
      },
      "source": [
        "!apt-get update"
      ],
      "execution_count": null,
      "outputs": [
        {
          "name": "stdout",
          "output_type": "stream",
          "text": [
            "\r0% [Working]\r            \rGet:1 https://cloud.r-project.org/bin/linux/ubuntu bionic-cran40/ InRelease [3,626 B]\n",
            "\r0% [Connecting to archive.ubuntu.com (91.189.88.152)] [Connecting to security.u\r0% [Connecting to archive.ubuntu.com (91.189.88.152)] [Connecting to security.u\r0% [1 InRelease gpgv 3,626 B] [Connecting to archive.ubuntu.com (91.189.88.152)\r                                                                               \rIgn:2 https://developer.download.nvidia.com/compute/cuda/repos/ubuntu1804/x86_64  InRelease\n",
            "\r0% [1 InRelease gpgv 3,626 B] [Waiting for headers] [Waiting for headers] [Wait\r                                                                               \rGet:3 http://ppa.launchpad.net/c2d4u.team/c2d4u4.0+/ubuntu bionic InRelease [15.9 kB]\n",
            "\r0% [1 InRelease gpgv 3,626 B] [Waiting for headers] [Waiting for headers] [3 In\r                                                                               \rGet:4 http://security.ubuntu.com/ubuntu bionic-security InRelease [88.7 kB]\n",
            "\r0% [1 InRelease gpgv 3,626 B] [Waiting for headers] [4 InRelease 0 B/88.7 kB 0%\r                                                                               \rHit:5 http://archive.ubuntu.com/ubuntu bionic InRelease\n",
            "\r0% [1 InRelease gpgv 3,626 B] [Waiting for headers] [4 InRelease 14.2 kB/88.7 k\r                                                                               \rIgn:6 https://developer.download.nvidia.com/compute/machine-learning/repos/ubuntu1804/x86_64  InRelease\n",
            "\r0% [1 InRelease gpgv 3,626 B] [Waiting for headers] [4 InRelease 14.2 kB/88.7 k\r                                                                               \rGet:7 https://developer.download.nvidia.com/compute/cuda/repos/ubuntu1804/x86_64  Release [696 B]\n",
            "\r0% [1 InRelease gpgv 3,626 B] [Waiting for headers] [4 InRelease 14.2 kB/88.7 k\r                                                                               \rHit:8 https://developer.download.nvidia.com/compute/machine-learning/repos/ubuntu1804/x86_64  Release\n",
            "\r0% [1 InRelease gpgv 3,626 B] [Waiting for headers] [4 InRelease 14.2 kB/88.7 k\r                                                                               \rGet:9 https://developer.download.nvidia.com/compute/cuda/repos/ubuntu1804/x86_64  Release.gpg [836 B]\n",
            "Get:10 http://archive.ubuntu.com/ubuntu bionic-updates InRelease [88.7 kB]\n",
            "Hit:11 http://ppa.launchpad.net/cran/libgit2/ubuntu bionic InRelease\n",
            "Get:12 http://archive.ubuntu.com/ubuntu bionic-backports InRelease [74.6 kB]\n",
            "Hit:13 http://ppa.launchpad.net/deadsnakes/ppa/ubuntu bionic InRelease\n",
            "Hit:14 http://ppa.launchpad.net/graphics-drivers/ppa/ubuntu bionic InRelease\n",
            "Get:16 https://developer.download.nvidia.com/compute/cuda/repos/ubuntu1804/x86_64  Packages [828 kB]\n",
            "Get:17 http://ppa.launchpad.net/c2d4u.team/c2d4u4.0+/ubuntu bionic/main Sources [1,812 kB]\n",
            "Get:18 http://security.ubuntu.com/ubuntu bionic-security/main amd64 Packages [2,430 kB]\n",
            "Get:19 http://security.ubuntu.com/ubuntu bionic-security/universe amd64 Packages [1,442 kB]\n",
            "Get:20 http://archive.ubuntu.com/ubuntu bionic-updates/main amd64 Packages [2,867 kB]\n",
            "Get:21 http://ppa.launchpad.net/c2d4u.team/c2d4u4.0+/ubuntu bionic/main amd64 Packages [930 kB]\n",
            "Get:22 http://archive.ubuntu.com/ubuntu bionic-updates/universe amd64 Packages [2,224 kB]\n",
            "Fetched 12.8 MB in 3s (3,966 kB/s)\n",
            "Reading package lists... Done\n"
          ]
        }
      ]
    },
    {
      "cell_type": "code",
      "metadata": {
        "colab": {
          "base_uri": "https://localhost:8080/"
        },
        "id": "3md6cslv3is6",
        "outputId": "e2484a6f-1984-498b-9a2e-e1a5339eafda"
      },
      "source": [
        "!apt-get install hisat2"
      ],
      "execution_count": null,
      "outputs": [
        {
          "name": "stdout",
          "output_type": "stream",
          "text": [
            "Reading package lists... Done\n",
            "Building dependency tree       \n",
            "Reading state information... Done\n",
            "The following NEW packages will be installed:\n",
            "  hisat2\n",
            "0 upgraded, 1 newly installed, 0 to remove and 40 not upgraded.\n",
            "Need to get 1,278 kB of archives.\n",
            "After this operation, 5,144 kB of additional disk space will be used.\n",
            "Get:1 http://archive.ubuntu.com/ubuntu bionic/universe amd64 hisat2 amd64 2.1.0-1 [1,278 kB]\n",
            "Fetched 1,278 kB in 1s (1,913 kB/s)\n",
            "Selecting previously unselected package hisat2.\n",
            "(Reading database ... 155222 files and directories currently installed.)\n",
            "Preparing to unpack .../hisat2_2.1.0-1_amd64.deb ...\n",
            "Unpacking hisat2 (2.1.0-1) ...\n",
            "Setting up hisat2 (2.1.0-1) ...\n",
            "Processing triggers for man-db (2.8.3-2ubuntu0.1) ...\n"
          ]
        }
      ]
    },
    {
      "cell_type": "code",
      "metadata": {
        "colab": {
          "base_uri": "https://localhost:8080/"
        },
        "id": "6-Eyz3aD3m8-",
        "outputId": "71e2f39e-e6bd-4997-f2d6-1ddbb6710641"
      },
      "source": [
        "!hisat2 --version"
      ],
      "execution_count": null,
      "outputs": [
        {
          "name": "stdout",
          "output_type": "stream",
          "text": [
            "/usr/bin/hisat2-align-s version 2.1.0\n",
            "64-bit\n",
            "Built on Debian unstable\n",
            "Mon Sep  4 12:49:40 UTC 2017\n",
            "Compiler: gcc version 7.2.0 (Ubuntu 7.2.0-12ubuntu1) \n",
            "Options: -O3   -funroll-loops -g3 -Wdate-time -D_FORTIFY_SOURCE=2 -DPOPCNT_CAPABILITY\n",
            "Sizeof {int, long, long long, void*, size_t, off_t}: {4, 8, 8, 8, 8, 8}\n"
          ]
        }
      ]
    },
    {
      "cell_type": "markdown",
      "metadata": {
        "id": "0fTXUIiw2WGQ"
      },
      "source": [
        "## Установка sra-toolkit (для скачивания .fastq файлов из NCBI)"
      ]
    },
    {
      "cell_type": "code",
      "metadata": {
        "colab": {
          "base_uri": "https://localhost:8080/"
        },
        "id": "5m-7wf_x2Yue",
        "outputId": "34e7f16a-87c6-421e-bdb7-e94e26bbda28"
      },
      "source": [
        "!apt-get install sra-toolkit"
      ],
      "execution_count": null,
      "outputs": [
        {
          "name": "stdout",
          "output_type": "stream",
          "text": [
            "Reading package lists... Done\n",
            "Building dependency tree       \n",
            "Reading state information... Done\n",
            "The following additional packages will be installed:\n",
            "  blends-common libkdf5-2 libmagic-mgc libmagic1 libmbedcrypto1 libmbedtls10\n",
            "  libncbi-vdb2 libncbi-wvdb2 med-config menu\n",
            "Suggested packages:\n",
            "  blends-doc file menu-l10n gksu | kde-runtime | ktsuss\n",
            "The following NEW packages will be installed:\n",
            "  blends-common libkdf5-2 libmagic-mgc libmagic1 libmbedcrypto1 libmbedtls10\n",
            "  libncbi-vdb2 libncbi-wvdb2 med-config menu sra-toolkit\n",
            "0 upgraded, 11 newly installed, 0 to remove and 40 not upgraded.\n",
            "Need to get 4,042 kB of archives.\n",
            "After this operation, 22.6 MB of additional disk space will be used.\n",
            "Get:1 http://archive.ubuntu.com/ubuntu bionic-updates/main amd64 libmagic-mgc amd64 1:5.32-2ubuntu0.4 [184 kB]\n",
            "Get:2 http://archive.ubuntu.com/ubuntu bionic-updates/main amd64 libmagic1 amd64 1:5.32-2ubuntu0.4 [68.6 kB]\n",
            "Get:3 http://archive.ubuntu.com/ubuntu bionic-updates/universe amd64 menu amd64 2.1.47ubuntu2.1 [349 kB]\n",
            "Get:4 http://archive.ubuntu.com/ubuntu bionic/universe amd64 blends-common all 0.6.100ubuntu2 [15.0 kB]\n",
            "Get:5 http://archive.ubuntu.com/ubuntu bionic/universe amd64 libkdf5-2 amd64 2.8.2-2+dfsg-1build1 [13.1 kB]\n",
            "Get:6 http://archive.ubuntu.com/ubuntu bionic/universe amd64 libmbedcrypto1 amd64 2.8.0-1 [140 kB]\n",
            "Get:7 http://archive.ubuntu.com/ubuntu bionic/universe amd64 libmbedtls10 amd64 2.8.0-1 [66.8 kB]\n",
            "Get:8 http://archive.ubuntu.com/ubuntu bionic/universe amd64 libncbi-vdb2 amd64 2.8.2-2+dfsg-1build1 [1,098 kB]\n",
            "Get:9 http://archive.ubuntu.com/ubuntu bionic/universe amd64 libncbi-wvdb2 amd64 2.8.2-2+dfsg-1build1 [997 kB]\n",
            "Get:10 http://archive.ubuntu.com/ubuntu bionic/universe amd64 sra-toolkit amd64 2.8.2-5+dfsg-1 [1,102 kB]\n",
            "Get:11 http://archive.ubuntu.com/ubuntu bionic/universe amd64 med-config all 3.0.1ubuntu1 [9,404 B]\n",
            "Fetched 4,042 kB in 1s (4,146 kB/s)\n",
            "Preconfiguring packages ...\n",
            "Selecting previously unselected package libmagic-mgc.\n",
            "(Reading database ... 155244 files and directories currently installed.)\n",
            "Preparing to unpack .../00-libmagic-mgc_1%3a5.32-2ubuntu0.4_amd64.deb ...\n",
            "Unpacking libmagic-mgc (1:5.32-2ubuntu0.4) ...\n",
            "Selecting previously unselected package libmagic1:amd64.\n",
            "Preparing to unpack .../01-libmagic1_1%3a5.32-2ubuntu0.4_amd64.deb ...\n",
            "Unpacking libmagic1:amd64 (1:5.32-2ubuntu0.4) ...\n",
            "Selecting previously unselected package menu.\n",
            "Preparing to unpack .../02-menu_2.1.47ubuntu2.1_amd64.deb ...\n",
            "Unpacking menu (2.1.47ubuntu2.1) ...\n",
            "Selecting previously unselected package blends-common.\n",
            "Preparing to unpack .../03-blends-common_0.6.100ubuntu2_all.deb ...\n",
            "Unpacking blends-common (0.6.100ubuntu2) ...\n",
            "Selecting previously unselected package libkdf5-2.\n",
            "Preparing to unpack .../04-libkdf5-2_2.8.2-2+dfsg-1build1_amd64.deb ...\n",
            "Unpacking libkdf5-2 (2.8.2-2+dfsg-1build1) ...\n",
            "Selecting previously unselected package libmbedcrypto1:amd64.\n",
            "Preparing to unpack .../05-libmbedcrypto1_2.8.0-1_amd64.deb ...\n",
            "Unpacking libmbedcrypto1:amd64 (2.8.0-1) ...\n",
            "Selecting previously unselected package libmbedtls10:amd64.\n",
            "Preparing to unpack .../06-libmbedtls10_2.8.0-1_amd64.deb ...\n",
            "Unpacking libmbedtls10:amd64 (2.8.0-1) ...\n",
            "Selecting previously unselected package libncbi-vdb2.\n",
            "Preparing to unpack .../07-libncbi-vdb2_2.8.2-2+dfsg-1build1_amd64.deb ...\n",
            "Unpacking libncbi-vdb2 (2.8.2-2+dfsg-1build1) ...\n",
            "Selecting previously unselected package libncbi-wvdb2.\n",
            "Preparing to unpack .../08-libncbi-wvdb2_2.8.2-2+dfsg-1build1_amd64.deb ...\n",
            "Unpacking libncbi-wvdb2 (2.8.2-2+dfsg-1build1) ...\n",
            "Selecting previously unselected package sra-toolkit.\n",
            "Preparing to unpack .../09-sra-toolkit_2.8.2-5+dfsg-1_amd64.deb ...\n",
            "Unpacking sra-toolkit (2.8.2-5+dfsg-1) ...\n",
            "Selecting previously unselected package med-config.\n",
            "Preparing to unpack .../10-med-config_3.0.1ubuntu1_all.deb ...\n",
            "Unpacking med-config (3.0.1ubuntu1) ...\n",
            "Setting up libmbedcrypto1:amd64 (2.8.0-1) ...\n",
            "Setting up menu (2.1.47ubuntu2.1) ...\n",
            "Setting up libkdf5-2 (2.8.2-2+dfsg-1build1) ...\n",
            "Setting up libmagic-mgc (1:5.32-2ubuntu0.4) ...\n",
            "Setting up libmagic1:amd64 (1:5.32-2ubuntu0.4) ...\n",
            "Setting up libncbi-wvdb2 (2.8.2-2+dfsg-1build1) ...\n",
            "Setting up libmbedtls10:amd64 (2.8.0-1) ...\n",
            "Setting up blends-common (0.6.100ubuntu2) ...\n",
            "Setting up libncbi-vdb2 (2.8.2-2+dfsg-1build1) ...\n",
            "Setting up sra-toolkit (2.8.2-5+dfsg-1) ...\n",
            "Setting up med-config (3.0.1ubuntu1) ...\n",
            "Adding group `med' (GID 109) ...\n",
            "Done.\n",
            "Processing triggers for man-db (2.8.3-2ubuntu0.1) ...\n",
            "Processing triggers for libc-bin (2.27-3ubuntu1.3) ...\n",
            "/sbin/ldconfig.real: /usr/local/lib/python3.7/dist-packages/ideep4py/lib/libmkldnn.so.0 is not a symbolic link\n",
            "\n",
            "Processing triggers for menu (2.1.47ubuntu2.1) ...\n"
          ]
        }
      ]
    },
    {
      "cell_type": "markdown",
      "metadata": {
        "id": "XiVlP4mfy74q"
      },
      "source": [
        "## Установка FastQC"
      ]
    },
    {
      "cell_type": "code",
      "metadata": {
        "colab": {
          "base_uri": "https://localhost:8080/"
        },
        "id": "62l1Q2ymbENA",
        "outputId": "cc7884e2-5b6b-4d40-fdf0-e706269022dc"
      },
      "source": [
        "!java -version"
      ],
      "execution_count": null,
      "outputs": [
        {
          "name": "stdout",
          "output_type": "stream",
          "text": [
            "openjdk version \"11.0.11\" 2021-04-20\n",
            "OpenJDK Runtime Environment (build 11.0.11+9-Ubuntu-0ubuntu2.18.04)\n",
            "OpenJDK 64-Bit Server VM (build 11.0.11+9-Ubuntu-0ubuntu2.18.04, mixed mode, sharing)\n"
          ]
        }
      ]
    },
    {
      "cell_type": "code",
      "metadata": {
        "colab": {
          "base_uri": "https://localhost:8080/"
        },
        "id": "8bpgwFgcbgRd",
        "outputId": "16226125-d904-4046-f580-1e5155046c0f"
      },
      "source": [
        "!wget https://www.bioinformatics.babraham.ac.uk/projects/fastqc/fastqc_v0.11.9.zip"
      ],
      "execution_count": null,
      "outputs": [
        {
          "name": "stdout",
          "output_type": "stream",
          "text": [
            "--2021-11-28 12:10:08--  https://www.bioinformatics.babraham.ac.uk/projects/fastqc/fastqc_v0.11.9.zip\n",
            "Resolving www.bioinformatics.babraham.ac.uk (www.bioinformatics.babraham.ac.uk)... 149.155.133.4\n",
            "Connecting to www.bioinformatics.babraham.ac.uk (www.bioinformatics.babraham.ac.uk)|149.155.133.4|:443... connected.\n",
            "HTTP request sent, awaiting response... 200 OK\n",
            "Length: 10249221 (9.8M) [application/zip]\n",
            "Saving to: ‘fastqc_v0.11.9.zip’\n",
            "\n",
            "fastqc_v0.11.9.zip  100%[===================>]   9.77M  4.12MB/s    in 2.4s    \n",
            "\n",
            "2021-11-28 12:10:11 (4.12 MB/s) - ‘fastqc_v0.11.9.zip’ saved [10249221/10249221]\n",
            "\n"
          ]
        }
      ]
    },
    {
      "cell_type": "code",
      "metadata": {
        "colab": {
          "base_uri": "https://localhost:8080/"
        },
        "id": "yTcTjOTJblcm",
        "outputId": "a45f9223-28d8-4179-f685-92795d961214"
      },
      "source": [
        "!unzip fastqc_v0.11.9.zip"
      ],
      "execution_count": null,
      "outputs": [
        {
          "name": "stdout",
          "output_type": "stream",
          "text": [
            "Archive:  fastqc_v0.11.9.zip\n",
            "  inflating: FastQC/cisd-jhdf5.jar   \n",
            "   creating: FastQC/Configuration/\n",
            "  inflating: FastQC/Configuration/adapter_list.txt  \n",
            "  inflating: FastQC/Configuration/contaminant_list.txt  \n",
            "  inflating: FastQC/Configuration/limits.txt  \n",
            "  inflating: FastQC/fastqc           \n",
            "  inflating: FastQC/fastqc_icon.ico  \n",
            "   creating: FastQC/Help/\n",
            "   creating: FastQC/Help/1 Introduction/\n",
            "   creating: FastQC/Help/1 Introduction/.svn/\n",
            "  inflating: FastQC/Help/1 Introduction/.svn/entries  \n",
            "   creating: FastQC/Help/1 Introduction/.svn/props/\n",
            "   creating: FastQC/Help/1 Introduction/.svn/text-base/\n",
            "  inflating: FastQC/Help/1 Introduction/.svn/text-base/1.1 What is FastQC.html.svn-base  \n",
            "   creating: FastQC/Help/1 Introduction/.svn/tmp/\n",
            "   creating: FastQC/Help/1 Introduction/.svn/tmp/props/\n",
            "  inflating: FastQC/Help/1 Introduction/1.1 What is FastQC.html  \n",
            "   creating: FastQC/Help/2 Basic Operations/\n",
            "   creating: FastQC/Help/2 Basic Operations/.svn/\n",
            "  inflating: FastQC/Help/2 Basic Operations/.svn/entries  \n",
            "   creating: FastQC/Help/2 Basic Operations/.svn/props/\n",
            "   creating: FastQC/Help/2 Basic Operations/.svn/text-base/\n",
            "  inflating: FastQC/Help/2 Basic Operations/.svn/text-base/2.1 Opening a sequence file.html.svn-base  \n",
            "  inflating: FastQC/Help/2 Basic Operations/.svn/text-base/2.2 Evaluating Results.html.svn-base  \n",
            "  inflating: FastQC/Help/2 Basic Operations/.svn/text-base/2.3 Saving a Report.html.svn-base  \n",
            "   creating: FastQC/Help/2 Basic Operations/.svn/tmp/\n",
            "   creating: FastQC/Help/2 Basic Operations/.svn/tmp/props/\n",
            "  inflating: FastQC/Help/2 Basic Operations/2.1 Opening a sequence file.html  \n",
            "  inflating: FastQC/Help/2 Basic Operations/2.2 Evaluating Results.html  \n",
            "  inflating: FastQC/Help/2 Basic Operations/2.3 Saving a Report.html  \n",
            "   creating: FastQC/Help/3 Analysis Modules/\n",
            "   creating: FastQC/Help/3 Analysis Modules/.svn/\n",
            "  inflating: FastQC/Help/3 Analysis Modules/.svn/entries  \n",
            "   creating: FastQC/Help/3 Analysis Modules/.svn/prop-base/\n",
            " extracting: FastQC/Help/3 Analysis Modules/.svn/prop-base/duplication_levels.png.svn-base  \n",
            "  inflating: FastQC/Help/3 Analysis Modules/.svn/prop-base/kmer_profiles.png.svn-base  \n",
            " extracting: FastQC/Help/3 Analysis Modules/.svn/prop-base/per_base_gc_content.png.svn-base  \n",
            " extracting: FastQC/Help/3 Analysis Modules/.svn/prop-base/per_base_n_content.png.svn-base  \n",
            " extracting: FastQC/Help/3 Analysis Modules/.svn/prop-base/per_base_quality.png.svn-base  \n",
            " extracting: FastQC/Help/3 Analysis Modules/.svn/prop-base/per_base_sequence_content.png.svn-base  \n",
            " extracting: FastQC/Help/3 Analysis Modules/.svn/prop-base/per_sequence_gc_content.png.svn-base  \n",
            " extracting: FastQC/Help/3 Analysis Modules/.svn/prop-base/per_sequence_quality.png.svn-base  \n",
            " extracting: FastQC/Help/3 Analysis Modules/.svn/prop-base/per_tile_quality.png.svn-base  \n",
            " extracting: FastQC/Help/3 Analysis Modules/.svn/prop-base/sequence_length_distribution.png.svn-base  \n",
            "   creating: FastQC/Help/3 Analysis Modules/.svn/props/\n",
            "   creating: FastQC/Help/3 Analysis Modules/.svn/text-base/\n",
            "  inflating: FastQC/Help/3 Analysis Modules/.svn/text-base/1 Basic Statistics.html.svn-base  \n",
            "  inflating: FastQC/Help/3 Analysis Modules/.svn/text-base/10 Adapter Content.html.svn-base  \n",
            "  inflating: FastQC/Help/3 Analysis Modules/.svn/text-base/11 Kmer Content.html.svn-base  \n",
            "  inflating: FastQC/Help/3 Analysis Modules/.svn/text-base/12 Per Tile Sequence Quality.html.svn-base  \n",
            "  inflating: FastQC/Help/3 Analysis Modules/.svn/text-base/2 Per Base Sequence Quality.html.svn-base  \n",
            "  inflating: FastQC/Help/3 Analysis Modules/.svn/text-base/3 Per Sequence Quality Scores.html.svn-base  \n",
            "  inflating: FastQC/Help/3 Analysis Modules/.svn/text-base/4 Per Base Sequence Content.html.svn-base  \n",
            "  inflating: FastQC/Help/3 Analysis Modules/.svn/text-base/5 Per Sequence GC Content.html.svn-base  \n",
            "  inflating: FastQC/Help/3 Analysis Modules/.svn/text-base/6 Per Base N Content.html.svn-base  \n",
            "  inflating: FastQC/Help/3 Analysis Modules/.svn/text-base/7 Sequence Length Distribution.html.svn-base  \n",
            "  inflating: FastQC/Help/3 Analysis Modules/.svn/text-base/8 Duplicate Sequences.html.svn-base  \n",
            "  inflating: FastQC/Help/3 Analysis Modules/.svn/text-base/9 Overrepresented Sequences.html.svn-base  \n",
            "  inflating: FastQC/Help/3 Analysis Modules/.svn/text-base/duplication_levels.png.svn-base  \n",
            "  inflating: FastQC/Help/3 Analysis Modules/.svn/text-base/kmer_profiles.png.svn-base  \n",
            "  inflating: FastQC/Help/3 Analysis Modules/.svn/text-base/per_base_gc_content.png.svn-base  \n",
            "  inflating: FastQC/Help/3 Analysis Modules/.svn/text-base/per_base_n_content.png.svn-base  \n",
            "  inflating: FastQC/Help/3 Analysis Modules/.svn/text-base/per_base_quality.png.svn-base  \n",
            "  inflating: FastQC/Help/3 Analysis Modules/.svn/text-base/per_base_sequence_content.png.svn-base  \n",
            "  inflating: FastQC/Help/3 Analysis Modules/.svn/text-base/per_sequence_gc_content.png.svn-base  \n",
            "  inflating: FastQC/Help/3 Analysis Modules/.svn/text-base/per_sequence_quality.png.svn-base  \n",
            "  inflating: FastQC/Help/3 Analysis Modules/.svn/text-base/per_tile_quality.png.svn-base  \n",
            "  inflating: FastQC/Help/3 Analysis Modules/.svn/text-base/sequence_length_distribution.png.svn-base  \n",
            "   creating: FastQC/Help/3 Analysis Modules/.svn/tmp/\n",
            "   creating: FastQC/Help/3 Analysis Modules/.svn/tmp/props/\n",
            "  inflating: FastQC/Help/3 Analysis Modules/1 Basic Statistics.html  \n",
            "  inflating: FastQC/Help/3 Analysis Modules/10 Adapter Content.html  \n",
            "  inflating: FastQC/Help/3 Analysis Modules/11 Kmer Content.html  \n",
            "  inflating: FastQC/Help/3 Analysis Modules/12 Per Tile Sequence Quality.html  \n",
            "  inflating: FastQC/Help/3 Analysis Modules/2 Per Base Sequence Quality.html  \n",
            "  inflating: FastQC/Help/3 Analysis Modules/3 Per Sequence Quality Scores.html  \n",
            "  inflating: FastQC/Help/3 Analysis Modules/4 Per Base Sequence Content.html  \n",
            "  inflating: FastQC/Help/3 Analysis Modules/5 Per Sequence GC Content.html  \n",
            "  inflating: FastQC/Help/3 Analysis Modules/6 Per Base N Content.html  \n",
            "  inflating: FastQC/Help/3 Analysis Modules/7 Sequence Length Distribution.html  \n",
            "  inflating: FastQC/Help/3 Analysis Modules/8 Duplicate Sequences.html  \n",
            "  inflating: FastQC/Help/3 Analysis Modules/9 Overrepresented Sequences.html  \n",
            "  inflating: FastQC/Help/3 Analysis Modules/duplication_levels.png  \n",
            "  inflating: FastQC/Help/3 Analysis Modules/kmer_profiles.png  \n",
            "  inflating: FastQC/Help/3 Analysis Modules/per_base_gc_content.png  \n",
            "  inflating: FastQC/Help/3 Analysis Modules/per_base_n_content.png  \n",
            "  inflating: FastQC/Help/3 Analysis Modules/per_base_quality.png  \n",
            "  inflating: FastQC/Help/3 Analysis Modules/per_base_sequence_content.png  \n",
            "  inflating: FastQC/Help/3 Analysis Modules/per_sequence_gc_content.png  \n",
            "  inflating: FastQC/Help/3 Analysis Modules/per_sequence_quality.png  \n",
            "  inflating: FastQC/Help/3 Analysis Modules/per_tile_quality.png  \n",
            "  inflating: FastQC/Help/3 Analysis Modules/sequence_length_distribution.png  \n",
            "  inflating: FastQC/INSTALL.txt      \n",
            "  inflating: FastQC/jbzip2-0.9.jar   \n",
            "  inflating: FastQC/LICENSE          \n",
            "  inflating: FastQC/LICENSE.txt      \n",
            "  inflating: FastQC/LICENSE_JHDF5.txt  \n",
            "   creating: FastQC/net/\n",
            "   creating: FastQC/net/sourceforge/\n",
            "   creating: FastQC/net/sourceforge/iharder/\n",
            "   creating: FastQC/net/sourceforge/iharder/base64/\n",
            "  inflating: FastQC/net/sourceforge/iharder/base64/Base64$1.class  \n",
            "  inflating: FastQC/net/sourceforge/iharder/base64/Base64$InputStream.class  \n",
            "  inflating: FastQC/net/sourceforge/iharder/base64/Base64$OutputStream.class  \n",
            "  inflating: FastQC/net/sourceforge/iharder/base64/Base64.class  \n",
            "   creating: FastQC/org/\n",
            "   creating: FastQC/org/apache/\n",
            "   creating: FastQC/org/apache/commons/\n",
            "   creating: FastQC/org/apache/commons/math3/\n",
            "   creating: FastQC/org/apache/commons/math3/analysis/\n",
            "   creating: FastQC/org/apache/commons/math3/analysis/solvers/\n",
            "  inflating: FastQC/org/apache/commons/math3/analysis/solvers/AbstractUnivariateSolver.class  \n",
            "  inflating: FastQC/org/apache/commons/math3/analysis/solvers/AllowedSolution.class  \n",
            "  inflating: FastQC/org/apache/commons/math3/analysis/solvers/BaseAbstractUnivariateSolver.class  \n",
            "  inflating: FastQC/org/apache/commons/math3/analysis/solvers/BaseUnivariateSolver.class  \n",
            "  inflating: FastQC/org/apache/commons/math3/analysis/solvers/BracketedUnivariateSolver.class  \n",
            "  inflating: FastQC/org/apache/commons/math3/analysis/solvers/BrentSolver.class  \n",
            "  inflating: FastQC/org/apache/commons/math3/analysis/solvers/UnivariateSolver.class  \n",
            "  inflating: FastQC/org/apache/commons/math3/analysis/solvers/UnivariateSolverUtils.class  \n",
            "  inflating: FastQC/org/apache/commons/math3/analysis/UnivariateFunction.class  \n",
            "   creating: FastQC/org/apache/commons/math3/distribution/\n",
            "  inflating: FastQC/org/apache/commons/math3/distribution/AbstractIntegerDistribution.class  \n",
            "  inflating: FastQC/org/apache/commons/math3/distribution/AbstractRealDistribution$1.class  \n",
            "  inflating: FastQC/org/apache/commons/math3/distribution/AbstractRealDistribution.class  \n",
            "  inflating: FastQC/org/apache/commons/math3/distribution/BetaDistribution.class  \n",
            "  inflating: FastQC/org/apache/commons/math3/distribution/BinomialDistribution.class  \n",
            "  inflating: FastQC/org/apache/commons/math3/distribution/CauchyDistribution.class  \n",
            "  inflating: FastQC/org/apache/commons/math3/distribution/ChiSquaredDistribution.class  \n",
            "  inflating: FastQC/org/apache/commons/math3/distribution/FDistribution.class  \n",
            "  inflating: FastQC/org/apache/commons/math3/distribution/GammaDistribution.class  \n",
            "  inflating: FastQC/org/apache/commons/math3/distribution/HypergeometricDistribution.class  \n",
            "  inflating: FastQC/org/apache/commons/math3/distribution/IntegerDistribution.class  \n",
            "  inflating: FastQC/org/apache/commons/math3/distribution/NormalDistribution.class  \n",
            "  inflating: FastQC/org/apache/commons/math3/distribution/PascalDistribution.class  \n",
            "  inflating: FastQC/org/apache/commons/math3/distribution/PoissonDistribution.class  \n",
            "  inflating: FastQC/org/apache/commons/math3/distribution/RealDistribution.class  \n",
            "  inflating: FastQC/org/apache/commons/math3/distribution/SaddlePointExpansion.class  \n",
            "  inflating: FastQC/org/apache/commons/math3/distribution/TDistribution.class  \n",
            "  inflating: FastQC/org/apache/commons/math3/distribution/WeibullDistribution.class  \n",
            "  inflating: FastQC/org/apache/commons/math3/distribution/ZipfDistribution.class  \n",
            "   creating: FastQC/org/apache/commons/math3/exception/\n",
            "  inflating: FastQC/org/apache/commons/math3/exception/ConvergenceException.class  \n",
            "  inflating: FastQC/org/apache/commons/math3/exception/DimensionMismatchException.class  \n",
            "  inflating: FastQC/org/apache/commons/math3/exception/MathArithmeticException.class  \n",
            "  inflating: FastQC/org/apache/commons/math3/exception/MathIllegalArgumentException.class  \n",
            "  inflating: FastQC/org/apache/commons/math3/exception/MathIllegalNumberException.class  \n",
            "  inflating: FastQC/org/apache/commons/math3/exception/MathIllegalStateException.class  \n",
            "  inflating: FastQC/org/apache/commons/math3/exception/MathInternalError.class  \n",
            "  inflating: FastQC/org/apache/commons/math3/exception/MaxCountExceededException.class  \n",
            "  inflating: FastQC/org/apache/commons/math3/exception/NoBracketingException.class  \n",
            "  inflating: FastQC/org/apache/commons/math3/exception/NotFiniteNumberException.class  \n",
            "  inflating: FastQC/org/apache/commons/math3/exception/NotPositiveException.class  \n",
            "  inflating: FastQC/org/apache/commons/math3/exception/NotStrictlyPositiveException.class  \n",
            "  inflating: FastQC/org/apache/commons/math3/exception/NullArgumentException.class  \n",
            "  inflating: FastQC/org/apache/commons/math3/exception/NumberIsTooLargeException.class  \n",
            "  inflating: FastQC/org/apache/commons/math3/exception/NumberIsTooSmallException.class  \n",
            "  inflating: FastQC/org/apache/commons/math3/exception/OutOfRangeException.class  \n",
            "  inflating: FastQC/org/apache/commons/math3/exception/TooManyEvaluationsException.class  \n",
            "   creating: FastQC/org/apache/commons/math3/exception/util/\n",
            "  inflating: FastQC/org/apache/commons/math3/exception/util/ArgUtils.class  \n",
            "  inflating: FastQC/org/apache/commons/math3/exception/util/ExceptionContext.class  \n",
            "  inflating: FastQC/org/apache/commons/math3/exception/util/ExceptionContextProvider.class  \n",
            "  inflating: FastQC/org/apache/commons/math3/exception/util/Localizable.class  \n",
            "  inflating: FastQC/org/apache/commons/math3/exception/util/LocalizedFormats.class  \n",
            "   creating: FastQC/org/apache/commons/math3/random/\n",
            "  inflating: FastQC/org/apache/commons/math3/random/AbstractWell.class  \n",
            "  inflating: FastQC/org/apache/commons/math3/random/BitsStreamGenerator.class  \n",
            "  inflating: FastQC/org/apache/commons/math3/random/RandomData.class  \n",
            "  inflating: FastQC/org/apache/commons/math3/random/RandomDataImpl.class  \n",
            "  inflating: FastQC/org/apache/commons/math3/random/RandomGenerator.class  \n",
            "  inflating: FastQC/org/apache/commons/math3/random/Well19937c.class  \n",
            "   creating: FastQC/org/apache/commons/math3/special/\n",
            "  inflating: FastQC/org/apache/commons/math3/special/Beta$1.class  \n",
            "  inflating: FastQC/org/apache/commons/math3/special/Beta.class  \n",
            "  inflating: FastQC/org/apache/commons/math3/special/Erf.class  \n",
            "  inflating: FastQC/org/apache/commons/math3/special/Gamma$1.class  \n",
            "  inflating: FastQC/org/apache/commons/math3/special/Gamma.class  \n",
            "   creating: FastQC/org/apache/commons/math3/util/\n",
            "  inflating: FastQC/org/apache/commons/math3/util/ArithmeticUtils.class  \n",
            "  inflating: FastQC/org/apache/commons/math3/util/ContinuedFraction.class  \n",
            "  inflating: FastQC/org/apache/commons/math3/util/DoubleArray.class  \n",
            "  inflating: FastQC/org/apache/commons/math3/util/FastMath$ExpFracTable.class  \n",
            "  inflating: FastQC/org/apache/commons/math3/util/FastMath$ExpIntTable.class  \n",
            "  inflating: FastQC/org/apache/commons/math3/util/FastMath$lnMant.class  \n",
            "  inflating: FastQC/org/apache/commons/math3/util/FastMath.class  \n",
            "  inflating: FastQC/org/apache/commons/math3/util/FastMathCalc.class  \n",
            "  inflating: FastQC/org/apache/commons/math3/util/FastMathLiteralArrays.class  \n",
            "  inflating: FastQC/org/apache/commons/math3/util/Incrementor$1.class  \n",
            "  inflating: FastQC/org/apache/commons/math3/util/Incrementor$MaxCountExceededCallback.class  \n",
            "  inflating: FastQC/org/apache/commons/math3/util/Incrementor.class  \n",
            "  inflating: FastQC/org/apache/commons/math3/util/MathUtils.class  \n",
            "  inflating: FastQC/org/apache/commons/math3/util/Precision.class  \n",
            "  inflating: FastQC/org/apache/commons/math3/util/ResizableDoubleArray.class  \n",
            "  inflating: FastQC/README.md        \n",
            "  inflating: FastQC/README.txt       \n",
            "  inflating: FastQC/RELEASE_NOTES.txt  \n",
            "  inflating: FastQC/run_fastqc.bat   \n",
            "  inflating: FastQC/sam-1.103.jar    \n",
            "   creating: FastQC/Templates/\n",
            "  inflating: FastQC/Templates/fastqc2fo.xsl  \n",
            "  inflating: FastQC/Templates/header_template.html  \n",
            "   creating: FastQC/Templates/Icons/\n",
            " extracting: FastQC/Templates/Icons/error.png  \n",
            " extracting: FastQC/Templates/Icons/fastqc_icon.png  \n",
            " extracting: FastQC/Templates/Icons/tick.png  \n",
            " extracting: FastQC/Templates/Icons/warning.png  \n",
            "   creating: FastQC/uk/\n",
            "   creating: FastQC/uk/ac/\n",
            "   creating: FastQC/uk/ac/babraham/\n",
            "   creating: FastQC/uk/ac/babraham/FastQC/\n",
            "   creating: FastQC/uk/ac/babraham/FastQC/Analysis/\n",
            "  inflating: FastQC/uk/ac/babraham/FastQC/Analysis/AnalysisListener.class  \n",
            "  inflating: FastQC/uk/ac/babraham/FastQC/Analysis/AnalysisQueue.class  \n",
            "  inflating: FastQC/uk/ac/babraham/FastQC/Analysis/AnalysisRunner.class  \n",
            "  inflating: FastQC/uk/ac/babraham/FastQC/Analysis/OfflineRunner.class  \n",
            "   creating: FastQC/uk/ac/babraham/FastQC/Dialogs/\n",
            "  inflating: FastQC/uk/ac/babraham/FastQC/Dialogs/AboutDialog$1.class  \n",
            "  inflating: FastQC/uk/ac/babraham/FastQC/Dialogs/AboutDialog.class  \n",
            "  inflating: FastQC/uk/ac/babraham/FastQC/Dialogs/FastQCTitlePanel$SmoothJLabel.class  \n",
            "  inflating: FastQC/uk/ac/babraham/FastQC/Dialogs/FastQCTitlePanel.class  \n",
            "  inflating: FastQC/uk/ac/babraham/FastQC/Dialogs/WelcomePanel.class  \n",
            "  inflating: FastQC/uk/ac/babraham/FastQC/FastQCApplication$1.class  \n",
            "  inflating: FastQC/uk/ac/babraham/FastQC/FastQCApplication.class  \n",
            "  inflating: FastQC/uk/ac/babraham/FastQC/FastQCConfig.class  \n",
            "  inflating: FastQC/uk/ac/babraham/FastQC/FastQCMenuBar.class  \n",
            "   creating: FastQC/uk/ac/babraham/FastQC/FileFilters/\n",
            "  inflating: FastQC/uk/ac/babraham/FastQC/FileFilters/BAMFileFilter.class  \n",
            "  inflating: FastQC/uk/ac/babraham/FastQC/FileFilters/CasavaFastQFileFilter.class  \n",
            "  inflating: FastQC/uk/ac/babraham/FastQC/FileFilters/FastQFileFilter.class  \n",
            "  inflating: FastQC/uk/ac/babraham/FastQC/FileFilters/GobyFileFilter.class  \n",
            "  inflating: FastQC/uk/ac/babraham/FastQC/FileFilters/MappedBAMFileFilter.class  \n",
            "  inflating: FastQC/uk/ac/babraham/FastQC/FileFilters/SequenceFileFilter.class  \n",
            "   creating: FastQC/uk/ac/babraham/FastQC/Graphs/\n",
            "  inflating: FastQC/uk/ac/babraham/FastQC/Graphs/BaseGroup.class  \n",
            "  inflating: FastQC/uk/ac/babraham/FastQC/Graphs/LineGraph.class  \n",
            "  inflating: FastQC/uk/ac/babraham/FastQC/Graphs/QualityBoxPlot.class  \n",
            "  inflating: FastQC/uk/ac/babraham/FastQC/Graphs/TileGraph.class  \n",
            "   creating: FastQC/uk/ac/babraham/FastQC/Help/\n",
            "  inflating: FastQC/uk/ac/babraham/FastQC/Help/HelpDialog.class  \n",
            "  inflating: FastQC/uk/ac/babraham/FastQC/Help/HelpIndexRoot$FileSorter.class  \n",
            "  inflating: FastQC/uk/ac/babraham/FastQC/Help/HelpIndexRoot.class  \n",
            "  inflating: FastQC/uk/ac/babraham/FastQC/Help/HelpPage.class  \n",
            "  inflating: FastQC/uk/ac/babraham/FastQC/Help/HelpPageDisplay$HelpEditor.class  \n",
            "  inflating: FastQC/uk/ac/babraham/FastQC/Help/HelpPageDisplay.class  \n",
            "  inflating: FastQC/uk/ac/babraham/FastQC/Help/HelpSearchPanel.class  \n",
            "   creating: FastQC/uk/ac/babraham/FastQC/Modules/\n",
            "  inflating: FastQC/uk/ac/babraham/FastQC/Modules/AbstractQCModule.class  \n",
            "  inflating: FastQC/uk/ac/babraham/FastQC/Modules/AdapterContent$Adapter.class  \n",
            "  inflating: FastQC/uk/ac/babraham/FastQC/Modules/AdapterContent$ResultsTable.class  \n",
            "  inflating: FastQC/uk/ac/babraham/FastQC/Modules/AdapterContent.class  \n",
            "  inflating: FastQC/uk/ac/babraham/FastQC/Modules/BasicStats$ResultsTable.class  \n",
            "  inflating: FastQC/uk/ac/babraham/FastQC/Modules/BasicStats.class  \n",
            "  inflating: FastQC/uk/ac/babraham/FastQC/Modules/DuplicationLevel.class  \n",
            "   creating: FastQC/uk/ac/babraham/FastQC/Modules/GCModel/\n",
            "  inflating: FastQC/uk/ac/babraham/FastQC/Modules/GCModel/GCModel.class  \n",
            "  inflating: FastQC/uk/ac/babraham/FastQC/Modules/GCModel/GCModelValue.class  \n",
            "  inflating: FastQC/uk/ac/babraham/FastQC/Modules/KmerContent$Kmer.class  \n",
            "  inflating: FastQC/uk/ac/babraham/FastQC/Modules/KmerContent$ResultsTable.class  \n",
            "  inflating: FastQC/uk/ac/babraham/FastQC/Modules/KmerContent.class  \n",
            "  inflating: FastQC/uk/ac/babraham/FastQC/Modules/ModuleConfig.class  \n",
            "  inflating: FastQC/uk/ac/babraham/FastQC/Modules/ModuleFactory.class  \n",
            "  inflating: FastQC/uk/ac/babraham/FastQC/Modules/NContent.class  \n",
            "  inflating: FastQC/uk/ac/babraham/FastQC/Modules/OverRepresentedSeqs$OverrepresentedSeq.class  \n",
            "  inflating: FastQC/uk/ac/babraham/FastQC/Modules/OverRepresentedSeqs$ResultsTable.class  \n",
            "  inflating: FastQC/uk/ac/babraham/FastQC/Modules/OverRepresentedSeqs.class  \n",
            "  inflating: FastQC/uk/ac/babraham/FastQC/Modules/PerBaseQualityScores.class  \n",
            "  inflating: FastQC/uk/ac/babraham/FastQC/Modules/PerBaseSequenceContent.class  \n",
            "  inflating: FastQC/uk/ac/babraham/FastQC/Modules/PerSequenceGCContent.class  \n",
            "  inflating: FastQC/uk/ac/babraham/FastQC/Modules/PerSequenceQualityScores.class  \n",
            "  inflating: FastQC/uk/ac/babraham/FastQC/Modules/PerTileQualityScores.class  \n",
            "  inflating: FastQC/uk/ac/babraham/FastQC/Modules/QCModule.class  \n",
            "  inflating: FastQC/uk/ac/babraham/FastQC/Modules/SequenceLengthDistribution.class  \n",
            "   creating: FastQC/uk/ac/babraham/FastQC/Report/\n",
            "  inflating: FastQC/uk/ac/babraham/FastQC/Report/HTMLReportArchive.class  \n",
            "  inflating: FastQC/uk/ac/babraham/FastQC/Report/stylesheet.txt  \n",
            "   creating: FastQC/uk/ac/babraham/FastQC/Resources/\n",
            " extracting: FastQC/uk/ac/babraham/FastQC/Resources/error.png  \n",
            " extracting: FastQC/uk/ac/babraham/FastQC/Resources/fastqc_icon.png  \n",
            "  inflating: FastQC/uk/ac/babraham/FastQC/Resources/fastqc_icon.svg  \n",
            " extracting: FastQC/uk/ac/babraham/FastQC/Resources/fastqc_icon_100.png  \n",
            " extracting: FastQC/uk/ac/babraham/FastQC/Resources/tick.png  \n",
            " extracting: FastQC/uk/ac/babraham/FastQC/Resources/warning.png  \n",
            "   creating: FastQC/uk/ac/babraham/FastQC/Results/\n",
            "  inflating: FastQC/uk/ac/babraham/FastQC/Results/ResultsPanel$ModuleRenderer.class  \n",
            "  inflating: FastQC/uk/ac/babraham/FastQC/Results/ResultsPanel.class  \n",
            "   creating: FastQC/uk/ac/babraham/FastQC/Sequence/\n",
            "  inflating: FastQC/uk/ac/babraham/FastQC/Sequence/BAMFile.class  \n",
            "   creating: FastQC/uk/ac/babraham/FastQC/Sequence/Contaminant/\n",
            "  inflating: FastQC/uk/ac/babraham/FastQC/Sequence/Contaminant/Contaminant.class  \n",
            "  inflating: FastQC/uk/ac/babraham/FastQC/Sequence/Contaminant/ContaminantHit.class  \n",
            "  inflating: FastQC/uk/ac/babraham/FastQC/Sequence/Contaminant/ContaminentFinder.class  \n",
            "  inflating: FastQC/uk/ac/babraham/FastQC/Sequence/Fast5File.class  \n",
            "  inflating: FastQC/uk/ac/babraham/FastQC/Sequence/FastQFile.class  \n",
            "   creating: FastQC/uk/ac/babraham/FastQC/Sequence/QualityEncoding/\n",
            "  inflating: FastQC/uk/ac/babraham/FastQC/Sequence/QualityEncoding/PhredEncoding.class  \n",
            "  inflating: FastQC/uk/ac/babraham/FastQC/Sequence/Sequence.class  \n",
            "  inflating: FastQC/uk/ac/babraham/FastQC/Sequence/SequenceFactory.class  \n",
            "  inflating: FastQC/uk/ac/babraham/FastQC/Sequence/SequenceFile.class  \n",
            "  inflating: FastQC/uk/ac/babraham/FastQC/Sequence/SequenceFileGroup.class  \n",
            "  inflating: FastQC/uk/ac/babraham/FastQC/Sequence/SequenceFormatException.class  \n",
            "   creating: FastQC/uk/ac/babraham/FastQC/Statistics/\n",
            "  inflating: FastQC/uk/ac/babraham/FastQC/Statistics/NormalDistribution.class  \n",
            "  inflating: FastQC/uk/ac/babraham/FastQC/Statistics/PearsonCorrelation.class  \n",
            "   creating: FastQC/uk/ac/babraham/FastQC/Utilities/\n",
            "  inflating: FastQC/uk/ac/babraham/FastQC/Utilities/CasavaBasename.class  \n",
            "  inflating: FastQC/uk/ac/babraham/FastQC/Utilities/HotColdColourGradient.class  \n",
            "  inflating: FastQC/uk/ac/babraham/FastQC/Utilities/ImageToBase64.class  \n",
            "  inflating: FastQC/uk/ac/babraham/FastQC/Utilities/MultiMemberGZIPInputStream.class  \n",
            "  inflating: FastQC/uk/ac/babraham/FastQC/Utilities/NameFormatException.class  \n",
            "  inflating: FastQC/uk/ac/babraham/FastQC/Utilities/NanoporeBasename.class  \n",
            "  inflating: FastQC/uk/ac/babraham/FastQC/Utilities/QualityCount.class  \n",
            "  inflating: FastQC/uk/ac/babraham/FastQC/Utilities/RGB.class  \n"
          ]
        }
      ]
    },
    {
      "cell_type": "code",
      "metadata": {
        "id": "S79LH0aXbvLx"
      },
      "source": [
        "!chmod a+x FastQC/fastqc"
      ],
      "execution_count": null,
      "outputs": []
    },
    {
      "cell_type": "code",
      "metadata": {
        "colab": {
          "base_uri": "https://localhost:8080/"
        },
        "id": "PsLuZDt4b7jT",
        "outputId": "c7caac36-61f3-41dd-ed50-e218ab7b7285"
      },
      "source": [
        "!./FastQC/fastqc --help"
      ],
      "execution_count": null,
      "outputs": [
        {
          "name": "stdout",
          "output_type": "stream",
          "text": [
            "\n",
            "            FastQC - A high throughput sequence QC analysis tool\n",
            "\n",
            "SYNOPSIS\n",
            "\n",
            "\tfastqc seqfile1 seqfile2 .. seqfileN\n",
            "\n",
            "    fastqc [-o output dir] [--(no)extract] [-f fastq|bam|sam] \n",
            "           [-c contaminant file] seqfile1 .. seqfileN\n",
            "\n",
            "DESCRIPTION\n",
            "\n",
            "    FastQC reads a set of sequence files and produces from each one a quality\n",
            "    control report consisting of a number of different modules, each one of \n",
            "    which will help to identify a different potential type of problem in your\n",
            "    data.\n",
            "    \n",
            "    If no files to process are specified on the command line then the program\n",
            "    will start as an interactive graphical application.  If files are provided\n",
            "    on the command line then the program will run with no user interaction\n",
            "    required.  In this mode it is suitable for inclusion into a standardised\n",
            "    analysis pipeline.\n",
            "    \n",
            "    The options for the program as as follows:\n",
            "    \n",
            "    -h --help       Print this help file and exit\n",
            "    \n",
            "    -v --version    Print the version of the program and exit\n",
            "    \n",
            "    -o --outdir     Create all output files in the specified output directory.\n",
            "                    Please note that this directory must exist as the program\n",
            "                    will not create it.  If this option is not set then the \n",
            "                    output file for each sequence file is created in the same\n",
            "                    directory as the sequence file which was processed.\n",
            "                    \n",
            "    --casava        Files come from raw casava output. Files in the same sample\n",
            "                    group (differing only by the group number) will be analysed\n",
            "                    as a set rather than individually. Sequences with the filter\n",
            "                    flag set in the header will be excluded from the analysis.\n",
            "                    Files must have the same names given to them by casava\n",
            "                    (including being gzipped and ending with .gz) otherwise they\n",
            "                    won't be grouped together correctly.\n",
            "                    \n",
            "    --nano          Files come from nanopore sequences and are in fast5 format. In\n",
            "                    this mode you can pass in directories to process and the program\n",
            "                    will take in all fast5 files within those directories and produce\n",
            "                    a single output file from the sequences found in all files.                    \n",
            "                    \n",
            "    --nofilter      If running with --casava then don't remove read flagged by\n",
            "                    casava as poor quality when performing the QC analysis.\n",
            "                   \n",
            "    --extract       If set then the zipped output file will be uncompressed in\n",
            "                    the same directory after it has been created.  By default\n",
            "                    this option will be set if fastqc is run in non-interactive\n",
            "                    mode.\n",
            "                    \n",
            "    -j --java       Provides the full path to the java binary you want to use to\n",
            "                    launch fastqc. If not supplied then java is assumed to be in\n",
            "                    your path.\n",
            "                   \n",
            "    --noextract     Do not uncompress the output file after creating it.  You\n",
            "                    should set this option if you do not wish to uncompress\n",
            "                    the output when running in non-interactive mode.\n",
            "                    \n",
            "    --nogroup       Disable grouping of bases for reads >50bp. All reports will\n",
            "                    show data for every base in the read.  WARNING: Using this\n",
            "                    option will cause fastqc to crash and burn if you use it on\n",
            "                    really long reads, and your plots may end up a ridiculous size.\n",
            "                    You have been warned!\n",
            "                    \n",
            "    --min_length    Sets an artificial lower limit on the length of the sequence\n",
            "                    to be shown in the report.  As long as you set this to a value\n",
            "                    greater or equal to your longest read length then this will be\n",
            "                    the sequence length used to create your read groups.  This can\n",
            "                    be useful for making directly comaparable statistics from \n",
            "                    datasets with somewhat variable read lengths.\n",
            "                    \n",
            "    -f --format     Bypasses the normal sequence file format detection and\n",
            "                    forces the program to use the specified format.  Valid\n",
            "                    formats are bam,sam,bam_mapped,sam_mapped and fastq\n",
            "                    \n",
            "    -t --threads    Specifies the number of files which can be processed\n",
            "                    simultaneously.  Each thread will be allocated 250MB of\n",
            "                    memory so you shouldn't run more threads than your\n",
            "                    available memory will cope with, and not more than\n",
            "                    6 threads on a 32 bit machine\n",
            "                  \n",
            "    -c              Specifies a non-default file which contains the list of\n",
            "    --contaminants  contaminants to screen overrepresented sequences against.\n",
            "                    The file must contain sets of named contaminants in the\n",
            "                    form name[tab]sequence.  Lines prefixed with a hash will\n",
            "                    be ignored.\n",
            "\n",
            "    -a              Specifies a non-default file which contains the list of\n",
            "    --adapters      adapter sequences which will be explicity searched against\n",
            "                    the library. The file must contain sets of named adapters\n",
            "                    in the form name[tab]sequence.  Lines prefixed with a hash\n",
            "                    will be ignored.\n",
            "                    \n",
            "    -l              Specifies a non-default file which contains a set of criteria\n",
            "    --limits        which will be used to determine the warn/error limits for the\n",
            "                    various modules.  This file can also be used to selectively \n",
            "                    remove some modules from the output all together.  The format\n",
            "                    needs to mirror the default limits.txt file found in the\n",
            "                    Configuration folder.\n",
            "                    \n",
            "   -k --kmers       Specifies the length of Kmer to look for in the Kmer content\n",
            "                    module. Specified Kmer length must be between 2 and 10. Default\n",
            "                    length is 7 if not specified.\n",
            "                    \n",
            "   -q --quiet       Supress all progress messages on stdout and only report errors.\n",
            "   \n",
            "   -d --dir         Selects a directory to be used for temporary files written when\n",
            "                    generating report images. Defaults to system temp directory if\n",
            "                    not specified.\n",
            "                    \n",
            "BUGS\n",
            "\n",
            "    Any bugs in fastqc should be reported either to simon.andrews@babraham.ac.uk\n",
            "    or in www.bioinformatics.babraham.ac.uk/bugzilla/\n",
            "                   \n",
            "    \n"
          ]
        }
      ]
    },
    {
      "cell_type": "markdown",
      "metadata": {
        "id": "SCi67fISyzVe"
      },
      "source": [
        "## Установка HTSeq-count"
      ]
    },
    {
      "cell_type": "code",
      "metadata": {
        "colab": {
          "base_uri": "https://localhost:8080/",
          "height": 378
        },
        "id": "-9cHWfgsV82y",
        "outputId": "5f9321e9-071f-4c7a-fb58-f490e3b17739"
      },
      "source": [
        "!pip install --upgrade numpy"
      ],
      "execution_count": null,
      "outputs": [
        {
          "name": "stdout",
          "output_type": "stream",
          "text": [
            "Requirement already satisfied: numpy in /usr/local/lib/python3.7/dist-packages (1.19.5)\n",
            "Collecting numpy\n",
            "  Downloading numpy-1.21.4-cp37-cp37m-manylinux_2_12_x86_64.manylinux2010_x86_64.whl (15.7 MB)\n",
            "\u001b[K     |████████████████████████████████| 15.7 MB 28.5 MB/s \n",
            "\u001b[?25hInstalling collected packages: numpy\n",
            "  Attempting uninstall: numpy\n",
            "    Found existing installation: numpy 1.19.5\n",
            "    Uninstalling numpy-1.19.5:\n",
            "      Successfully uninstalled numpy-1.19.5\n",
            "\u001b[31mERROR: pip's dependency resolver does not currently take into account all the packages that are installed. This behaviour is the source of the following dependency conflicts.\n",
            "yellowbrick 1.3.post1 requires numpy<1.20,>=1.16.0, but you have numpy 1.21.4 which is incompatible.\n",
            "datascience 0.10.6 requires folium==0.2.1, but you have folium 0.8.3 which is incompatible.\n",
            "albumentations 0.1.12 requires imgaug<0.2.7,>=0.2.5, but you have imgaug 0.2.9 which is incompatible.\u001b[0m\n",
            "Successfully installed numpy-1.21.4\n"
          ]
        },
        {
          "data": {
            "application/vnd.colab-display-data+json": {
              "pip_warning": {
                "packages": [
                  "numpy"
                ]
              }
            }
          },
          "metadata": {},
          "output_type": "display_data"
        }
      ]
    },
    {
      "cell_type": "code",
      "metadata": {
        "colab": {
          "base_uri": "https://localhost:8080/"
        },
        "id": "OUu7yIXoyzVk",
        "outputId": "c4b85311-caec-413e-dc2c-669b9c6782f6"
      },
      "source": [
        "!pip install HTSeq"
      ],
      "execution_count": null,
      "outputs": [
        {
          "name": "stdout",
          "output_type": "stream",
          "text": [
            "Collecting HTSeq\n",
            "  Downloading HTSeq-1.99.2-cp37-cp37m-manylinux_2_5_x86_64.manylinux1_x86_64.manylinux_2_12_x86_64.manylinux2010_x86_64.whl (1.5 MB)\n",
            "\u001b[?25l\r\u001b[K     |▏                               | 10 kB 25.8 MB/s eta 0:00:01\r\u001b[K     |▍                               | 20 kB 28.7 MB/s eta 0:00:01\r\u001b[K     |▋                               | 30 kB 30.1 MB/s eta 0:00:01\r\u001b[K     |▉                               | 40 kB 33.4 MB/s eta 0:00:01\r\u001b[K     |█                               | 51 kB 36.8 MB/s eta 0:00:01\r\u001b[K     |█▎                              | 61 kB 38.3 MB/s eta 0:00:01\r\u001b[K     |█▌                              | 71 kB 33.7 MB/s eta 0:00:01\r\u001b[K     |█▊                              | 81 kB 35.6 MB/s eta 0:00:01\r\u001b[K     |██                              | 92 kB 37.3 MB/s eta 0:00:01\r\u001b[K     |██▏                             | 102 kB 33.6 MB/s eta 0:00:01\r\u001b[K     |██▍                             | 112 kB 33.6 MB/s eta 0:00:01\r\u001b[K     |██▋                             | 122 kB 33.6 MB/s eta 0:00:01\r\u001b[K     |██▉                             | 133 kB 33.6 MB/s eta 0:00:01\r\u001b[K     |███                             | 143 kB 33.6 MB/s eta 0:00:01\r\u001b[K     |███▏                            | 153 kB 33.6 MB/s eta 0:00:01\r\u001b[K     |███▍                            | 163 kB 33.6 MB/s eta 0:00:01\r\u001b[K     |███▋                            | 174 kB 33.6 MB/s eta 0:00:01\r\u001b[K     |███▉                            | 184 kB 33.6 MB/s eta 0:00:01\r\u001b[K     |████                            | 194 kB 33.6 MB/s eta 0:00:01\r\u001b[K     |████▎                           | 204 kB 33.6 MB/s eta 0:00:01\r\u001b[K     |████▌                           | 215 kB 33.6 MB/s eta 0:00:01\r\u001b[K     |████▊                           | 225 kB 33.6 MB/s eta 0:00:01\r\u001b[K     |█████                           | 235 kB 33.6 MB/s eta 0:00:01\r\u001b[K     |█████▏                          | 245 kB 33.6 MB/s eta 0:00:01\r\u001b[K     |█████▍                          | 256 kB 33.6 MB/s eta 0:00:01\r\u001b[K     |█████▋                          | 266 kB 33.6 MB/s eta 0:00:01\r\u001b[K     |█████▉                          | 276 kB 33.6 MB/s eta 0:00:01\r\u001b[K     |██████                          | 286 kB 33.6 MB/s eta 0:00:01\r\u001b[K     |██████▏                         | 296 kB 33.6 MB/s eta 0:00:01\r\u001b[K     |██████▍                         | 307 kB 33.6 MB/s eta 0:00:01\r\u001b[K     |██████▋                         | 317 kB 33.6 MB/s eta 0:00:01\r\u001b[K     |██████▉                         | 327 kB 33.6 MB/s eta 0:00:01\r\u001b[K     |███████                         | 337 kB 33.6 MB/s eta 0:00:01\r\u001b[K     |███████▎                        | 348 kB 33.6 MB/s eta 0:00:01\r\u001b[K     |███████▌                        | 358 kB 33.6 MB/s eta 0:00:01\r\u001b[K     |███████▊                        | 368 kB 33.6 MB/s eta 0:00:01\r\u001b[K     |████████                        | 378 kB 33.6 MB/s eta 0:00:01\r\u001b[K     |████████▏                       | 389 kB 33.6 MB/s eta 0:00:01\r\u001b[K     |████████▍                       | 399 kB 33.6 MB/s eta 0:00:01\r\u001b[K     |████████▋                       | 409 kB 33.6 MB/s eta 0:00:01\r\u001b[K     |████████▉                       | 419 kB 33.6 MB/s eta 0:00:01\r\u001b[K     |█████████                       | 430 kB 33.6 MB/s eta 0:00:01\r\u001b[K     |█████████▎                      | 440 kB 33.6 MB/s eta 0:00:01\r\u001b[K     |█████████▍                      | 450 kB 33.6 MB/s eta 0:00:01\r\u001b[K     |█████████▋                      | 460 kB 33.6 MB/s eta 0:00:01\r\u001b[K     |█████████▉                      | 471 kB 33.6 MB/s eta 0:00:01\r\u001b[K     |██████████                      | 481 kB 33.6 MB/s eta 0:00:01\r\u001b[K     |██████████▎                     | 491 kB 33.6 MB/s eta 0:00:01\r\u001b[K     |██████████▌                     | 501 kB 33.6 MB/s eta 0:00:01\r\u001b[K     |██████████▊                     | 512 kB 33.6 MB/s eta 0:00:01\r\u001b[K     |███████████                     | 522 kB 33.6 MB/s eta 0:00:01\r\u001b[K     |███████████▏                    | 532 kB 33.6 MB/s eta 0:00:01\r\u001b[K     |███████████▍                    | 542 kB 33.6 MB/s eta 0:00:01\r\u001b[K     |███████████▋                    | 552 kB 33.6 MB/s eta 0:00:01\r\u001b[K     |███████████▉                    | 563 kB 33.6 MB/s eta 0:00:01\r\u001b[K     |████████████                    | 573 kB 33.6 MB/s eta 0:00:01\r\u001b[K     |████████████▎                   | 583 kB 33.6 MB/s eta 0:00:01\r\u001b[K     |████████████▍                   | 593 kB 33.6 MB/s eta 0:00:01\r\u001b[K     |████████████▋                   | 604 kB 33.6 MB/s eta 0:00:01\r\u001b[K     |████████████▉                   | 614 kB 33.6 MB/s eta 0:00:01\r\u001b[K     |█████████████                   | 624 kB 33.6 MB/s eta 0:00:01\r\u001b[K     |█████████████▎                  | 634 kB 33.6 MB/s eta 0:00:01\r\u001b[K     |█████████████▌                  | 645 kB 33.6 MB/s eta 0:00:01\r\u001b[K     |█████████████▊                  | 655 kB 33.6 MB/s eta 0:00:01\r\u001b[K     |██████████████                  | 665 kB 33.6 MB/s eta 0:00:01\r\u001b[K     |██████████████▏                 | 675 kB 33.6 MB/s eta 0:00:01\r\u001b[K     |██████████████▍                 | 686 kB 33.6 MB/s eta 0:00:01\r\u001b[K     |██████████████▋                 | 696 kB 33.6 MB/s eta 0:00:01\r\u001b[K     |██████████████▉                 | 706 kB 33.6 MB/s eta 0:00:01\r\u001b[K     |███████████████                 | 716 kB 33.6 MB/s eta 0:00:01\r\u001b[K     |███████████████▎                | 727 kB 33.6 MB/s eta 0:00:01\r\u001b[K     |███████████████▌                | 737 kB 33.6 MB/s eta 0:00:01\r\u001b[K     |███████████████▋                | 747 kB 33.6 MB/s eta 0:00:01\r\u001b[K     |███████████████▉                | 757 kB 33.6 MB/s eta 0:00:01\r\u001b[K     |████████████████                | 768 kB 33.6 MB/s eta 0:00:01\r\u001b[K     |████████████████▎               | 778 kB 33.6 MB/s eta 0:00:01\r\u001b[K     |████████████████▌               | 788 kB 33.6 MB/s eta 0:00:01\r\u001b[K     |████████████████▊               | 798 kB 33.6 MB/s eta 0:00:01\r\u001b[K     |█████████████████               | 808 kB 33.6 MB/s eta 0:00:01\r\u001b[K     |█████████████████▏              | 819 kB 33.6 MB/s eta 0:00:01\r\u001b[K     |█████████████████▍              | 829 kB 33.6 MB/s eta 0:00:01\r\u001b[K     |█████████████████▋              | 839 kB 33.6 MB/s eta 0:00:01\r\u001b[K     |█████████████████▉              | 849 kB 33.6 MB/s eta 0:00:01\r\u001b[K     |██████████████████              | 860 kB 33.6 MB/s eta 0:00:01\r\u001b[K     |██████████████████▎             | 870 kB 33.6 MB/s eta 0:00:01\r\u001b[K     |██████████████████▌             | 880 kB 33.6 MB/s eta 0:00:01\r\u001b[K     |██████████████████▋             | 890 kB 33.6 MB/s eta 0:00:01\r\u001b[K     |██████████████████▉             | 901 kB 33.6 MB/s eta 0:00:01\r\u001b[K     |███████████████████             | 911 kB 33.6 MB/s eta 0:00:01\r\u001b[K     |███████████████████▎            | 921 kB 33.6 MB/s eta 0:00:01\r\u001b[K     |███████████████████▌            | 931 kB 33.6 MB/s eta 0:00:01\r\u001b[K     |███████████████████▊            | 942 kB 33.6 MB/s eta 0:00:01\r\u001b[K     |████████████████████            | 952 kB 33.6 MB/s eta 0:00:01\r\u001b[K     |████████████████████▏           | 962 kB 33.6 MB/s eta 0:00:01\r\u001b[K     |████████████████████▍           | 972 kB 33.6 MB/s eta 0:00:01\r\u001b[K     |████████████████████▋           | 983 kB 33.6 MB/s eta 0:00:01\r\u001b[K     |████████████████████▉           | 993 kB 33.6 MB/s eta 0:00:01\r\u001b[K     |█████████████████████           | 1.0 MB 33.6 MB/s eta 0:00:01\r\u001b[K     |█████████████████████▎          | 1.0 MB 33.6 MB/s eta 0:00:01\r\u001b[K     |█████████████████████▌          | 1.0 MB 33.6 MB/s eta 0:00:01\r\u001b[K     |█████████████████████▋          | 1.0 MB 33.6 MB/s eta 0:00:01\r\u001b[K     |█████████████████████▉          | 1.0 MB 33.6 MB/s eta 0:00:01\r\u001b[K     |██████████████████████          | 1.1 MB 33.6 MB/s eta 0:00:01\r\u001b[K     |██████████████████████▎         | 1.1 MB 33.6 MB/s eta 0:00:01\r\u001b[K     |██████████████████████▌         | 1.1 MB 33.6 MB/s eta 0:00:01\r\u001b[K     |██████████████████████▊         | 1.1 MB 33.6 MB/s eta 0:00:01\r\u001b[K     |███████████████████████         | 1.1 MB 33.6 MB/s eta 0:00:01\r\u001b[K     |███████████████████████▏        | 1.1 MB 33.6 MB/s eta 0:00:01\r\u001b[K     |███████████████████████▍        | 1.1 MB 33.6 MB/s eta 0:00:01\r\u001b[K     |███████████████████████▋        | 1.1 MB 33.6 MB/s eta 0:00:01\r\u001b[K     |███████████████████████▉        | 1.1 MB 33.6 MB/s eta 0:00:01\r\u001b[K     |████████████████████████        | 1.1 MB 33.6 MB/s eta 0:00:01\r\u001b[K     |████████████████████████▎       | 1.2 MB 33.6 MB/s eta 0:00:01\r\u001b[K     |████████████████████████▌       | 1.2 MB 33.6 MB/s eta 0:00:01\r\u001b[K     |████████████████████████▊       | 1.2 MB 33.6 MB/s eta 0:00:01\r\u001b[K     |████████████████████████▉       | 1.2 MB 33.6 MB/s eta 0:00:01\r\u001b[K     |█████████████████████████       | 1.2 MB 33.6 MB/s eta 0:00:01\r\u001b[K     |█████████████████████████▎      | 1.2 MB 33.6 MB/s eta 0:00:01\r\u001b[K     |█████████████████████████▌      | 1.2 MB 33.6 MB/s eta 0:00:01\r\u001b[K     |█████████████████████████▊      | 1.2 MB 33.6 MB/s eta 0:00:01\r\u001b[K     |██████████████████████████      | 1.2 MB 33.6 MB/s eta 0:00:01\r\u001b[K     |██████████████████████████▏     | 1.2 MB 33.6 MB/s eta 0:00:01\r\u001b[K     |██████████████████████████▍     | 1.3 MB 33.6 MB/s eta 0:00:01\r\u001b[K     |██████████████████████████▋     | 1.3 MB 33.6 MB/s eta 0:00:01\r\u001b[K     |██████████████████████████▉     | 1.3 MB 33.6 MB/s eta 0:00:01\r\u001b[K     |███████████████████████████     | 1.3 MB 33.6 MB/s eta 0:00:01\r\u001b[K     |███████████████████████████▎    | 1.3 MB 33.6 MB/s eta 0:00:01\r\u001b[K     |███████████████████████████▌    | 1.3 MB 33.6 MB/s eta 0:00:01\r\u001b[K     |███████████████████████████▊    | 1.3 MB 33.6 MB/s eta 0:00:01\r\u001b[K     |███████████████████████████▉    | 1.3 MB 33.6 MB/s eta 0:00:01\r\u001b[K     |████████████████████████████    | 1.3 MB 33.6 MB/s eta 0:00:01\r\u001b[K     |████████████████████████████▎   | 1.4 MB 33.6 MB/s eta 0:00:01\r\u001b[K     |████████████████████████████▌   | 1.4 MB 33.6 MB/s eta 0:00:01\r\u001b[K     |████████████████████████████▊   | 1.4 MB 33.6 MB/s eta 0:00:01\r\u001b[K     |█████████████████████████████   | 1.4 MB 33.6 MB/s eta 0:00:01\r\u001b[K     |█████████████████████████████▏  | 1.4 MB 33.6 MB/s eta 0:00:01\r\u001b[K     |█████████████████████████████▍  | 1.4 MB 33.6 MB/s eta 0:00:01\r\u001b[K     |█████████████████████████████▋  | 1.4 MB 33.6 MB/s eta 0:00:01\r\u001b[K     |█████████████████████████████▉  | 1.4 MB 33.6 MB/s eta 0:00:01\r\u001b[K     |██████████████████████████████  | 1.4 MB 33.6 MB/s eta 0:00:01\r\u001b[K     |██████████████████████████████▎ | 1.4 MB 33.6 MB/s eta 0:00:01\r\u001b[K     |██████████████████████████████▌ | 1.5 MB 33.6 MB/s eta 0:00:01\r\u001b[K     |██████████████████████████████▊ | 1.5 MB 33.6 MB/s eta 0:00:01\r\u001b[K     |███████████████████████████████ | 1.5 MB 33.6 MB/s eta 0:00:01\r\u001b[K     |███████████████████████████████ | 1.5 MB 33.6 MB/s eta 0:00:01\r\u001b[K     |███████████████████████████████▎| 1.5 MB 33.6 MB/s eta 0:00:01\r\u001b[K     |███████████████████████████████▌| 1.5 MB 33.6 MB/s eta 0:00:01\r\u001b[K     |███████████████████████████████▊| 1.5 MB 33.6 MB/s eta 0:00:01\r\u001b[K     |████████████████████████████████| 1.5 MB 33.6 MB/s eta 0:00:01\r\u001b[K     |████████████████████████████████| 1.5 MB 33.6 MB/s \n",
            "\u001b[?25hCollecting pysam\n",
            "  Downloading pysam-0.18.0-cp37-cp37m-manylinux_2_12_x86_64.manylinux2010_x86_64.whl (14.9 MB)\n",
            "\u001b[K     |████████████████████████████████| 14.9 MB 67.4 MB/s \n",
            "\u001b[?25hRequirement already satisfied: numpy in /usr/local/lib/python3.7/dist-packages (from HTSeq) (1.21.4)\n",
            "Installing collected packages: pysam, HTSeq\n",
            "Successfully installed HTSeq-1.99.2 pysam-0.18.0\n"
          ]
        }
      ]
    },
    {
      "cell_type": "code",
      "metadata": {
        "colab": {
          "base_uri": "https://localhost:8080/"
        },
        "id": "Uynys45HyzVp",
        "outputId": "5f0e9bea-b781-4a1e-ff12-1d42b6d4f073"
      },
      "source": [
        "!htseq-count --version"
      ],
      "execution_count": null,
      "outputs": [
        {
          "name": "stdout",
          "output_type": "stream",
          "text": [
            "1.99.2\n"
          ]
        }
      ]
    },
    {
      "cell_type": "markdown",
      "metadata": {
        "id": "I6MhDf5N2tQ3"
      },
      "source": [
        "## Скачиваем RNA-seq данные"
      ]
    },
    {
      "cell_type": "markdown",
      "metadata": {
        "id": "LicIlxo028wE"
      },
      "source": [
        "* Перепрограммированные образцы: \tSRR3414629, SRR3414630, SRR3414631\n",
        "* Контрольные образцы:\t\tSRR3414635, SRR3414636, SRR3414637\n",
        "\n",
        "**Один образец скачивается 5-10 мин!!**"
      ]
    },
    {
      "cell_type": "code",
      "metadata": {
        "colab": {
          "base_uri": "https://localhost:8080/"
        },
        "id": "cbpsluxrPe7A",
        "outputId": "0862cf74-c6ed-474a-b4d6-b4b0742747eb"
      },
      "source": [
        "!time  fastq-dump  --split-files  SRR3414629"
      ],
      "execution_count": null,
      "outputs": [
        {
          "name": "stdout",
          "output_type": "stream",
          "text": [
            "Read 21106089 spots for SRR3414629\n",
            "Written 21106089 spots for SRR3414629\n",
            "\n",
            "real\t3m44.113s\n",
            "user\t2m55.676s\n",
            "sys\t0m10.563s\n"
          ]
        }
      ]
    },
    {
      "cell_type": "code",
      "metadata": {
        "colab": {
          "base_uri": "https://localhost:8080/"
        },
        "id": "8Be-y5aXP330",
        "outputId": "5105b77e-7d87-47ee-d4e4-1f092ae9a669"
      },
      "source": [
        "!time  fastq-dump  --split-files  SRR3414630"
      ],
      "execution_count": null,
      "outputs": [
        {
          "name": "stdout",
          "output_type": "stream",
          "text": [
            "Read 15244711 spots for SRR3414630\n",
            "Written 15244711 spots for SRR3414630\n",
            "\n",
            "real\t2m37.929s\n",
            "user\t2m7.239s\n",
            "sys\t0m5.561s\n"
          ]
        }
      ]
    },
    {
      "cell_type": "code",
      "metadata": {
        "colab": {
          "base_uri": "https://localhost:8080/"
        },
        "id": "3J10E3UvP4TR",
        "outputId": "e2e9b8e0-8b26-49ce-df00-dfc69f309b9e"
      },
      "source": [
        "!time  fastq-dump  --split-files  SRR3414631"
      ],
      "execution_count": null,
      "outputs": [
        {
          "name": "stdout",
          "output_type": "stream",
          "text": [
            "Read 24244069 spots for SRR3414631\n",
            "Written 24244069 spots for SRR3414631\n",
            "\n",
            "real\t4m22.304s\n",
            "user\t3m23.684s\n",
            "sys\t0m10.543s\n"
          ]
        }
      ]
    },
    {
      "cell_type": "code",
      "metadata": {
        "colab": {
          "base_uri": "https://localhost:8080/"
        },
        "id": "IXDDa9byd3eG",
        "outputId": "e7bb7862-15b9-4e94-fa41-a85a8f8e17c0"
      },
      "source": [
        "!time  fastq-dump  --split-files  SRR3414635"
      ],
      "execution_count": null,
      "outputs": [
        {
          "name": "stdout",
          "output_type": "stream",
          "text": [
            "Read 20956475 spots for SRR3414635\n",
            "Written 20956475 spots for SRR3414635\n",
            "\n",
            "real\t3m39.030s\n",
            "user\t2m53.735s\n",
            "sys\t0m7.368s\n"
          ]
        }
      ]
    },
    {
      "cell_type": "code",
      "metadata": {
        "colab": {
          "base_uri": "https://localhost:8080/"
        },
        "id": "yUdy_VP2d3nb",
        "outputId": "381507ef-e80b-41c8-864c-9060930164ce"
      },
      "source": [
        "!time  fastq-dump  --split-files  SRR3414636"
      ],
      "execution_count": null,
      "outputs": [
        {
          "name": "stdout",
          "output_type": "stream",
          "text": [
            "Read 20307147 spots for SRR3414636\n",
            "Written 20307147 spots for SRR3414636\n",
            "\n",
            "real\t3m35.956s\n",
            "user\t2m50.339s\n",
            "sys\t0m9.219s\n"
          ]
        }
      ]
    },
    {
      "cell_type": "code",
      "metadata": {
        "colab": {
          "base_uri": "https://localhost:8080/"
        },
        "id": "OdTChmcod3wV",
        "outputId": "0fb39fc7-7bd6-4811-96e7-0eafb310b64f"
      },
      "source": [
        "!time  fastq-dump  --split-files  SRR3414637"
      ],
      "execution_count": null,
      "outputs": [
        {
          "output_type": "stream",
          "name": "stdout",
          "text": [
            "Read 20385570 spots for SRR3414637\n",
            "Written 20385570 spots for SRR3414637\n",
            "\n",
            "real\t3m40.194s\n",
            "user\t2m53.743s\n",
            "sys\t0m8.982s\n"
          ]
        }
      ]
    },
    {
      "cell_type": "markdown",
      "metadata": {
        "id": "HAn1rivS0BME"
      },
      "source": [
        "## Скачиваем геном мыши mm10 (проиндексированный для HISAT2)"
      ]
    },
    {
      "cell_type": "code",
      "metadata": {
        "id": "wWfSQMGZ03Ch",
        "colab": {
          "base_uri": "https://localhost:8080/"
        },
        "outputId": "34dcad68-4b0d-4ee7-e4cf-398114b82f55"
      },
      "source": [
        "!wget https://genome-idx.s3.amazonaws.com/hisat/mm10_genome.tar.gz"
      ],
      "execution_count": null,
      "outputs": [
        {
          "output_type": "stream",
          "name": "stdout",
          "text": [
            "--2021-11-28 12:46:52--  https://genome-idx.s3.amazonaws.com/hisat/mm10_genome.tar.gz\n",
            "Resolving genome-idx.s3.amazonaws.com (genome-idx.s3.amazonaws.com)... 52.217.42.132\n",
            "Connecting to genome-idx.s3.amazonaws.com (genome-idx.s3.amazonaws.com)|52.217.42.132|:443... connected.\n",
            "HTTP request sent, awaiting response... 200 OK\n",
            "Length: 3804366597 (3.5G) [binary/octet-stream]\n",
            "Saving to: ‘mm10_genome.tar.gz’\n",
            "\n",
            "mm10_genome.tar.gz  100%[===================>]   3.54G  30.1MB/s    in 1m 50s  \n",
            "\n",
            "2021-11-28 12:48:43 (32.9 MB/s) - ‘mm10_genome.tar.gz’ saved [3804366597/3804366597]\n",
            "\n"
          ]
        }
      ]
    },
    {
      "cell_type": "code",
      "metadata": {
        "id": "9IKaXKp7eLjq",
        "colab": {
          "base_uri": "https://localhost:8080/"
        },
        "outputId": "ff703e57-030b-4235-f95f-8004db83b16c"
      },
      "source": [
        "!tar -xzvf mm10_genome.tar.gz"
      ],
      "execution_count": null,
      "outputs": [
        {
          "output_type": "stream",
          "name": "stdout",
          "text": [
            "mm10/\n",
            "mm10/genome.8.ht2\n",
            "mm10/genome.5.ht2\n",
            "mm10/make_mm10.sh\n",
            "mm10/genome.7.ht2\n",
            "mm10/genome.6.ht2\n",
            "mm10/genome.4.ht2\n",
            "mm10/genome.3.ht2\n",
            "mm10/genome.1.ht2\n",
            "mm10/genome.2.ht2\n"
          ]
        }
      ]
    },
    {
      "cell_type": "markdown",
      "metadata": {
        "id": "sGULD5P70tvT"
      },
      "source": [
        "## Скачиваем аннотацию генов GENCODE для генома мыши mm10"
      ]
    },
    {
      "cell_type": "code",
      "metadata": {
        "id": "P8SxMZMC3Aw-",
        "colab": {
          "base_uri": "https://localhost:8080/"
        },
        "outputId": "742dd82e-245f-46ea-bb1e-bd69b9c01fe6"
      },
      "source": [
        "!wget http://ftp.ebi.ac.uk/pub/databases/gencode/Gencode_mouse/release_M25/gencode.vM25.annotation.gtf.gz"
      ],
      "execution_count": null,
      "outputs": [
        {
          "output_type": "stream",
          "name": "stdout",
          "text": [
            "--2021-11-28 12:51:06--  http://ftp.ebi.ac.uk/pub/databases/gencode/Gencode_mouse/release_M25/gencode.vM25.annotation.gtf.gz\n",
            "Resolving ftp.ebi.ac.uk (ftp.ebi.ac.uk)... 193.62.193.138\n",
            "Connecting to ftp.ebi.ac.uk (ftp.ebi.ac.uk)|193.62.193.138|:80... connected.\n",
            "HTTP request sent, awaiting response... 200 OK\n",
            "Length: 28542432 (27M) [application/octet-stream]\n",
            "Saving to: ‘gencode.vM25.annotation.gtf.gz’\n",
            "\n",
            "gencode.vM25.annota 100%[===================>]  27.22M   791KB/s    in 36s     \n",
            "\n",
            "2021-11-28 12:51:41 (782 KB/s) - ‘gencode.vM25.annotation.gtf.gz’ saved [28542432/28542432]\n",
            "\n"
          ]
        }
      ]
    },
    {
      "cell_type": "code",
      "metadata": {
        "id": "K9RerBtX8iFF"
      },
      "source": [
        "!gzip -d gencode.vM25.annotation.gtf.gz"
      ],
      "execution_count": null,
      "outputs": []
    },
    {
      "cell_type": "markdown",
      "metadata": {
        "id": "GG2vRkSj0Cyp"
      },
      "source": [
        "# Скачиваем multiQC"
      ]
    },
    {
      "cell_type": "code",
      "metadata": {
        "colab": {
          "base_uri": "https://localhost:8080/"
        },
        "id": "0vgqFf4z0cE4",
        "outputId": "bc9bce6c-4be0-4914-a2e7-15c753855519"
      },
      "source": [
        "!python -V"
      ],
      "execution_count": null,
      "outputs": [
        {
          "output_type": "stream",
          "name": "stdout",
          "text": [
            "Python 3.7.12\n"
          ]
        }
      ]
    },
    {
      "cell_type": "code",
      "metadata": {
        "colab": {
          "base_uri": "https://localhost:8080/"
        },
        "id": "7JFwyDnF0gw3",
        "outputId": "a67f43da-2b26-4651-c38e-6cd6b61e250a"
      },
      "source": [
        "!pip install multiqc"
      ],
      "execution_count": null,
      "outputs": [
        {
          "output_type": "stream",
          "name": "stdout",
          "text": [
            "Collecting multiqc\n",
            "  Downloading multiqc-1.11-py3-none-any.whl (1.2 MB)\n",
            "\u001b[?25l\r\u001b[K     |▎                               | 10 kB 21.7 MB/s eta 0:00:01\r\u001b[K     |▌                               | 20 kB 28.0 MB/s eta 0:00:01\r\u001b[K     |▉                               | 30 kB 31.8 MB/s eta 0:00:01\r\u001b[K     |█                               | 40 kB 21.0 MB/s eta 0:00:01\r\u001b[K     |█▍                              | 51 kB 20.2 MB/s eta 0:00:01\r\u001b[K     |█▋                              | 61 kB 22.0 MB/s eta 0:00:01\r\u001b[K     |██                              | 71 kB 21.4 MB/s eta 0:00:01\r\u001b[K     |██▏                             | 81 kB 22.2 MB/s eta 0:00:01\r\u001b[K     |██▌                             | 92 kB 23.0 MB/s eta 0:00:01\r\u001b[K     |██▊                             | 102 kB 24.7 MB/s eta 0:00:01\r\u001b[K     |███                             | 112 kB 24.7 MB/s eta 0:00:01\r\u001b[K     |███▎                            | 122 kB 24.7 MB/s eta 0:00:01\r\u001b[K     |███▋                            | 133 kB 24.7 MB/s eta 0:00:01\r\u001b[K     |███▉                            | 143 kB 24.7 MB/s eta 0:00:01\r\u001b[K     |████                            | 153 kB 24.7 MB/s eta 0:00:01\r\u001b[K     |████▍                           | 163 kB 24.7 MB/s eta 0:00:01\r\u001b[K     |████▋                           | 174 kB 24.7 MB/s eta 0:00:01\r\u001b[K     |█████                           | 184 kB 24.7 MB/s eta 0:00:01\r\u001b[K     |█████▏                          | 194 kB 24.7 MB/s eta 0:00:01\r\u001b[K     |█████▌                          | 204 kB 24.7 MB/s eta 0:00:01\r\u001b[K     |█████▊                          | 215 kB 24.7 MB/s eta 0:00:01\r\u001b[K     |██████                          | 225 kB 24.7 MB/s eta 0:00:01\r\u001b[K     |██████▎                         | 235 kB 24.7 MB/s eta 0:00:01\r\u001b[K     |██████▋                         | 245 kB 24.7 MB/s eta 0:00:01\r\u001b[K     |██████▉                         | 256 kB 24.7 MB/s eta 0:00:01\r\u001b[K     |███████▏                        | 266 kB 24.7 MB/s eta 0:00:01\r\u001b[K     |███████▍                        | 276 kB 24.7 MB/s eta 0:00:01\r\u001b[K     |███████▊                        | 286 kB 24.7 MB/s eta 0:00:01\r\u001b[K     |████████                        | 296 kB 24.7 MB/s eta 0:00:01\r\u001b[K     |████████▏                       | 307 kB 24.7 MB/s eta 0:00:01\r\u001b[K     |████████▌                       | 317 kB 24.7 MB/s eta 0:00:01\r\u001b[K     |████████▊                       | 327 kB 24.7 MB/s eta 0:00:01\r\u001b[K     |█████████                       | 337 kB 24.7 MB/s eta 0:00:01\r\u001b[K     |█████████▎                      | 348 kB 24.7 MB/s eta 0:00:01\r\u001b[K     |█████████▋                      | 358 kB 24.7 MB/s eta 0:00:01\r\u001b[K     |█████████▉                      | 368 kB 24.7 MB/s eta 0:00:01\r\u001b[K     |██████████▏                     | 378 kB 24.7 MB/s eta 0:00:01\r\u001b[K     |██████████▍                     | 389 kB 24.7 MB/s eta 0:00:01\r\u001b[K     |██████████▊                     | 399 kB 24.7 MB/s eta 0:00:01\r\u001b[K     |███████████                     | 409 kB 24.7 MB/s eta 0:00:01\r\u001b[K     |███████████▎                    | 419 kB 24.7 MB/s eta 0:00:01\r\u001b[K     |███████████▌                    | 430 kB 24.7 MB/s eta 0:00:01\r\u001b[K     |███████████▊                    | 440 kB 24.7 MB/s eta 0:00:01\r\u001b[K     |████████████                    | 450 kB 24.7 MB/s eta 0:00:01\r\u001b[K     |████████████▎                   | 460 kB 24.7 MB/s eta 0:00:01\r\u001b[K     |████████████▋                   | 471 kB 24.7 MB/s eta 0:00:01\r\u001b[K     |████████████▉                   | 481 kB 24.7 MB/s eta 0:00:01\r\u001b[K     |█████████████▏                  | 491 kB 24.7 MB/s eta 0:00:01\r\u001b[K     |█████████████▍                  | 501 kB 24.7 MB/s eta 0:00:01\r\u001b[K     |█████████████▊                  | 512 kB 24.7 MB/s eta 0:00:01\r\u001b[K     |██████████████                  | 522 kB 24.7 MB/s eta 0:00:01\r\u001b[K     |██████████████▎                 | 532 kB 24.7 MB/s eta 0:00:01\r\u001b[K     |██████████████▌                 | 542 kB 24.7 MB/s eta 0:00:01\r\u001b[K     |██████████████▉                 | 552 kB 24.7 MB/s eta 0:00:01\r\u001b[K     |███████████████                 | 563 kB 24.7 MB/s eta 0:00:01\r\u001b[K     |███████████████▍                | 573 kB 24.7 MB/s eta 0:00:01\r\u001b[K     |███████████████▋                | 583 kB 24.7 MB/s eta 0:00:01\r\u001b[K     |███████████████▉                | 593 kB 24.7 MB/s eta 0:00:01\r\u001b[K     |████████████████▏               | 604 kB 24.7 MB/s eta 0:00:01\r\u001b[K     |████████████████▍               | 614 kB 24.7 MB/s eta 0:00:01\r\u001b[K     |████████████████▊               | 624 kB 24.7 MB/s eta 0:00:01\r\u001b[K     |█████████████████               | 634 kB 24.7 MB/s eta 0:00:01\r\u001b[K     |█████████████████▎              | 645 kB 24.7 MB/s eta 0:00:01\r\u001b[K     |█████████████████▌              | 655 kB 24.7 MB/s eta 0:00:01\r\u001b[K     |█████████████████▉              | 665 kB 24.7 MB/s eta 0:00:01\r\u001b[K     |██████████████████              | 675 kB 24.7 MB/s eta 0:00:01\r\u001b[K     |██████████████████▍             | 686 kB 24.7 MB/s eta 0:00:01\r\u001b[K     |██████████████████▋             | 696 kB 24.7 MB/s eta 0:00:01\r\u001b[K     |███████████████████             | 706 kB 24.7 MB/s eta 0:00:01\r\u001b[K     |███████████████████▏            | 716 kB 24.7 MB/s eta 0:00:01\r\u001b[K     |███████████████████▌            | 727 kB 24.7 MB/s eta 0:00:01\r\u001b[K     |███████████████████▊            | 737 kB 24.7 MB/s eta 0:00:01\r\u001b[K     |████████████████████            | 747 kB 24.7 MB/s eta 0:00:01\r\u001b[K     |████████████████████▎           | 757 kB 24.7 MB/s eta 0:00:01\r\u001b[K     |████████████████████▌           | 768 kB 24.7 MB/s eta 0:00:01\r\u001b[K     |████████████████████▉           | 778 kB 24.7 MB/s eta 0:00:01\r\u001b[K     |█████████████████████           | 788 kB 24.7 MB/s eta 0:00:01\r\u001b[K     |█████████████████████▍          | 798 kB 24.7 MB/s eta 0:00:01\r\u001b[K     |█████████████████████▋          | 808 kB 24.7 MB/s eta 0:00:01\r\u001b[K     |██████████████████████          | 819 kB 24.7 MB/s eta 0:00:01\r\u001b[K     |██████████████████████▏         | 829 kB 24.7 MB/s eta 0:00:01\r\u001b[K     |██████████████████████▌         | 839 kB 24.7 MB/s eta 0:00:01\r\u001b[K     |██████████████████████▊         | 849 kB 24.7 MB/s eta 0:00:01\r\u001b[K     |███████████████████████         | 860 kB 24.7 MB/s eta 0:00:01\r\u001b[K     |███████████████████████▎        | 870 kB 24.7 MB/s eta 0:00:01\r\u001b[K     |███████████████████████▌        | 880 kB 24.7 MB/s eta 0:00:01\r\u001b[K     |███████████████████████▉        | 890 kB 24.7 MB/s eta 0:00:01\r\u001b[K     |████████████████████████        | 901 kB 24.7 MB/s eta 0:00:01\r\u001b[K     |████████████████████████▍       | 911 kB 24.7 MB/s eta 0:00:01\r\u001b[K     |████████████████████████▋       | 921 kB 24.7 MB/s eta 0:00:01\r\u001b[K     |█████████████████████████       | 931 kB 24.7 MB/s eta 0:00:01\r\u001b[K     |█████████████████████████▏      | 942 kB 24.7 MB/s eta 0:00:01\r\u001b[K     |█████████████████████████▌      | 952 kB 24.7 MB/s eta 0:00:01\r\u001b[K     |█████████████████████████▊      | 962 kB 24.7 MB/s eta 0:00:01\r\u001b[K     |██████████████████████████      | 972 kB 24.7 MB/s eta 0:00:01\r\u001b[K     |██████████████████████████▎     | 983 kB 24.7 MB/s eta 0:00:01\r\u001b[K     |██████████████████████████▋     | 993 kB 24.7 MB/s eta 0:00:01\r\u001b[K     |██████████████████████████▉     | 1.0 MB 24.7 MB/s eta 0:00:01\r\u001b[K     |███████████████████████████▏    | 1.0 MB 24.7 MB/s eta 0:00:01\r\u001b[K     |███████████████████████████▍    | 1.0 MB 24.7 MB/s eta 0:00:01\r\u001b[K     |███████████████████████████▋    | 1.0 MB 24.7 MB/s eta 0:00:01\r\u001b[K     |████████████████████████████    | 1.0 MB 24.7 MB/s eta 0:00:01\r\u001b[K     |████████████████████████████▏   | 1.1 MB 24.7 MB/s eta 0:00:01\r\u001b[K     |████████████████████████████▌   | 1.1 MB 24.7 MB/s eta 0:00:01\r\u001b[K     |████████████████████████████▊   | 1.1 MB 24.7 MB/s eta 0:00:01\r\u001b[K     |█████████████████████████████   | 1.1 MB 24.7 MB/s eta 0:00:01\r\u001b[K     |█████████████████████████████▎  | 1.1 MB 24.7 MB/s eta 0:00:01\r\u001b[K     |█████████████████████████████▋  | 1.1 MB 24.7 MB/s eta 0:00:01\r\u001b[K     |█████████████████████████████▉  | 1.1 MB 24.7 MB/s eta 0:00:01\r\u001b[K     |██████████████████████████████▏ | 1.1 MB 24.7 MB/s eta 0:00:01\r\u001b[K     |██████████████████████████████▍ | 1.1 MB 24.7 MB/s eta 0:00:01\r\u001b[K     |██████████████████████████████▊ | 1.1 MB 24.7 MB/s eta 0:00:01\r\u001b[K     |███████████████████████████████ | 1.2 MB 24.7 MB/s eta 0:00:01\r\u001b[K     |███████████████████████████████▏| 1.2 MB 24.7 MB/s eta 0:00:01\r\u001b[K     |███████████████████████████████▌| 1.2 MB 24.7 MB/s eta 0:00:01\r\u001b[K     |███████████████████████████████▊| 1.2 MB 24.7 MB/s eta 0:00:01\r\u001b[K     |████████████████████████████████| 1.2 MB 24.7 MB/s \n",
            "\u001b[?25hRequirement already satisfied: networkx>=2.5.1 in /usr/local/lib/python3.7/dist-packages (from multiqc) (2.6.3)\n",
            "Collecting spectra>=0.0.10\n",
            "  Downloading spectra-0.0.11.tar.gz (18 kB)\n",
            "Requirement already satisfied: requests in /usr/local/lib/python3.7/dist-packages (from multiqc) (2.23.0)\n",
            "Collecting simplejson\n",
            "  Downloading simplejson-3.17.6-cp37-cp37m-manylinux_2_5_x86_64.manylinux1_x86_64.manylinux_2_12_x86_64.manylinux2010_x86_64.whl (130 kB)\n",
            "\u001b[K     |████████████████████████████████| 130 kB 63.0 MB/s \n",
            "\u001b[?25hRequirement already satisfied: future>0.14.0 in /usr/local/lib/python3.7/dist-packages (from multiqc) (0.16.0)\n",
            "Collecting coloredlogs\n",
            "  Downloading coloredlogs-15.0.1-py2.py3-none-any.whl (46 kB)\n",
            "\u001b[K     |████████████████████████████████| 46 kB 3.8 MB/s \n",
            "\u001b[?25hRequirement already satisfied: markdown in /usr/local/lib/python3.7/dist-packages (from multiqc) (3.3.6)\n",
            "Collecting rich>=10\n",
            "  Downloading rich-10.14.0-py3-none-any.whl (213 kB)\n",
            "\u001b[K     |████████████████████████████████| 213 kB 58.7 MB/s \n",
            "\u001b[?25hRequirement already satisfied: jinja2>=2.9 in /usr/local/lib/python3.7/dist-packages (from multiqc) (2.11.3)\n",
            "Requirement already satisfied: click in /usr/local/lib/python3.7/dist-packages (from multiqc) (7.1.2)\n",
            "Collecting lzstring\n",
            "  Downloading lzstring-1.0.4.tar.gz (4.3 kB)\n",
            "Requirement already satisfied: numpy in /usr/local/lib/python3.7/dist-packages (from multiqc) (1.21.4)\n",
            "Collecting pyyaml>=4\n",
            "  Downloading PyYAML-6.0-cp37-cp37m-manylinux_2_5_x86_64.manylinux1_x86_64.manylinux_2_12_x86_64.manylinux2010_x86_64.whl (596 kB)\n",
            "\u001b[K     |████████████████████████████████| 596 kB 44.6 MB/s \n",
            "\u001b[?25hRequirement already satisfied: matplotlib>=2.1.1 in /usr/local/lib/python3.7/dist-packages (from multiqc) (3.2.2)\n",
            "Requirement already satisfied: MarkupSafe>=0.23 in /usr/local/lib/python3.7/dist-packages (from jinja2>=2.9->multiqc) (2.0.1)\n",
            "Requirement already satisfied: kiwisolver>=1.0.1 in /usr/local/lib/python3.7/dist-packages (from matplotlib>=2.1.1->multiqc) (1.3.2)\n",
            "Requirement already satisfied: python-dateutil>=2.1 in /usr/local/lib/python3.7/dist-packages (from matplotlib>=2.1.1->multiqc) (2.8.2)\n",
            "Requirement already satisfied: pyparsing!=2.0.4,!=2.1.2,!=2.1.6,>=2.0.1 in /usr/local/lib/python3.7/dist-packages (from matplotlib>=2.1.1->multiqc) (3.0.6)\n",
            "Requirement already satisfied: cycler>=0.10 in /usr/local/lib/python3.7/dist-packages (from matplotlib>=2.1.1->multiqc) (0.11.0)\n",
            "Requirement already satisfied: six>=1.5 in /usr/local/lib/python3.7/dist-packages (from python-dateutil>=2.1->matplotlib>=2.1.1->multiqc) (1.15.0)\n",
            "Requirement already satisfied: typing-extensions<5.0,>=3.7.4 in /usr/local/lib/python3.7/dist-packages (from rich>=10->multiqc) (3.10.0.2)\n",
            "Requirement already satisfied: pygments<3.0.0,>=2.6.0 in /usr/local/lib/python3.7/dist-packages (from rich>=10->multiqc) (2.6.1)\n",
            "Collecting colorama<0.5.0,>=0.4.0\n",
            "  Downloading colorama-0.4.4-py2.py3-none-any.whl (16 kB)\n",
            "Collecting commonmark<0.10.0,>=0.9.0\n",
            "  Downloading commonmark-0.9.1-py2.py3-none-any.whl (51 kB)\n",
            "\u001b[K     |████████████████████████████████| 51 kB 6.8 MB/s \n",
            "\u001b[?25hCollecting colormath>=3.0.0\n",
            "  Downloading colormath-3.0.0.tar.gz (39 kB)\n",
            "Collecting humanfriendly>=9.1\n",
            "  Downloading humanfriendly-10.0-py2.py3-none-any.whl (86 kB)\n",
            "\u001b[K     |████████████████████████████████| 86 kB 5.5 MB/s \n",
            "\u001b[?25hRequirement already satisfied: importlib-metadata>=4.4 in /usr/local/lib/python3.7/dist-packages (from markdown->multiqc) (4.8.2)\n",
            "Requirement already satisfied: zipp>=0.5 in /usr/local/lib/python3.7/dist-packages (from importlib-metadata>=4.4->markdown->multiqc) (3.6.0)\n",
            "Requirement already satisfied: certifi>=2017.4.17 in /usr/local/lib/python3.7/dist-packages (from requests->multiqc) (2021.10.8)\n",
            "Requirement already satisfied: chardet<4,>=3.0.2 in /usr/local/lib/python3.7/dist-packages (from requests->multiqc) (3.0.4)\n",
            "Requirement already satisfied: urllib3!=1.25.0,!=1.25.1,<1.26,>=1.21.1 in /usr/local/lib/python3.7/dist-packages (from requests->multiqc) (1.24.3)\n",
            "Requirement already satisfied: idna<3,>=2.5 in /usr/local/lib/python3.7/dist-packages (from requests->multiqc) (2.10)\n",
            "Building wheels for collected packages: spectra, colormath, lzstring\n",
            "  Building wheel for spectra (setup.py) ... \u001b[?25l\u001b[?25hdone\n",
            "  Created wheel for spectra: filename=spectra-0.0.11-py3-none-any.whl size=17488 sha256=0e6f923bf63591cb0b7ff64ca772857065659eeac4c16d24376fd0302bd88d7e\n",
            "  Stored in directory: /root/.cache/pip/wheels/e3/c8/a4/5a566fafff827fcb5741589e42002686bb29990fbc7b262b5e\n",
            "  Building wheel for colormath (setup.py) ... \u001b[?25l\u001b[?25hdone\n",
            "  Created wheel for colormath: filename=colormath-3.0.0-py3-none-any.whl size=39408 sha256=fa163661b9726aecd40440ca645237ba5e6bc2174cda6820dfd8ac957c072822\n",
            "  Stored in directory: /root/.cache/pip/wheels/1a/d7/a7/458a4632ccc8bfe436f5e9db9fef1aa84e5d243a1b4b4c7b59\n",
            "  Building wheel for lzstring (setup.py) ... \u001b[?25l\u001b[?25hdone\n",
            "  Created wheel for lzstring: filename=lzstring-1.0.4-py2.py3-none-any.whl size=4591 sha256=75aa9105ba6b7aeaa3a66546f99b9d829bfaceb536d2e4d3e29c0c87efd1714d\n",
            "  Stored in directory: /root/.cache/pip/wheels/f1/e0/9f/2d1e57842b9e3a9f030519f6ea5e55a21ba7d4f5bcbb4ef578\n",
            "Successfully built spectra colormath lzstring\n",
            "Installing collected packages: humanfriendly, commonmark, colormath, colorama, spectra, simplejson, rich, pyyaml, lzstring, coloredlogs, multiqc\n",
            "  Attempting uninstall: pyyaml\n",
            "    Found existing installation: PyYAML 3.13\n",
            "    Uninstalling PyYAML-3.13:\n",
            "      Successfully uninstalled PyYAML-3.13\n",
            "Successfully installed colorama-0.4.4 coloredlogs-15.0.1 colormath-3.0.0 commonmark-0.9.1 humanfriendly-10.0 lzstring-1.0.4 multiqc-1.11 pyyaml-6.0 rich-10.14.0 simplejson-3.17.6 spectra-0.0.11\n"
          ]
        }
      ]
    },
    {
      "cell_type": "code",
      "metadata": {
        "colab": {
          "base_uri": "https://localhost:8080/"
        },
        "id": "AGsGfdHc0rvU",
        "outputId": "a64a96fa-6331-4b07-95a9-ae2cf4b7c007"
      },
      "source": [
        "!multiqc --version"
      ],
      "execution_count": null,
      "outputs": [
        {
          "output_type": "stream",
          "name": "stdout",
          "text": [
            "multiqc, version 1.11\n"
          ]
        }
      ]
    },
    {
      "cell_type": "markdown",
      "metadata": {
        "id": "zzucvMQkzzs9"
      },
      "source": [
        "# Выравнивание чтений"
      ]
    },
    {
      "cell_type": "markdown",
      "metadata": {
        "id": "TRBfl7NL3xgN"
      },
      "source": [
        "* Для каждого образца запускаем FastQC. Скачиваем полученные html файлы и проверяем есть ли проблемы с файлами. Можно также установить multiqc и получить объединенный .html файл. Полученные результаты приводим в отчете на Github-е.\n",
        "\n"
      ]
    },
    {
      "cell_type": "code",
      "metadata": {
        "id": "P7JIatjlv9pA"
      },
      "source": [
        "!mkdir fastqc"
      ],
      "execution_count": null,
      "outputs": []
    },
    {
      "cell_type": "code",
      "metadata": {
        "colab": {
          "base_uri": "https://localhost:8080/"
        },
        "id": "Sg0i-3VXsdpl",
        "outputId": "29d0d959-b803-482b-ccdc-575cfee73c5a"
      },
      "source": [
        "!ls SRR* | xargs -P 6 -tI{} ./FastQC/fastqc -o fastqc {}"
      ],
      "execution_count": null,
      "outputs": [
        {
          "output_type": "stream",
          "name": "stdout",
          "text": [
            "./FastQC/fastqc -o fastqc SRR3414629_1.fastq \n",
            "./FastQC/fastqc -o fastqc SRR3414630_1.fastq \n",
            "./FastQC/fastqc -o fastqc SRR3414631_1.fastq \n",
            "./FastQC/fastqc -o fastqc SRR3414635_1.fastq \n",
            "./FastQC/fastqc -o fastqc SRR3414636_1.fastq \n",
            "./FastQC/fastqc -o fastqc SRR3414637_1.fastq \n",
            "Started analysis of SRR3414636_1.fastq\n",
            "Started analysis of SRR3414637_1.fastq\n",
            "Started analysis of SRR3414635_1.fastq\n",
            "Started analysis of SRR3414629_1.fastq\n",
            "Started analysis of SRR3414630_1.fastq\n",
            "Started analysis of SRR3414631_1.fastq\n",
            "Approx 5% complete for SRR3414630_1.fastq\n",
            "Approx 5% complete for SRR3414637_1.fastq\n",
            "Approx 5% complete for SRR3414636_1.fastq\n",
            "Approx 5% complete for SRR3414629_1.fastq\n",
            "Approx 5% complete for SRR3414635_1.fastq\n",
            "Approx 5% complete for SRR3414631_1.fastq\n",
            "Approx 10% complete for SRR3414630_1.fastq\n",
            "Approx 10% complete for SRR3414636_1.fastq\n",
            "Approx 10% complete for SRR3414637_1.fastq\n",
            "Approx 10% complete for SRR3414629_1.fastq\n",
            "Approx 10% complete for SRR3414635_1.fastq\n",
            "Approx 15% complete for SRR3414630_1.fastq\n",
            "Approx 10% complete for SRR3414631_1.fastq\n",
            "Approx 20% complete for SRR3414630_1.fastq\n",
            "Approx 15% complete for SRR3414636_1.fastq\n",
            "Approx 15% complete for SRR3414637_1.fastq\n",
            "Approx 15% complete for SRR3414635_1.fastq\n",
            "Approx 15% complete for SRR3414629_1.fastq\n",
            "Approx 15% complete for SRR3414631_1.fastq\n",
            "Approx 25% complete for SRR3414630_1.fastq\n",
            "Approx 20% complete for SRR3414636_1.fastq\n",
            "Approx 20% complete for SRR3414637_1.fastq\n",
            "Approx 20% complete for SRR3414635_1.fastq\n",
            "Approx 20% complete for SRR3414629_1.fastq\n",
            "Approx 30% complete for SRR3414630_1.fastq\n",
            "Approx 20% complete for SRR3414631_1.fastq\n",
            "Approx 25% complete for SRR3414636_1.fastq\n",
            "Approx 25% complete for SRR3414637_1.fastq\n",
            "Approx 35% complete for SRR3414630_1.fastq\n",
            "Approx 25% complete for SRR3414635_1.fastq\n",
            "Approx 25% complete for SRR3414629_1.fastq\n",
            "Approx 40% complete for SRR3414630_1.fastq\n",
            "Approx 25% complete for SRR3414631_1.fastq\n",
            "Approx 30% complete for SRR3414636_1.fastq\n",
            "Approx 30% complete for SRR3414637_1.fastq\n",
            "Approx 30% complete for SRR3414635_1.fastq\n",
            "Approx 30% complete for SRR3414629_1.fastq\n",
            "Approx 45% complete for SRR3414630_1.fastq\n",
            "Approx 35% complete for SRR3414636_1.fastq\n",
            "Approx 35% complete for SRR3414637_1.fastq\n",
            "Approx 30% complete for SRR3414631_1.fastq\n",
            "Approx 35% complete for SRR3414635_1.fastq\n",
            "Approx 35% complete for SRR3414629_1.fastq\n",
            "Approx 50% complete for SRR3414630_1.fastq\n",
            "Approx 40% complete for SRR3414636_1.fastq\n",
            "Approx 40% complete for SRR3414637_1.fastq\n",
            "Approx 55% complete for SRR3414630_1.fastq\n",
            "Approx 40% complete for SRR3414635_1.fastq\n",
            "Approx 40% complete for SRR3414629_1.fastq\n",
            "Approx 35% complete for SRR3414631_1.fastq\n",
            "Approx 60% complete for SRR3414630_1.fastq\n",
            "Approx 45% complete for SRR3414636_1.fastq\n",
            "Approx 45% complete for SRR3414637_1.fastq\n",
            "Approx 45% complete for SRR3414635_1.fastq\n",
            "Approx 45% complete for SRR3414629_1.fastq\n",
            "Approx 40% complete for SRR3414631_1.fastq\n",
            "Approx 65% complete for SRR3414630_1.fastq\n",
            "Approx 50% complete for SRR3414636_1.fastq\n",
            "Approx 50% complete for SRR3414637_1.fastq\n",
            "Approx 50% complete for SRR3414635_1.fastq\n",
            "Approx 70% complete for SRR3414630_1.fastq\n",
            "Approx 50% complete for SRR3414629_1.fastq\n",
            "Approx 45% complete for SRR3414631_1.fastq\n",
            "Approx 55% complete for SRR3414636_1.fastq\n",
            "Approx 55% complete for SRR3414637_1.fastq\n",
            "Approx 75% complete for SRR3414630_1.fastq\n",
            "Approx 55% complete for SRR3414635_1.fastq\n",
            "Approx 55% complete for SRR3414629_1.fastq\n",
            "Approx 80% complete for SRR3414630_1.fastq\n",
            "Approx 50% complete for SRR3414631_1.fastq\n",
            "Approx 60% complete for SRR3414636_1.fastq\n",
            "Approx 60% complete for SRR3414637_1.fastq\n",
            "Approx 60% complete for SRR3414635_1.fastq\n",
            "Approx 60% complete for SRR3414629_1.fastq\n",
            "Approx 85% complete for SRR3414630_1.fastq\n",
            "Approx 65% complete for SRR3414636_1.fastq\n",
            "Approx 65% complete for SRR3414637_1.fastq\n",
            "Approx 55% complete for SRR3414631_1.fastq\n",
            "Approx 90% complete for SRR3414630_1.fastq\n",
            "Approx 65% complete for SRR3414635_1.fastq\n",
            "Approx 65% complete for SRR3414629_1.fastq\n",
            "Approx 70% complete for SRR3414636_1.fastq\n",
            "Approx 70% complete for SRR3414637_1.fastq\n",
            "Approx 95% complete for SRR3414630_1.fastq\n",
            "Approx 60% complete for SRR3414631_1.fastq\n",
            "Approx 70% complete for SRR3414635_1.fastq\n",
            "Approx 70% complete for SRR3414629_1.fastq\n",
            "Analysis complete for SRR3414630_1.fastq\n",
            "Approx 75% complete for SRR3414636_1.fastq\n",
            "Approx 75% complete for SRR3414637_1.fastq\n",
            "Approx 75% complete for SRR3414635_1.fastq\n",
            "Approx 65% complete for SRR3414631_1.fastq\n",
            "Approx 75% complete for SRR3414629_1.fastq\n",
            "Approx 80% complete for SRR3414636_1.fastq\n",
            "Approx 80% complete for SRR3414637_1.fastq\n",
            "Approx 80% complete for SRR3414635_1.fastq\n",
            "Approx 80% complete for SRR3414629_1.fastq\n",
            "Approx 70% complete for SRR3414631_1.fastq\n",
            "Approx 85% complete for SRR3414636_1.fastq\n",
            "Approx 85% complete for SRR3414637_1.fastq\n",
            "Approx 85% complete for SRR3414635_1.fastq\n",
            "Approx 85% complete for SRR3414629_1.fastq\n",
            "Approx 75% complete for SRR3414631_1.fastq\n",
            "Approx 90% complete for SRR3414636_1.fastq\n",
            "Approx 90% complete for SRR3414637_1.fastq\n",
            "Approx 90% complete for SRR3414635_1.fastq\n",
            "Approx 90% complete for SRR3414629_1.fastq\n",
            "Approx 95% complete for SRR3414636_1.fastq\n",
            "Approx 80% complete for SRR3414631_1.fastq\n",
            "Approx 95% complete for SRR3414637_1.fastq\n",
            "Approx 95% complete for SRR3414635_1.fastq\n",
            "Approx 95% complete for SRR3414629_1.fastq\n",
            "Analysis complete for SRR3414636_1.fastq\n",
            "Analysis complete for SRR3414637_1.fastq\n",
            "Approx 85% complete for SRR3414631_1.fastq\n",
            "Analysis complete for SRR3414635_1.fastq\n",
            "Analysis complete for SRR3414629_1.fastq\n",
            "Approx 90% complete for SRR3414631_1.fastq\n",
            "Approx 95% complete for SRR3414631_1.fastq\n",
            "Analysis complete for SRR3414631_1.fastq\n"
          ]
        }
      ]
    },
    {
      "cell_type": "code",
      "metadata": {
        "id": "Mze0x7Qr1Dnw"
      },
      "source": [
        "!mkdir multiqc"
      ],
      "execution_count": 44,
      "outputs": []
    },
    {
      "cell_type": "code",
      "metadata": {
        "colab": {
          "base_uri": "https://localhost:8080/"
        },
        "id": "oq4Nbwx40yQN",
        "outputId": "7513860b-3458-40b1-9276-34e73ec72cb4"
      },
      "source": [
        "!multiqc -o multiqc fastqc"
      ],
      "execution_count": 45,
      "outputs": [
        {
          "output_type": "stream",
          "name": "stdout",
          "text": [
            "\n",
            "  \u001b[34m/\u001b[0m\u001b[32m/\u001b[0m\u001b[31m/\u001b[0m \u001b]8;id=957953;https://multiqc.info\u001b\\\u001b[1mMultiQC\u001b[0m\u001b]8;;\u001b\\ 🔍 \u001b[2m| v1.11\u001b[0m\n",
            "\n",
            "\u001b[34m|           multiqc\u001b[0m | Search path : /content/fastqc\n",
            "\u001b[2K\u001b[34m|\u001b[0m         \u001b[34msearching\u001b[0m | \u001b[90m━━━━━━━━━━━━━━━━━━━━━━━━━━━━━━━━━━━━━━━━\u001b[0m \u001b[35m100%\u001b[0m \u001b[32m12/12\u001b[0m  \n",
            "\u001b[?25h\u001b[34m|            fastqc\u001b[0m | Found 6 reports\n",
            "\u001b[34m|           multiqc\u001b[0m | Compressing plot data\n",
            "\u001b[34m|           multiqc\u001b[0m | Report      : multiqc/multiqc_report.html\n",
            "\u001b[34m|           multiqc\u001b[0m | Data        : multiqc/multiqc_data\n",
            "\u001b[34m|           multiqc\u001b[0m | MultiQC complete\n"
          ]
        }
      ]
    },
    {
      "cell_type": "markdown",
      "metadata": {
        "id": "b23N89JW4Eeg"
      },
      "source": [
        "* Запускаем HISAT2 и картируем все чтения на геном мыши.\n",
        "* **Для одного образца программа работает 10-15 мин**\n",
        "* Общее кол-во чтений, и кол-во, которое удалось успешно откартировать (уникально и не уникально), указано в файле SRR3414636.hisat. Приводим эту информацию в отчете на Github"
      ]
    },
    {
      "cell_type": "code",
      "metadata": {
        "colab": {
          "base_uri": "https://localhost:8080/"
        },
        "id": "us6WSL8Ge6U_",
        "outputId": "6374a57b-2f1e-4406-9af3-e82e4c17404e"
      },
      "source": [
        "!time hisat2 -p 3 -x mm10/genome -U SRR3414636_1.fastq -S SRR3414636_1.sam  2>  SRR3414636.hisat"
      ],
      "execution_count": 46,
      "outputs": [
        {
          "output_type": "stream",
          "name": "stdout",
          "text": [
            "\n",
            "real\t11m14.198s\n",
            "user\t19m0.006s\n",
            "sys\t1m6.149s\n"
          ]
        }
      ]
    },
    {
      "cell_type": "code",
      "metadata": {
        "colab": {
          "base_uri": "https://localhost:8080/"
        },
        "id": "tKYi-v1_GjkF",
        "outputId": "25ab34db-3f8d-4526-eeb6-d3467c08545c"
      },
      "source": [
        "!rm -v SRR3414636_1.fastq"
      ],
      "execution_count": 47,
      "outputs": [
        {
          "output_type": "stream",
          "name": "stdout",
          "text": [
            "removed 'SRR3414636_1.fastq'\n"
          ]
        }
      ]
    },
    {
      "cell_type": "code",
      "metadata": {
        "colab": {
          "base_uri": "https://localhost:8080/"
        },
        "id": "mOlK421V55q-",
        "outputId": "ed18d024-089c-4e30-e552-57df9d08eb84"
      },
      "source": [
        "!time hisat2 -p 3 -x mm10/genome -U SRR3414629_1.fastq -S SRR3414629_1.sam  2>  SRR3414629.hisat"
      ],
      "execution_count": 48,
      "outputs": [
        {
          "output_type": "stream",
          "name": "stdout",
          "text": [
            "\n",
            "real\t11m46.895s\n",
            "user\t20m0.676s\n",
            "sys\t1m8.047s\n"
          ]
        }
      ]
    },
    {
      "cell_type": "code",
      "metadata": {
        "colab": {
          "base_uri": "https://localhost:8080/"
        },
        "id": "P-XXapMvHRLh",
        "outputId": "264ba4e4-c4d1-4af3-d113-5fc6ef31fbda"
      },
      "source": [
        "!rm -v SRR3414629_1.fastq"
      ],
      "execution_count": 49,
      "outputs": [
        {
          "output_type": "stream",
          "name": "stdout",
          "text": [
            "removed 'SRR3414629_1.fastq'\n"
          ]
        }
      ]
    },
    {
      "cell_type": "code",
      "metadata": {
        "colab": {
          "base_uri": "https://localhost:8080/"
        },
        "id": "1QDqLTV46YuW",
        "outputId": "446811c9-f74b-4c20-c72c-3498b353ba2b"
      },
      "source": [
        "!time hisat2 -p 3 -x mm10/genome -U SRR3414630_1.fastq -S SRR3414630_1.sam  2>  SRR3414630.hisat"
      ],
      "execution_count": 50,
      "outputs": [
        {
          "output_type": "stream",
          "name": "stdout",
          "text": [
            "\n",
            "real\t9m5.440s\n",
            "user\t14m53.583s\n",
            "sys\t0m57.032s\n"
          ]
        }
      ]
    },
    {
      "cell_type": "code",
      "metadata": {
        "colab": {
          "base_uri": "https://localhost:8080/"
        },
        "id": "LbjkOKjRH8qJ",
        "outputId": "6b20eb2b-509c-4fa3-8a06-6daab8be9fc8"
      },
      "source": [
        "!rm -v SRR3414630_1.fastq"
      ],
      "execution_count": 51,
      "outputs": [
        {
          "output_type": "stream",
          "name": "stdout",
          "text": [
            "removed 'SRR3414630_1.fastq'\n"
          ]
        }
      ]
    },
    {
      "cell_type": "code",
      "metadata": {
        "colab": {
          "base_uri": "https://localhost:8080/"
        },
        "id": "M6iGfAJY58sX",
        "outputId": "235729da-b506-4e84-b4c1-8b43cd854e28"
      },
      "source": [
        "!time hisat2 -p 3 -x mm10/genome -U SRR3414631_1.fastq -S SRR3414631_1.sam  2>  SRR3414631.hisat"
      ],
      "execution_count": 52,
      "outputs": [
        {
          "output_type": "stream",
          "name": "stdout",
          "text": [
            "\n",
            "real\t13m43.253s\n",
            "user\t23m35.898s\n",
            "sys\t1m12.709s\n"
          ]
        }
      ]
    },
    {
      "cell_type": "code",
      "metadata": {
        "colab": {
          "base_uri": "https://localhost:8080/"
        },
        "id": "W-V55IBAIBSI",
        "outputId": "10ca7567-0463-487d-9fcf-a3a638ed429b"
      },
      "source": [
        "!rm -v SRR3414631_1.fastq"
      ],
      "execution_count": 53,
      "outputs": [
        {
          "output_type": "stream",
          "name": "stdout",
          "text": [
            "removed 'SRR3414631_1.fastq'\n"
          ]
        }
      ]
    },
    {
      "cell_type": "code",
      "metadata": {
        "colab": {
          "base_uri": "https://localhost:8080/"
        },
        "id": "6500xjj06J6u",
        "outputId": "52d05645-7a50-4c42-b02a-60fb75447dde"
      },
      "source": [
        "!time hisat2 -p 3 -x mm10/genome -U SRR3414635_1.fastq -S SRR3414635_1.sam  2>  SRR3414635.hisat"
      ],
      "execution_count": 54,
      "outputs": [
        {
          "output_type": "stream",
          "name": "stdout",
          "text": [
            "\n",
            "real\t11m32.980s\n",
            "user\t19m33.849s\n",
            "sys\t1m5.879s\n"
          ]
        }
      ]
    },
    {
      "cell_type": "code",
      "metadata": {
        "colab": {
          "base_uri": "https://localhost:8080/"
        },
        "id": "tQcKF8grIBxO",
        "outputId": "9514ebf2-7d2b-41fe-fdd7-82691e38781c"
      },
      "source": [
        "!rm -v SRR3414635_1.fastq"
      ],
      "execution_count": 55,
      "outputs": [
        {
          "output_type": "stream",
          "name": "stdout",
          "text": [
            "removed 'SRR3414635_1.fastq'\n"
          ]
        }
      ]
    },
    {
      "cell_type": "code",
      "metadata": {
        "colab": {
          "base_uri": "https://localhost:8080/"
        },
        "id": "r95CakL16Kou",
        "outputId": "5db3f917-6cd5-4b64-9e8f-091eaffa9273"
      },
      "source": [
        "!time hisat2 -p 3 -x mm10/genome -U SRR3414637_1.fastq -S SRR3414637_1.sam  2>  SRR3414637.hisat"
      ],
      "execution_count": 56,
      "outputs": [
        {
          "output_type": "stream",
          "name": "stdout",
          "text": [
            "\n",
            "real\t11m9.362s\n",
            "user\t18m53.868s\n",
            "sys\t0m58.659s\n"
          ]
        }
      ]
    },
    {
      "cell_type": "code",
      "metadata": {
        "colab": {
          "base_uri": "https://localhost:8080/"
        },
        "id": "Ykd-vyIyICVP",
        "outputId": "486731fc-4d7d-4dad-a637-7775b1b4134d"
      },
      "source": [
        "!rm -v SRR3414637_1.fastq"
      ],
      "execution_count": 57,
      "outputs": [
        {
          "output_type": "stream",
          "name": "stdout",
          "text": [
            "removed 'SRR3414637_1.fastq'\n"
          ]
        }
      ]
    },
    {
      "cell_type": "code",
      "metadata": {
        "colab": {
          "base_uri": "https://localhost:8080/"
        },
        "id": "IMvdwqr0_BA1",
        "outputId": "95857a54-d0f6-4dc5-d93f-fc4b53bed41e"
      },
      "source": [
        "!cat SRR3414629.hisat\n",
        "!cat SRR3414630.hisat\n",
        "!cat SRR3414631.hisat\n",
        "!cat SRR3414635.hisat\n",
        "!cat SRR3414636.hisat\n",
        "!cat SRR3414637.hisat"
      ],
      "execution_count": 58,
      "outputs": [
        {
          "output_type": "stream",
          "name": "stdout",
          "text": [
            "21106089 reads; of these:\n",
            "  21106089 (100.00%) were unpaired; of these:\n",
            "    595976 (2.82%) aligned 0 times\n",
            "    18375888 (87.06%) aligned exactly 1 time\n",
            "    2134225 (10.11%) aligned >1 times\n",
            "97.18% overall alignment rate\n",
            "15244711 reads; of these:\n",
            "  15244711 (100.00%) were unpaired; of these:\n",
            "    412031 (2.70%) aligned 0 times\n",
            "    13186139 (86.50%) aligned exactly 1 time\n",
            "    1646541 (10.80%) aligned >1 times\n",
            "97.30% overall alignment rate\n",
            "24244069 reads; of these:\n",
            "  24244069 (100.00%) were unpaired; of these:\n",
            "    696383 (2.87%) aligned 0 times\n",
            "    20928945 (86.33%) aligned exactly 1 time\n",
            "    2618741 (10.80%) aligned >1 times\n",
            "97.13% overall alignment rate\n",
            "20956475 reads; of these:\n",
            "  20956475 (100.00%) were unpaired; of these:\n",
            "    560610 (2.68%) aligned 0 times\n",
            "    18428317 (87.94%) aligned exactly 1 time\n",
            "    1967548 (9.39%) aligned >1 times\n",
            "97.32% overall alignment rate\n",
            "20307147 reads; of these:\n",
            "  20307147 (100.00%) were unpaired; of these:\n",
            "    550088 (2.71%) aligned 0 times\n",
            "    17825380 (87.78%) aligned exactly 1 time\n",
            "    1931679 (9.51%) aligned >1 times\n",
            "97.29% overall alignment rate\n",
            "20385570 reads; of these:\n",
            "  20385570 (100.00%) were unpaired; of these:\n",
            "    538279 (2.64%) aligned 0 times\n",
            "    17844858 (87.54%) aligned exactly 1 time\n",
            "    2002433 (9.82%) aligned >1 times\n",
            "97.36% overall alignment rate\n"
          ]
        }
      ]
    },
    {
      "cell_type": "markdown",
      "metadata": {
        "id": "f7NUQXYU8C3w"
      },
      "source": [
        "* Отбираем только те чтения, которые откартировались уникально (флаг NH:i:1):"
      ]
    },
    {
      "cell_type": "code",
      "metadata": {
        "id": "0scVvWyz8Gjk"
      },
      "source": [
        "!grep -P '^@|NH:i:1$' SRR3414636_1.sam > SRR3414636.uniq.sam\n",
        "!grep -P '^@|NH:i:1$' SRR3414629_1.sam > SRR3414629.uniq.sam\n",
        "!grep -P '^@|NH:i:1$' SRR3414630_1.sam > SRR3414630.uniq.sam\n",
        "!grep -P '^@|NH:i:1$' SRR3414631_1.sam > SRR3414631.uniq.sam\n",
        "!grep -P '^@|NH:i:1$' SRR3414635_1.sam > SRR3414635.uniq.sam\n",
        "!grep -P '^@|NH:i:1$' SRR3414637_1.sam > SRR3414637.uniq.sam"
      ],
      "execution_count": null,
      "outputs": []
    },
    {
      "cell_type": "code",
      "metadata": {
        "id": "J6zKKCleR8MP"
      },
      "source": [
        "!grep -P '^@|NH:i:1$' SRR3414637_1.sam > SRR3414637.uniq.sam"
      ],
      "execution_count": 60,
      "outputs": []
    },
    {
      "cell_type": "markdown",
      "metadata": {
        "id": "ntVSwG4xHHfY"
      },
      "source": [
        "* Удаляем исходные .sam файлы, т.к. они нам больше не потребуются:"
      ]
    },
    {
      "cell_type": "code",
      "metadata": {
        "colab": {
          "base_uri": "https://localhost:8080/"
        },
        "id": "yR7NVTuS_r8S",
        "outputId": "d04d57b8-f70a-4558-8061-a51c62f8c60e"
      },
      "source": [
        "!ls *_1.sam | xargs -tI{} rm -v {}"
      ],
      "execution_count": 61,
      "outputs": [
        {
          "output_type": "stream",
          "name": "stdout",
          "text": [
            "rm -v SRR3414630_1.sam \n",
            "removed 'SRR3414630_1.sam'\n",
            "rm -v SRR3414631_1.sam \n",
            "removed 'SRR3414631_1.sam'\n",
            "rm -v SRR3414635_1.sam \n",
            "removed 'SRR3414635_1.sam'\n",
            "rm -v SRR3414636_1.sam \n",
            "removed 'SRR3414636_1.sam'\n",
            "rm -v SRR3414637_1.sam \n",
            "removed 'SRR3414637_1.sam'\n"
          ]
        }
      ]
    },
    {
      "cell_type": "markdown",
      "metadata": {
        "id": "SeH868YM8RKT"
      },
      "source": [
        "* Считаем кол-во уникально-картированных чтений (17825380 чтений)\n"
      ]
    },
    {
      "cell_type": "code",
      "metadata": {
        "colab": {
          "base_uri": "https://localhost:8080/"
        },
        "id": "xNtB6WBISTvB",
        "outputId": "a2b8069e-1e4c-43ee-aa18-e84fedf9bf40"
      },
      "source": [
        "!grep -v '^@' SRR3414629.uniq.sam | wc -l"
      ],
      "execution_count": 63,
      "outputs": [
        {
          "output_type": "stream",
          "name": "stdout",
          "text": [
            "18375888\n"
          ]
        }
      ]
    },
    {
      "cell_type": "code",
      "metadata": {
        "colab": {
          "base_uri": "https://localhost:8080/"
        },
        "id": "LPyL6G_wSWEm",
        "outputId": "b7d2e2f6-1bc0-4cd3-f69a-42bdaa79ae62"
      },
      "source": [
        "!grep -v '^@' SRR3414630.uniq.sam | wc -l"
      ],
      "execution_count": 64,
      "outputs": [
        {
          "output_type": "stream",
          "name": "stdout",
          "text": [
            "13186139\n"
          ]
        }
      ]
    },
    {
      "cell_type": "code",
      "metadata": {
        "colab": {
          "base_uri": "https://localhost:8080/"
        },
        "id": "jlHKHnZQSXHm",
        "outputId": "df1b13d4-9b8d-46f2-be13-c3964b35bcb2"
      },
      "source": [
        "!grep -v '^@' SRR3414631.uniq.sam | wc -l"
      ],
      "execution_count": 65,
      "outputs": [
        {
          "output_type": "stream",
          "name": "stdout",
          "text": [
            "20928945\n"
          ]
        }
      ]
    },
    {
      "cell_type": "code",
      "metadata": {
        "colab": {
          "base_uri": "https://localhost:8080/"
        },
        "id": "rRH40ow0SXsn",
        "outputId": "52780d4a-92e8-4133-b56f-cbc7153a98b4"
      },
      "source": [
        "!grep -v '^@' SRR3414635.uniq.sam | wc -l"
      ],
      "execution_count": 66,
      "outputs": [
        {
          "output_type": "stream",
          "name": "stdout",
          "text": [
            "18428317\n"
          ]
        }
      ]
    },
    {
      "cell_type": "code",
      "metadata": {
        "colab": {
          "base_uri": "https://localhost:8080/"
        },
        "id": "ay2J-VK7UYbw",
        "outputId": "43804866-60d3-411d-faf9-e4cba0670055"
      },
      "source": [
        "!grep -v '^@' SRR3414636.uniq.sam | wc -l"
      ],
      "execution_count": 67,
      "outputs": [
        {
          "output_type": "stream",
          "name": "stdout",
          "text": [
            "17825380\n"
          ]
        }
      ]
    },
    {
      "cell_type": "code",
      "metadata": {
        "colab": {
          "base_uri": "https://localhost:8080/"
        },
        "id": "qMpPGqa8Shzv",
        "outputId": "7cb29788-9a88-4dec-e175-2e179d5fdebd"
      },
      "source": [
        "!grep -v '^@' SRR3414637.uniq.sam | wc -l"
      ],
      "execution_count": 68,
      "outputs": [
        {
          "output_type": "stream",
          "name": "stdout",
          "text": [
            "17844858\n"
          ]
        }
      ]
    },
    {
      "cell_type": "markdown",
      "metadata": {
        "id": "_JqUV4J_8a8h"
      },
      "source": [
        "* С помощью программы `HTSeq` Подсчитываем количество чтений, попавших на каждый ген (**для одного образца программа работает 15-20 мин**):\n",
        "* Аннтоация генома мыши в формате .gtf находится в файле `gencode.vM25.annotation.gtf`\n"
      ]
    },
    {
      "cell_type": "code",
      "metadata": {
        "colab": {
          "base_uri": "https://localhost:8080/"
        },
        "id": "p7IHTD5Ihorm",
        "outputId": "279abdc7-b438-40e4-a1db-a8046af643b2"
      },
      "source": [
        "!time htseq-count --format=sam --stranded=no SRR3414636.uniq.sam  gencode.vM25.annotation.gtf > SRR3414636.counts"
      ],
      "execution_count": 69,
      "outputs": [
        {
          "output_type": "stream",
          "name": "stdout",
          "text": [
            "100000 GFF lines processed.\n",
            "200000 GFF lines processed.\n",
            "300000 GFF lines processed.\n",
            "400000 GFF lines processed.\n",
            "500000 GFF lines processed.\n",
            "600000 GFF lines processed.\n",
            "700000 GFF lines processed.\n",
            "800000 GFF lines processed.\n",
            "900000 GFF lines processed.\n",
            "1000000 GFF lines processed.\n",
            "1100000 GFF lines processed.\n",
            "1200000 GFF lines processed.\n",
            "1300000 GFF lines processed.\n",
            "1400000 GFF lines processed.\n",
            "1500000 GFF lines processed.\n",
            "1600000 GFF lines processed.\n",
            "1700000 GFF lines processed.\n",
            "1800000 GFF lines processed.\n",
            "1872052 GFF lines processed.\n",
            "100000 alignment records processed.\n",
            "200000 alignment records processed.\n",
            "300000 alignment records processed.\n",
            "400000 alignment records processed.\n",
            "500000 alignment records processed.\n",
            "600000 alignment records processed.\n",
            "700000 alignment records processed.\n",
            "800000 alignment records processed.\n",
            "900000 alignment records processed.\n",
            "1000000 alignment records processed.\n",
            "1100000 alignment records processed.\n",
            "1200000 alignment records processed.\n",
            "1300000 alignment records processed.\n",
            "1400000 alignment records processed.\n",
            "1500000 alignment records processed.\n",
            "1600000 alignment records processed.\n",
            "1700000 alignment records processed.\n",
            "1800000 alignment records processed.\n",
            "1900000 alignment records processed.\n",
            "2000000 alignment records processed.\n",
            "2100000 alignment records processed.\n",
            "2200000 alignment records processed.\n",
            "2300000 alignment records processed.\n",
            "2400000 alignment records processed.\n",
            "2500000 alignment records processed.\n",
            "2600000 alignment records processed.\n",
            "2700000 alignment records processed.\n",
            "2800000 alignment records processed.\n",
            "2900000 alignment records processed.\n",
            "3000000 alignment records processed.\n",
            "3100000 alignment records processed.\n",
            "3200000 alignment records processed.\n",
            "3300000 alignment records processed.\n",
            "3400000 alignment records processed.\n",
            "3500000 alignment records processed.\n",
            "3600000 alignment records processed.\n",
            "3700000 alignment records processed.\n",
            "3800000 alignment records processed.\n",
            "3900000 alignment records processed.\n",
            "4000000 alignment records processed.\n",
            "4100000 alignment records processed.\n",
            "4200000 alignment records processed.\n",
            "4300000 alignment records processed.\n",
            "4400000 alignment records processed.\n",
            "4500000 alignment records processed.\n",
            "4600000 alignment records processed.\n",
            "4700000 alignment records processed.\n",
            "4800000 alignment records processed.\n",
            "4900000 alignment records processed.\n",
            "5000000 alignment records processed.\n",
            "5100000 alignment records processed.\n",
            "5200000 alignment records processed.\n",
            "5300000 alignment records processed.\n",
            "5400000 alignment records processed.\n",
            "5500000 alignment records processed.\n",
            "5600000 alignment records processed.\n",
            "5700000 alignment records processed.\n",
            "5800000 alignment records processed.\n",
            "5900000 alignment records processed.\n",
            "6000000 alignment records processed.\n",
            "6100000 alignment records processed.\n",
            "6200000 alignment records processed.\n",
            "6300000 alignment records processed.\n",
            "6400000 alignment records processed.\n",
            "6500000 alignment records processed.\n",
            "6600000 alignment records processed.\n",
            "6700000 alignment records processed.\n",
            "6800000 alignment records processed.\n",
            "6900000 alignment records processed.\n",
            "7000000 alignment records processed.\n",
            "7100000 alignment records processed.\n",
            "7200000 alignment records processed.\n",
            "7300000 alignment records processed.\n",
            "7400000 alignment records processed.\n",
            "7500000 alignment records processed.\n",
            "7600000 alignment records processed.\n",
            "7700000 alignment records processed.\n",
            "7800000 alignment records processed.\n",
            "7900000 alignment records processed.\n",
            "8000000 alignment records processed.\n",
            "8100000 alignment records processed.\n",
            "8200000 alignment records processed.\n",
            "8300000 alignment records processed.\n",
            "8400000 alignment records processed.\n",
            "8500000 alignment records processed.\n",
            "8600000 alignment records processed.\n",
            "8700000 alignment records processed.\n",
            "8800000 alignment records processed.\n",
            "8900000 alignment records processed.\n",
            "9000000 alignment records processed.\n",
            "9100000 alignment records processed.\n",
            "9200000 alignment records processed.\n",
            "9300000 alignment records processed.\n",
            "9400000 alignment records processed.\n",
            "9500000 alignment records processed.\n",
            "9600000 alignment records processed.\n",
            "9700000 alignment records processed.\n",
            "9800000 alignment records processed.\n",
            "9900000 alignment records processed.\n",
            "10000000 alignment records processed.\n",
            "10100000 alignment records processed.\n",
            "10200000 alignment records processed.\n",
            "10300000 alignment records processed.\n",
            "10400000 alignment records processed.\n",
            "10500000 alignment records processed.\n",
            "10600000 alignment records processed.\n",
            "10700000 alignment records processed.\n",
            "10800000 alignment records processed.\n",
            "10900000 alignment records processed.\n",
            "11000000 alignment records processed.\n",
            "11100000 alignment records processed.\n",
            "11200000 alignment records processed.\n",
            "11300000 alignment records processed.\n",
            "11400000 alignment records processed.\n",
            "11500000 alignment records processed.\n",
            "11600000 alignment records processed.\n",
            "11700000 alignment records processed.\n",
            "11800000 alignment records processed.\n",
            "11900000 alignment records processed.\n",
            "12000000 alignment records processed.\n",
            "12100000 alignment records processed.\n",
            "12200000 alignment records processed.\n",
            "12300000 alignment records processed.\n",
            "12400000 alignment records processed.\n",
            "12500000 alignment records processed.\n",
            "12600000 alignment records processed.\n",
            "12700000 alignment records processed.\n",
            "12800000 alignment records processed.\n",
            "12900000 alignment records processed.\n",
            "13000000 alignment records processed.\n",
            "13100000 alignment records processed.\n",
            "13200000 alignment records processed.\n",
            "13300000 alignment records processed.\n",
            "13400000 alignment records processed.\n",
            "13500000 alignment records processed.\n",
            "13600000 alignment records processed.\n",
            "13700000 alignment records processed.\n",
            "13800000 alignment records processed.\n",
            "13900000 alignment records processed.\n",
            "14000000 alignment records processed.\n",
            "14100000 alignment records processed.\n",
            "14200000 alignment records processed.\n",
            "14300000 alignment records processed.\n",
            "14400000 alignment records processed.\n",
            "14500000 alignment records processed.\n",
            "14600000 alignment records processed.\n",
            "14700000 alignment records processed.\n",
            "14800000 alignment records processed.\n",
            "14900000 alignment records processed.\n",
            "15000000 alignment records processed.\n",
            "15100000 alignment records processed.\n",
            "15200000 alignment records processed.\n",
            "15300000 alignment records processed.\n",
            "15400000 alignment records processed.\n",
            "15500000 alignment records processed.\n",
            "15600000 alignment records processed.\n",
            "15700000 alignment records processed.\n",
            "15800000 alignment records processed.\n",
            "15900000 alignment records processed.\n",
            "16000000 alignment records processed.\n",
            "16100000 alignment records processed.\n",
            "16200000 alignment records processed.\n",
            "16300000 alignment records processed.\n",
            "16400000 alignment records processed.\n",
            "16500000 alignment records processed.\n",
            "16600000 alignment records processed.\n",
            "16700000 alignment records processed.\n",
            "16800000 alignment records processed.\n",
            "16900000 alignment records processed.\n",
            "17000000 alignment records processed.\n",
            "17100000 alignment records processed.\n",
            "17200000 alignment records processed.\n",
            "17300000 alignment records processed.\n",
            "17400000 alignment records processed.\n",
            "17500000 alignment records processed.\n",
            "17600000 alignment records processed.\n",
            "17700000 alignment records processed.\n",
            "17800000 alignment records processed.\n",
            "17825380 alignment records processed.\n",
            "\n",
            "real\t18m31.185s\n",
            "user\t18m21.402s\n",
            "sys\t0m7.170s\n"
          ]
        }
      ]
    },
    {
      "cell_type": "code",
      "metadata": {
        "colab": {
          "base_uri": "https://localhost:8080/"
        },
        "id": "yG6apbalYJzg",
        "outputId": "f8ca47d3-84f7-49e4-a967-b2b9bea27597"
      },
      "source": [
        "!time htseq-count --format=sam --stranded=no SRR3414629.uniq.sam  gencode.vM25.annotation.gtf > SRR3414629.counts"
      ],
      "execution_count": 70,
      "outputs": [
        {
          "output_type": "stream",
          "name": "stdout",
          "text": [
            "100000 GFF lines processed.\n",
            "200000 GFF lines processed.\n",
            "300000 GFF lines processed.\n",
            "400000 GFF lines processed.\n",
            "500000 GFF lines processed.\n",
            "600000 GFF lines processed.\n",
            "700000 GFF lines processed.\n",
            "800000 GFF lines processed.\n",
            "900000 GFF lines processed.\n",
            "1000000 GFF lines processed.\n",
            "1100000 GFF lines processed.\n",
            "1200000 GFF lines processed.\n",
            "1300000 GFF lines processed.\n",
            "1400000 GFF lines processed.\n",
            "1500000 GFF lines processed.\n",
            "1600000 GFF lines processed.\n",
            "1700000 GFF lines processed.\n",
            "1800000 GFF lines processed.\n",
            "1872052 GFF lines processed.\n",
            "100000 alignment records processed.\n",
            "200000 alignment records processed.\n",
            "300000 alignment records processed.\n",
            "400000 alignment records processed.\n",
            "500000 alignment records processed.\n",
            "600000 alignment records processed.\n",
            "700000 alignment records processed.\n",
            "800000 alignment records processed.\n",
            "900000 alignment records processed.\n",
            "1000000 alignment records processed.\n",
            "1100000 alignment records processed.\n",
            "1200000 alignment records processed.\n",
            "1300000 alignment records processed.\n",
            "1400000 alignment records processed.\n",
            "1500000 alignment records processed.\n",
            "1600000 alignment records processed.\n",
            "1700000 alignment records processed.\n",
            "1800000 alignment records processed.\n",
            "1900000 alignment records processed.\n",
            "2000000 alignment records processed.\n",
            "2100000 alignment records processed.\n",
            "2200000 alignment records processed.\n",
            "2300000 alignment records processed.\n",
            "2400000 alignment records processed.\n",
            "2500000 alignment records processed.\n",
            "2600000 alignment records processed.\n",
            "2700000 alignment records processed.\n",
            "2800000 alignment records processed.\n",
            "2900000 alignment records processed.\n",
            "3000000 alignment records processed.\n",
            "3100000 alignment records processed.\n",
            "3200000 alignment records processed.\n",
            "3300000 alignment records processed.\n",
            "3400000 alignment records processed.\n",
            "3500000 alignment records processed.\n",
            "3600000 alignment records processed.\n",
            "3700000 alignment records processed.\n",
            "3800000 alignment records processed.\n",
            "3900000 alignment records processed.\n",
            "4000000 alignment records processed.\n",
            "4100000 alignment records processed.\n",
            "4200000 alignment records processed.\n",
            "4300000 alignment records processed.\n",
            "4400000 alignment records processed.\n",
            "4500000 alignment records processed.\n",
            "4600000 alignment records processed.\n",
            "4700000 alignment records processed.\n",
            "4800000 alignment records processed.\n",
            "4900000 alignment records processed.\n",
            "5000000 alignment records processed.\n",
            "5100000 alignment records processed.\n",
            "5200000 alignment records processed.\n",
            "5300000 alignment records processed.\n",
            "5400000 alignment records processed.\n",
            "5500000 alignment records processed.\n",
            "5600000 alignment records processed.\n",
            "5700000 alignment records processed.\n",
            "5800000 alignment records processed.\n",
            "5900000 alignment records processed.\n",
            "6000000 alignment records processed.\n",
            "6100000 alignment records processed.\n",
            "6200000 alignment records processed.\n",
            "6300000 alignment records processed.\n",
            "6400000 alignment records processed.\n",
            "6500000 alignment records processed.\n",
            "6600000 alignment records processed.\n",
            "6700000 alignment records processed.\n",
            "6800000 alignment records processed.\n",
            "6900000 alignment records processed.\n",
            "7000000 alignment records processed.\n",
            "7100000 alignment records processed.\n",
            "7200000 alignment records processed.\n",
            "7300000 alignment records processed.\n",
            "7400000 alignment records processed.\n",
            "7500000 alignment records processed.\n",
            "7600000 alignment records processed.\n",
            "7700000 alignment records processed.\n",
            "7800000 alignment records processed.\n",
            "7900000 alignment records processed.\n",
            "8000000 alignment records processed.\n",
            "8100000 alignment records processed.\n",
            "8200000 alignment records processed.\n",
            "8300000 alignment records processed.\n",
            "8400000 alignment records processed.\n",
            "8500000 alignment records processed.\n",
            "8600000 alignment records processed.\n",
            "8700000 alignment records processed.\n",
            "8800000 alignment records processed.\n",
            "8900000 alignment records processed.\n",
            "9000000 alignment records processed.\n",
            "9100000 alignment records processed.\n",
            "9200000 alignment records processed.\n",
            "9300000 alignment records processed.\n",
            "9400000 alignment records processed.\n",
            "9500000 alignment records processed.\n",
            "9600000 alignment records processed.\n",
            "9700000 alignment records processed.\n",
            "9800000 alignment records processed.\n",
            "9900000 alignment records processed.\n",
            "10000000 alignment records processed.\n",
            "10100000 alignment records processed.\n",
            "10200000 alignment records processed.\n",
            "10300000 alignment records processed.\n",
            "10400000 alignment records processed.\n",
            "10500000 alignment records processed.\n",
            "10600000 alignment records processed.\n",
            "10700000 alignment records processed.\n",
            "10800000 alignment records processed.\n",
            "10900000 alignment records processed.\n",
            "11000000 alignment records processed.\n",
            "11100000 alignment records processed.\n",
            "11200000 alignment records processed.\n",
            "11300000 alignment records processed.\n",
            "11400000 alignment records processed.\n",
            "11500000 alignment records processed.\n",
            "11600000 alignment records processed.\n",
            "11700000 alignment records processed.\n",
            "11800000 alignment records processed.\n",
            "11900000 alignment records processed.\n",
            "12000000 alignment records processed.\n",
            "12100000 alignment records processed.\n",
            "12200000 alignment records processed.\n",
            "12300000 alignment records processed.\n",
            "12400000 alignment records processed.\n",
            "12500000 alignment records processed.\n",
            "12600000 alignment records processed.\n",
            "12700000 alignment records processed.\n",
            "12800000 alignment records processed.\n",
            "12900000 alignment records processed.\n",
            "13000000 alignment records processed.\n",
            "13100000 alignment records processed.\n",
            "13200000 alignment records processed.\n",
            "13300000 alignment records processed.\n",
            "13400000 alignment records processed.\n",
            "13500000 alignment records processed.\n",
            "13600000 alignment records processed.\n",
            "13700000 alignment records processed.\n",
            "13800000 alignment records processed.\n",
            "13900000 alignment records processed.\n",
            "14000000 alignment records processed.\n",
            "14100000 alignment records processed.\n",
            "14200000 alignment records processed.\n",
            "14300000 alignment records processed.\n",
            "14400000 alignment records processed.\n",
            "14500000 alignment records processed.\n",
            "14600000 alignment records processed.\n",
            "14700000 alignment records processed.\n",
            "14800000 alignment records processed.\n",
            "14900000 alignment records processed.\n",
            "15000000 alignment records processed.\n",
            "15100000 alignment records processed.\n",
            "15200000 alignment records processed.\n",
            "15300000 alignment records processed.\n",
            "15400000 alignment records processed.\n",
            "15500000 alignment records processed.\n",
            "15600000 alignment records processed.\n",
            "15700000 alignment records processed.\n",
            "15800000 alignment records processed.\n",
            "15900000 alignment records processed.\n",
            "16000000 alignment records processed.\n",
            "16100000 alignment records processed.\n",
            "16200000 alignment records processed.\n",
            "16300000 alignment records processed.\n",
            "16400000 alignment records processed.\n",
            "16500000 alignment records processed.\n",
            "16600000 alignment records processed.\n",
            "16700000 alignment records processed.\n",
            "16800000 alignment records processed.\n",
            "16900000 alignment records processed.\n",
            "17000000 alignment records processed.\n",
            "17100000 alignment records processed.\n",
            "17200000 alignment records processed.\n",
            "17300000 alignment records processed.\n",
            "17400000 alignment records processed.\n",
            "17500000 alignment records processed.\n",
            "17600000 alignment records processed.\n",
            "17700000 alignment records processed.\n",
            "17800000 alignment records processed.\n",
            "17900000 alignment records processed.\n",
            "18000000 alignment records processed.\n",
            "18100000 alignment records processed.\n",
            "18200000 alignment records processed.\n",
            "18300000 alignment records processed.\n",
            "18375888 alignment records processed.\n",
            "\n",
            "real\t19m27.545s\n",
            "user\t19m18.054s\n",
            "sys\t0m7.851s\n"
          ]
        }
      ]
    },
    {
      "cell_type": "code",
      "metadata": {
        "colab": {
          "base_uri": "https://localhost:8080/"
        },
        "id": "cNxDrq9XYLlw",
        "outputId": "726061de-c8d2-4a54-f880-f7bfa0ae65e5"
      },
      "source": [
        "!time htseq-count --format=sam --stranded=no SRR3414630.uniq.sam  gencode.vM25.annotation.gtf > SRR3414630.counts"
      ],
      "execution_count": 71,
      "outputs": [
        {
          "output_type": "stream",
          "name": "stdout",
          "text": [
            "100000 GFF lines processed.\n",
            "200000 GFF lines processed.\n",
            "300000 GFF lines processed.\n",
            "400000 GFF lines processed.\n",
            "500000 GFF lines processed.\n",
            "600000 GFF lines processed.\n",
            "700000 GFF lines processed.\n",
            "800000 GFF lines processed.\n",
            "900000 GFF lines processed.\n",
            "1000000 GFF lines processed.\n",
            "1100000 GFF lines processed.\n",
            "1200000 GFF lines processed.\n",
            "1300000 GFF lines processed.\n",
            "1400000 GFF lines processed.\n",
            "1500000 GFF lines processed.\n",
            "1600000 GFF lines processed.\n",
            "1700000 GFF lines processed.\n",
            "1800000 GFF lines processed.\n",
            "1872052 GFF lines processed.\n",
            "100000 alignment records processed.\n",
            "200000 alignment records processed.\n",
            "300000 alignment records processed.\n",
            "400000 alignment records processed.\n",
            "500000 alignment records processed.\n",
            "600000 alignment records processed.\n",
            "700000 alignment records processed.\n",
            "800000 alignment records processed.\n",
            "900000 alignment records processed.\n",
            "1000000 alignment records processed.\n",
            "1100000 alignment records processed.\n",
            "1200000 alignment records processed.\n",
            "1300000 alignment records processed.\n",
            "1400000 alignment records processed.\n",
            "1500000 alignment records processed.\n",
            "1600000 alignment records processed.\n",
            "1700000 alignment records processed.\n",
            "1800000 alignment records processed.\n",
            "1900000 alignment records processed.\n",
            "2000000 alignment records processed.\n",
            "2100000 alignment records processed.\n",
            "2200000 alignment records processed.\n",
            "2300000 alignment records processed.\n",
            "2400000 alignment records processed.\n",
            "2500000 alignment records processed.\n",
            "2600000 alignment records processed.\n",
            "2700000 alignment records processed.\n",
            "2800000 alignment records processed.\n",
            "2900000 alignment records processed.\n",
            "3000000 alignment records processed.\n",
            "3100000 alignment records processed.\n",
            "3200000 alignment records processed.\n",
            "3300000 alignment records processed.\n",
            "3400000 alignment records processed.\n",
            "3500000 alignment records processed.\n",
            "3600000 alignment records processed.\n",
            "3700000 alignment records processed.\n",
            "3800000 alignment records processed.\n",
            "3900000 alignment records processed.\n",
            "4000000 alignment records processed.\n",
            "4100000 alignment records processed.\n",
            "4200000 alignment records processed.\n",
            "4300000 alignment records processed.\n",
            "4400000 alignment records processed.\n",
            "4500000 alignment records processed.\n",
            "4600000 alignment records processed.\n",
            "4700000 alignment records processed.\n",
            "4800000 alignment records processed.\n",
            "4900000 alignment records processed.\n",
            "5000000 alignment records processed.\n",
            "5100000 alignment records processed.\n",
            "5200000 alignment records processed.\n",
            "5300000 alignment records processed.\n",
            "5400000 alignment records processed.\n",
            "5500000 alignment records processed.\n",
            "5600000 alignment records processed.\n",
            "5700000 alignment records processed.\n",
            "5800000 alignment records processed.\n",
            "5900000 alignment records processed.\n",
            "6000000 alignment records processed.\n",
            "6100000 alignment records processed.\n",
            "6200000 alignment records processed.\n",
            "6300000 alignment records processed.\n",
            "6400000 alignment records processed.\n",
            "6500000 alignment records processed.\n",
            "6600000 alignment records processed.\n",
            "6700000 alignment records processed.\n",
            "6800000 alignment records processed.\n",
            "6900000 alignment records processed.\n",
            "7000000 alignment records processed.\n",
            "7100000 alignment records processed.\n",
            "7200000 alignment records processed.\n",
            "7300000 alignment records processed.\n",
            "7400000 alignment records processed.\n",
            "7500000 alignment records processed.\n",
            "7600000 alignment records processed.\n",
            "7700000 alignment records processed.\n",
            "7800000 alignment records processed.\n",
            "7900000 alignment records processed.\n",
            "8000000 alignment records processed.\n",
            "8100000 alignment records processed.\n",
            "8200000 alignment records processed.\n",
            "8300000 alignment records processed.\n",
            "8400000 alignment records processed.\n",
            "8500000 alignment records processed.\n",
            "8600000 alignment records processed.\n",
            "8700000 alignment records processed.\n",
            "8800000 alignment records processed.\n",
            "8900000 alignment records processed.\n",
            "9000000 alignment records processed.\n",
            "9100000 alignment records processed.\n",
            "9200000 alignment records processed.\n",
            "9300000 alignment records processed.\n",
            "9400000 alignment records processed.\n",
            "9500000 alignment records processed.\n",
            "9600000 alignment records processed.\n",
            "9700000 alignment records processed.\n",
            "9800000 alignment records processed.\n",
            "9900000 alignment records processed.\n",
            "10000000 alignment records processed.\n",
            "10100000 alignment records processed.\n",
            "10200000 alignment records processed.\n",
            "10300000 alignment records processed.\n",
            "10400000 alignment records processed.\n",
            "10500000 alignment records processed.\n",
            "10600000 alignment records processed.\n",
            "10700000 alignment records processed.\n",
            "10800000 alignment records processed.\n",
            "10900000 alignment records processed.\n",
            "11000000 alignment records processed.\n",
            "11100000 alignment records processed.\n",
            "11200000 alignment records processed.\n",
            "11300000 alignment records processed.\n",
            "11400000 alignment records processed.\n",
            "11500000 alignment records processed.\n",
            "11600000 alignment records processed.\n",
            "11700000 alignment records processed.\n",
            "11800000 alignment records processed.\n",
            "11900000 alignment records processed.\n",
            "12000000 alignment records processed.\n",
            "12100000 alignment records processed.\n",
            "12200000 alignment records processed.\n",
            "12300000 alignment records processed.\n",
            "12400000 alignment records processed.\n",
            "12500000 alignment records processed.\n",
            "12600000 alignment records processed.\n",
            "12700000 alignment records processed.\n",
            "12800000 alignment records processed.\n",
            "12900000 alignment records processed.\n",
            "13000000 alignment records processed.\n",
            "13100000 alignment records processed.\n",
            "13186139 alignment records processed.\n",
            "\n",
            "real\t14m14.509s\n",
            "user\t14m5.695s\n",
            "sys\t0m6.129s\n"
          ]
        }
      ]
    },
    {
      "cell_type": "code",
      "metadata": {
        "colab": {
          "base_uri": "https://localhost:8080/"
        },
        "id": "AQzmOhlDYMMX",
        "outputId": "58c95022-d762-4ef1-f70e-fd0865eba841"
      },
      "source": [
        "!time htseq-count --format=sam --stranded=no SRR3414631.uniq.sam  gencode.vM25.annotation.gtf > SRR3414631.counts"
      ],
      "execution_count": 72,
      "outputs": [
        {
          "output_type": "stream",
          "name": "stdout",
          "text": [
            "100000 GFF lines processed.\n",
            "200000 GFF lines processed.\n",
            "300000 GFF lines processed.\n",
            "400000 GFF lines processed.\n",
            "500000 GFF lines processed.\n",
            "600000 GFF lines processed.\n",
            "700000 GFF lines processed.\n",
            "800000 GFF lines processed.\n",
            "900000 GFF lines processed.\n",
            "1000000 GFF lines processed.\n",
            "1100000 GFF lines processed.\n",
            "1200000 GFF lines processed.\n",
            "1300000 GFF lines processed.\n",
            "1400000 GFF lines processed.\n",
            "1500000 GFF lines processed.\n",
            "1600000 GFF lines processed.\n",
            "1700000 GFF lines processed.\n",
            "1800000 GFF lines processed.\n",
            "1872052 GFF lines processed.\n",
            "100000 alignment records processed.\n",
            "200000 alignment records processed.\n",
            "300000 alignment records processed.\n",
            "400000 alignment records processed.\n",
            "500000 alignment records processed.\n",
            "600000 alignment records processed.\n",
            "700000 alignment records processed.\n",
            "800000 alignment records processed.\n",
            "900000 alignment records processed.\n",
            "1000000 alignment records processed.\n",
            "1100000 alignment records processed.\n",
            "1200000 alignment records processed.\n",
            "1300000 alignment records processed.\n",
            "1400000 alignment records processed.\n",
            "1500000 alignment records processed.\n",
            "1600000 alignment records processed.\n",
            "1700000 alignment records processed.\n",
            "1800000 alignment records processed.\n",
            "1900000 alignment records processed.\n",
            "2000000 alignment records processed.\n",
            "2100000 alignment records processed.\n",
            "2200000 alignment records processed.\n",
            "2300000 alignment records processed.\n",
            "2400000 alignment records processed.\n",
            "2500000 alignment records processed.\n",
            "2600000 alignment records processed.\n",
            "2700000 alignment records processed.\n",
            "2800000 alignment records processed.\n",
            "2900000 alignment records processed.\n",
            "3000000 alignment records processed.\n",
            "3100000 alignment records processed.\n",
            "3200000 alignment records processed.\n",
            "3300000 alignment records processed.\n",
            "3400000 alignment records processed.\n",
            "3500000 alignment records processed.\n",
            "3600000 alignment records processed.\n",
            "3700000 alignment records processed.\n",
            "3800000 alignment records processed.\n",
            "3900000 alignment records processed.\n",
            "4000000 alignment records processed.\n",
            "4100000 alignment records processed.\n",
            "4200000 alignment records processed.\n",
            "4300000 alignment records processed.\n",
            "4400000 alignment records processed.\n",
            "4500000 alignment records processed.\n",
            "4600000 alignment records processed.\n",
            "4700000 alignment records processed.\n",
            "4800000 alignment records processed.\n",
            "4900000 alignment records processed.\n",
            "5000000 alignment records processed.\n",
            "5100000 alignment records processed.\n",
            "5200000 alignment records processed.\n",
            "5300000 alignment records processed.\n",
            "5400000 alignment records processed.\n",
            "5500000 alignment records processed.\n",
            "5600000 alignment records processed.\n",
            "5700000 alignment records processed.\n",
            "5800000 alignment records processed.\n",
            "5900000 alignment records processed.\n",
            "6000000 alignment records processed.\n",
            "6100000 alignment records processed.\n",
            "6200000 alignment records processed.\n",
            "6300000 alignment records processed.\n",
            "6400000 alignment records processed.\n",
            "6500000 alignment records processed.\n",
            "6600000 alignment records processed.\n",
            "6700000 alignment records processed.\n",
            "6800000 alignment records processed.\n",
            "6900000 alignment records processed.\n",
            "7000000 alignment records processed.\n",
            "7100000 alignment records processed.\n",
            "7200000 alignment records processed.\n",
            "7300000 alignment records processed.\n",
            "7400000 alignment records processed.\n",
            "7500000 alignment records processed.\n",
            "7600000 alignment records processed.\n",
            "7700000 alignment records processed.\n",
            "7800000 alignment records processed.\n",
            "7900000 alignment records processed.\n",
            "8000000 alignment records processed.\n",
            "8100000 alignment records processed.\n",
            "8200000 alignment records processed.\n",
            "8300000 alignment records processed.\n",
            "8400000 alignment records processed.\n",
            "8500000 alignment records processed.\n",
            "8600000 alignment records processed.\n",
            "8700000 alignment records processed.\n",
            "8800000 alignment records processed.\n",
            "8900000 alignment records processed.\n",
            "9000000 alignment records processed.\n",
            "9100000 alignment records processed.\n",
            "9200000 alignment records processed.\n",
            "9300000 alignment records processed.\n",
            "9400000 alignment records processed.\n",
            "9500000 alignment records processed.\n",
            "9600000 alignment records processed.\n",
            "9700000 alignment records processed.\n",
            "9800000 alignment records processed.\n",
            "9900000 alignment records processed.\n",
            "10000000 alignment records processed.\n",
            "10100000 alignment records processed.\n",
            "10200000 alignment records processed.\n",
            "10300000 alignment records processed.\n",
            "10400000 alignment records processed.\n",
            "10500000 alignment records processed.\n",
            "10600000 alignment records processed.\n",
            "10700000 alignment records processed.\n",
            "10800000 alignment records processed.\n",
            "10900000 alignment records processed.\n",
            "11000000 alignment records processed.\n",
            "11100000 alignment records processed.\n",
            "11200000 alignment records processed.\n",
            "11300000 alignment records processed.\n",
            "11400000 alignment records processed.\n",
            "11500000 alignment records processed.\n",
            "11600000 alignment records processed.\n",
            "11700000 alignment records processed.\n",
            "11800000 alignment records processed.\n",
            "11900000 alignment records processed.\n",
            "12000000 alignment records processed.\n",
            "12100000 alignment records processed.\n",
            "12200000 alignment records processed.\n",
            "12300000 alignment records processed.\n",
            "12400000 alignment records processed.\n",
            "12500000 alignment records processed.\n",
            "12600000 alignment records processed.\n",
            "12700000 alignment records processed.\n",
            "12800000 alignment records processed.\n",
            "12900000 alignment records processed.\n",
            "13000000 alignment records processed.\n",
            "13100000 alignment records processed.\n",
            "13200000 alignment records processed.\n",
            "13300000 alignment records processed.\n",
            "13400000 alignment records processed.\n",
            "13500000 alignment records processed.\n",
            "13600000 alignment records processed.\n",
            "13700000 alignment records processed.\n",
            "13800000 alignment records processed.\n",
            "13900000 alignment records processed.\n",
            "14000000 alignment records processed.\n",
            "14100000 alignment records processed.\n",
            "14200000 alignment records processed.\n",
            "14300000 alignment records processed.\n",
            "14400000 alignment records processed.\n",
            "14500000 alignment records processed.\n",
            "14600000 alignment records processed.\n",
            "14700000 alignment records processed.\n",
            "14800000 alignment records processed.\n",
            "14900000 alignment records processed.\n",
            "15000000 alignment records processed.\n",
            "15100000 alignment records processed.\n",
            "15200000 alignment records processed.\n",
            "15300000 alignment records processed.\n",
            "15400000 alignment records processed.\n",
            "15500000 alignment records processed.\n",
            "15600000 alignment records processed.\n",
            "15700000 alignment records processed.\n",
            "15800000 alignment records processed.\n",
            "15900000 alignment records processed.\n",
            "16000000 alignment records processed.\n",
            "16100000 alignment records processed.\n",
            "16200000 alignment records processed.\n",
            "16300000 alignment records processed.\n",
            "16400000 alignment records processed.\n",
            "16500000 alignment records processed.\n",
            "16600000 alignment records processed.\n",
            "16700000 alignment records processed.\n",
            "16800000 alignment records processed.\n",
            "16900000 alignment records processed.\n",
            "17000000 alignment records processed.\n",
            "17100000 alignment records processed.\n",
            "17200000 alignment records processed.\n",
            "17300000 alignment records processed.\n",
            "17400000 alignment records processed.\n",
            "17500000 alignment records processed.\n",
            "17600000 alignment records processed.\n",
            "17700000 alignment records processed.\n",
            "17800000 alignment records processed.\n",
            "17900000 alignment records processed.\n",
            "18000000 alignment records processed.\n",
            "18100000 alignment records processed.\n",
            "18200000 alignment records processed.\n",
            "18300000 alignment records processed.\n",
            "18400000 alignment records processed.\n",
            "18500000 alignment records processed.\n",
            "18600000 alignment records processed.\n",
            "18700000 alignment records processed.\n",
            "18800000 alignment records processed.\n",
            "18900000 alignment records processed.\n",
            "19000000 alignment records processed.\n",
            "19100000 alignment records processed.\n",
            "19200000 alignment records processed.\n",
            "19300000 alignment records processed.\n",
            "19400000 alignment records processed.\n",
            "19500000 alignment records processed.\n",
            "19600000 alignment records processed.\n",
            "19700000 alignment records processed.\n",
            "19800000 alignment records processed.\n",
            "19900000 alignment records processed.\n",
            "20000000 alignment records processed.\n",
            "20100000 alignment records processed.\n",
            "20200000 alignment records processed.\n",
            "20300000 alignment records processed.\n",
            "20400000 alignment records processed.\n",
            "20500000 alignment records processed.\n",
            "20600000 alignment records processed.\n",
            "20700000 alignment records processed.\n",
            "20800000 alignment records processed.\n",
            "20900000 alignment records processed.\n",
            "20928945 alignment records processed.\n",
            "\n",
            "real\t21m43.826s\n",
            "user\t21m33.506s\n",
            "sys\t0m8.169s\n"
          ]
        }
      ]
    },
    {
      "cell_type": "code",
      "metadata": {
        "colab": {
          "base_uri": "https://localhost:8080/"
        },
        "id": "DfASmpZMYMZG",
        "outputId": "43c8ad79-9afa-433c-9f13-97155a6d1f45"
      },
      "source": [
        "!time htseq-count --format=sam --stranded=no SRR3414635.uniq.sam  gencode.vM25.annotation.gtf > SRR3414635.counts"
      ],
      "execution_count": 73,
      "outputs": [
        {
          "output_type": "stream",
          "name": "stdout",
          "text": [
            "100000 GFF lines processed.\n",
            "200000 GFF lines processed.\n",
            "300000 GFF lines processed.\n",
            "400000 GFF lines processed.\n",
            "500000 GFF lines processed.\n",
            "600000 GFF lines processed.\n",
            "700000 GFF lines processed.\n",
            "800000 GFF lines processed.\n",
            "900000 GFF lines processed.\n",
            "1000000 GFF lines processed.\n",
            "1100000 GFF lines processed.\n",
            "1200000 GFF lines processed.\n",
            "1300000 GFF lines processed.\n",
            "1400000 GFF lines processed.\n",
            "1500000 GFF lines processed.\n",
            "1600000 GFF lines processed.\n",
            "1700000 GFF lines processed.\n",
            "1800000 GFF lines processed.\n",
            "1872052 GFF lines processed.\n",
            "100000 alignment records processed.\n",
            "200000 alignment records processed.\n",
            "300000 alignment records processed.\n",
            "400000 alignment records processed.\n",
            "500000 alignment records processed.\n",
            "600000 alignment records processed.\n",
            "700000 alignment records processed.\n",
            "800000 alignment records processed.\n",
            "900000 alignment records processed.\n",
            "1000000 alignment records processed.\n",
            "1100000 alignment records processed.\n",
            "1200000 alignment records processed.\n",
            "1300000 alignment records processed.\n",
            "1400000 alignment records processed.\n",
            "1500000 alignment records processed.\n",
            "1600000 alignment records processed.\n",
            "1700000 alignment records processed.\n",
            "1800000 alignment records processed.\n",
            "1900000 alignment records processed.\n",
            "2000000 alignment records processed.\n",
            "2100000 alignment records processed.\n",
            "2200000 alignment records processed.\n",
            "2300000 alignment records processed.\n",
            "2400000 alignment records processed.\n",
            "2500000 alignment records processed.\n",
            "2600000 alignment records processed.\n",
            "2700000 alignment records processed.\n",
            "2800000 alignment records processed.\n",
            "2900000 alignment records processed.\n",
            "3000000 alignment records processed.\n",
            "3100000 alignment records processed.\n",
            "3200000 alignment records processed.\n",
            "3300000 alignment records processed.\n",
            "3400000 alignment records processed.\n",
            "3500000 alignment records processed.\n",
            "3600000 alignment records processed.\n",
            "3700000 alignment records processed.\n",
            "3800000 alignment records processed.\n",
            "3900000 alignment records processed.\n",
            "4000000 alignment records processed.\n",
            "4100000 alignment records processed.\n",
            "4200000 alignment records processed.\n",
            "4300000 alignment records processed.\n",
            "4400000 alignment records processed.\n",
            "4500000 alignment records processed.\n",
            "4600000 alignment records processed.\n",
            "4700000 alignment records processed.\n",
            "4800000 alignment records processed.\n",
            "4900000 alignment records processed.\n",
            "5000000 alignment records processed.\n",
            "5100000 alignment records processed.\n",
            "5200000 alignment records processed.\n",
            "5300000 alignment records processed.\n",
            "5400000 alignment records processed.\n",
            "5500000 alignment records processed.\n",
            "5600000 alignment records processed.\n",
            "5700000 alignment records processed.\n",
            "5800000 alignment records processed.\n",
            "5900000 alignment records processed.\n",
            "6000000 alignment records processed.\n",
            "6100000 alignment records processed.\n",
            "6200000 alignment records processed.\n",
            "6300000 alignment records processed.\n",
            "6400000 alignment records processed.\n",
            "6500000 alignment records processed.\n",
            "6600000 alignment records processed.\n",
            "6700000 alignment records processed.\n",
            "6800000 alignment records processed.\n",
            "6900000 alignment records processed.\n",
            "7000000 alignment records processed.\n",
            "7100000 alignment records processed.\n",
            "7200000 alignment records processed.\n",
            "7300000 alignment records processed.\n",
            "7400000 alignment records processed.\n",
            "7500000 alignment records processed.\n",
            "7600000 alignment records processed.\n",
            "7700000 alignment records processed.\n",
            "7800000 alignment records processed.\n",
            "7900000 alignment records processed.\n",
            "8000000 alignment records processed.\n",
            "8100000 alignment records processed.\n",
            "8200000 alignment records processed.\n",
            "8300000 alignment records processed.\n",
            "8400000 alignment records processed.\n",
            "8500000 alignment records processed.\n",
            "8600000 alignment records processed.\n",
            "8700000 alignment records processed.\n",
            "8800000 alignment records processed.\n",
            "8900000 alignment records processed.\n",
            "9000000 alignment records processed.\n",
            "9100000 alignment records processed.\n",
            "9200000 alignment records processed.\n",
            "9300000 alignment records processed.\n",
            "9400000 alignment records processed.\n",
            "9500000 alignment records processed.\n",
            "9600000 alignment records processed.\n",
            "9700000 alignment records processed.\n",
            "9800000 alignment records processed.\n",
            "9900000 alignment records processed.\n",
            "10000000 alignment records processed.\n",
            "10100000 alignment records processed.\n",
            "10200000 alignment records processed.\n",
            "10300000 alignment records processed.\n",
            "10400000 alignment records processed.\n",
            "10500000 alignment records processed.\n",
            "10600000 alignment records processed.\n",
            "10700000 alignment records processed.\n",
            "10800000 alignment records processed.\n",
            "10900000 alignment records processed.\n",
            "11000000 alignment records processed.\n",
            "11100000 alignment records processed.\n",
            "11200000 alignment records processed.\n",
            "11300000 alignment records processed.\n",
            "11400000 alignment records processed.\n",
            "11500000 alignment records processed.\n",
            "11600000 alignment records processed.\n",
            "11700000 alignment records processed.\n",
            "11800000 alignment records processed.\n",
            "11900000 alignment records processed.\n",
            "12000000 alignment records processed.\n",
            "12100000 alignment records processed.\n",
            "12200000 alignment records processed.\n",
            "12300000 alignment records processed.\n",
            "12400000 alignment records processed.\n",
            "12500000 alignment records processed.\n",
            "12600000 alignment records processed.\n",
            "12700000 alignment records processed.\n",
            "12800000 alignment records processed.\n",
            "12900000 alignment records processed.\n",
            "13000000 alignment records processed.\n",
            "13100000 alignment records processed.\n",
            "13200000 alignment records processed.\n",
            "13300000 alignment records processed.\n",
            "13400000 alignment records processed.\n",
            "13500000 alignment records processed.\n",
            "13600000 alignment records processed.\n",
            "13700000 alignment records processed.\n",
            "13800000 alignment records processed.\n",
            "13900000 alignment records processed.\n",
            "14000000 alignment records processed.\n",
            "14100000 alignment records processed.\n",
            "14200000 alignment records processed.\n",
            "14300000 alignment records processed.\n",
            "14400000 alignment records processed.\n",
            "14500000 alignment records processed.\n",
            "14600000 alignment records processed.\n",
            "14700000 alignment records processed.\n",
            "14800000 alignment records processed.\n",
            "14900000 alignment records processed.\n",
            "15000000 alignment records processed.\n",
            "15100000 alignment records processed.\n",
            "15200000 alignment records processed.\n",
            "15300000 alignment records processed.\n",
            "15400000 alignment records processed.\n",
            "15500000 alignment records processed.\n",
            "15600000 alignment records processed.\n",
            "15700000 alignment records processed.\n",
            "15800000 alignment records processed.\n",
            "15900000 alignment records processed.\n",
            "16000000 alignment records processed.\n",
            "16100000 alignment records processed.\n",
            "16200000 alignment records processed.\n",
            "16300000 alignment records processed.\n",
            "16400000 alignment records processed.\n",
            "16500000 alignment records processed.\n",
            "16600000 alignment records processed.\n",
            "16700000 alignment records processed.\n",
            "16800000 alignment records processed.\n",
            "16900000 alignment records processed.\n",
            "17000000 alignment records processed.\n",
            "17100000 alignment records processed.\n",
            "17200000 alignment records processed.\n",
            "17300000 alignment records processed.\n",
            "17400000 alignment records processed.\n",
            "17500000 alignment records processed.\n",
            "17600000 alignment records processed.\n",
            "17700000 alignment records processed.\n",
            "17800000 alignment records processed.\n",
            "17900000 alignment records processed.\n",
            "18000000 alignment records processed.\n",
            "18100000 alignment records processed.\n",
            "18200000 alignment records processed.\n",
            "18300000 alignment records processed.\n",
            "18400000 alignment records processed.\n",
            "18428317 alignment records processed.\n",
            "\n",
            "real\t19m12.410s\n",
            "user\t19m1.804s\n",
            "sys\t0m7.796s\n"
          ]
        }
      ]
    },
    {
      "cell_type": "code",
      "metadata": {
        "colab": {
          "base_uri": "https://localhost:8080/"
        },
        "id": "7dbKAL-LYMpH",
        "outputId": "0814a6a9-f57d-4446-ccc7-c35908a54373"
      },
      "source": [
        "!time htseq-count --format=sam --stranded=no SRR3414637.uniq.sam  gencode.vM25.annotation.gtf > SRR3414637.counts"
      ],
      "execution_count": 74,
      "outputs": [
        {
          "output_type": "stream",
          "name": "stdout",
          "text": [
            "100000 GFF lines processed.\n",
            "200000 GFF lines processed.\n",
            "300000 GFF lines processed.\n",
            "400000 GFF lines processed.\n",
            "500000 GFF lines processed.\n",
            "600000 GFF lines processed.\n",
            "700000 GFF lines processed.\n",
            "800000 GFF lines processed.\n",
            "900000 GFF lines processed.\n",
            "1000000 GFF lines processed.\n",
            "1100000 GFF lines processed.\n",
            "1200000 GFF lines processed.\n",
            "1300000 GFF lines processed.\n",
            "1400000 GFF lines processed.\n",
            "1500000 GFF lines processed.\n",
            "1600000 GFF lines processed.\n",
            "1700000 GFF lines processed.\n",
            "1800000 GFF lines processed.\n",
            "1872052 GFF lines processed.\n",
            "100000 alignment records processed.\n",
            "200000 alignment records processed.\n",
            "300000 alignment records processed.\n",
            "400000 alignment records processed.\n",
            "500000 alignment records processed.\n",
            "600000 alignment records processed.\n",
            "700000 alignment records processed.\n",
            "800000 alignment records processed.\n",
            "900000 alignment records processed.\n",
            "1000000 alignment records processed.\n",
            "1100000 alignment records processed.\n",
            "1200000 alignment records processed.\n",
            "1300000 alignment records processed.\n",
            "1400000 alignment records processed.\n",
            "1500000 alignment records processed.\n",
            "1600000 alignment records processed.\n",
            "1700000 alignment records processed.\n",
            "1800000 alignment records processed.\n",
            "1900000 alignment records processed.\n",
            "2000000 alignment records processed.\n",
            "2100000 alignment records processed.\n",
            "2200000 alignment records processed.\n",
            "2300000 alignment records processed.\n",
            "2400000 alignment records processed.\n",
            "2500000 alignment records processed.\n",
            "2600000 alignment records processed.\n",
            "2700000 alignment records processed.\n",
            "2800000 alignment records processed.\n",
            "2900000 alignment records processed.\n",
            "3000000 alignment records processed.\n",
            "3100000 alignment records processed.\n",
            "3200000 alignment records processed.\n",
            "3300000 alignment records processed.\n",
            "3400000 alignment records processed.\n",
            "3500000 alignment records processed.\n",
            "3600000 alignment records processed.\n",
            "3700000 alignment records processed.\n",
            "3800000 alignment records processed.\n",
            "3900000 alignment records processed.\n",
            "4000000 alignment records processed.\n",
            "4100000 alignment records processed.\n",
            "4200000 alignment records processed.\n",
            "4300000 alignment records processed.\n",
            "4400000 alignment records processed.\n",
            "4500000 alignment records processed.\n",
            "4600000 alignment records processed.\n",
            "4700000 alignment records processed.\n",
            "4800000 alignment records processed.\n",
            "4900000 alignment records processed.\n",
            "5000000 alignment records processed.\n",
            "5100000 alignment records processed.\n",
            "5200000 alignment records processed.\n",
            "5300000 alignment records processed.\n",
            "5400000 alignment records processed.\n",
            "5500000 alignment records processed.\n",
            "5600000 alignment records processed.\n",
            "5700000 alignment records processed.\n",
            "5800000 alignment records processed.\n",
            "5900000 alignment records processed.\n",
            "6000000 alignment records processed.\n",
            "6100000 alignment records processed.\n",
            "6200000 alignment records processed.\n",
            "6300000 alignment records processed.\n",
            "6400000 alignment records processed.\n",
            "6500000 alignment records processed.\n",
            "6600000 alignment records processed.\n",
            "6700000 alignment records processed.\n",
            "6800000 alignment records processed.\n",
            "6900000 alignment records processed.\n",
            "7000000 alignment records processed.\n",
            "7100000 alignment records processed.\n",
            "7200000 alignment records processed.\n",
            "7300000 alignment records processed.\n",
            "7400000 alignment records processed.\n",
            "7500000 alignment records processed.\n",
            "7600000 alignment records processed.\n",
            "7700000 alignment records processed.\n",
            "7800000 alignment records processed.\n",
            "7900000 alignment records processed.\n",
            "8000000 alignment records processed.\n",
            "8100000 alignment records processed.\n",
            "8200000 alignment records processed.\n",
            "8300000 alignment records processed.\n",
            "8400000 alignment records processed.\n",
            "8500000 alignment records processed.\n",
            "8600000 alignment records processed.\n",
            "8700000 alignment records processed.\n",
            "8800000 alignment records processed.\n",
            "8900000 alignment records processed.\n",
            "9000000 alignment records processed.\n",
            "9100000 alignment records processed.\n",
            "9200000 alignment records processed.\n",
            "9300000 alignment records processed.\n",
            "9400000 alignment records processed.\n",
            "9500000 alignment records processed.\n",
            "9600000 alignment records processed.\n",
            "9700000 alignment records processed.\n",
            "9800000 alignment records processed.\n",
            "9900000 alignment records processed.\n",
            "10000000 alignment records processed.\n",
            "10100000 alignment records processed.\n",
            "10200000 alignment records processed.\n",
            "10300000 alignment records processed.\n",
            "10400000 alignment records processed.\n",
            "10500000 alignment records processed.\n",
            "10600000 alignment records processed.\n",
            "10700000 alignment records processed.\n",
            "10800000 alignment records processed.\n",
            "10900000 alignment records processed.\n",
            "11000000 alignment records processed.\n",
            "11100000 alignment records processed.\n",
            "11200000 alignment records processed.\n",
            "11300000 alignment records processed.\n",
            "11400000 alignment records processed.\n",
            "11500000 alignment records processed.\n",
            "11600000 alignment records processed.\n",
            "11700000 alignment records processed.\n",
            "11800000 alignment records processed.\n",
            "11900000 alignment records processed.\n",
            "12000000 alignment records processed.\n",
            "12100000 alignment records processed.\n",
            "12200000 alignment records processed.\n",
            "12300000 alignment records processed.\n",
            "12400000 alignment records processed.\n",
            "12500000 alignment records processed.\n",
            "12600000 alignment records processed.\n",
            "12700000 alignment records processed.\n",
            "12800000 alignment records processed.\n",
            "12900000 alignment records processed.\n",
            "13000000 alignment records processed.\n",
            "13100000 alignment records processed.\n",
            "13200000 alignment records processed.\n",
            "13300000 alignment records processed.\n",
            "13400000 alignment records processed.\n",
            "13500000 alignment records processed.\n",
            "13600000 alignment records processed.\n",
            "13700000 alignment records processed.\n",
            "13800000 alignment records processed.\n",
            "13900000 alignment records processed.\n",
            "14000000 alignment records processed.\n",
            "14100000 alignment records processed.\n",
            "14200000 alignment records processed.\n",
            "14300000 alignment records processed.\n",
            "14400000 alignment records processed.\n",
            "14500000 alignment records processed.\n",
            "14600000 alignment records processed.\n",
            "14700000 alignment records processed.\n",
            "14800000 alignment records processed.\n",
            "14900000 alignment records processed.\n",
            "15000000 alignment records processed.\n",
            "15100000 alignment records processed.\n",
            "15200000 alignment records processed.\n",
            "15300000 alignment records processed.\n",
            "15400000 alignment records processed.\n",
            "15500000 alignment records processed.\n",
            "15600000 alignment records processed.\n",
            "15700000 alignment records processed.\n",
            "15800000 alignment records processed.\n",
            "15900000 alignment records processed.\n",
            "16000000 alignment records processed.\n",
            "16100000 alignment records processed.\n",
            "16200000 alignment records processed.\n",
            "16300000 alignment records processed.\n",
            "16400000 alignment records processed.\n",
            "16500000 alignment records processed.\n",
            "16600000 alignment records processed.\n",
            "16700000 alignment records processed.\n",
            "16800000 alignment records processed.\n",
            "16900000 alignment records processed.\n",
            "17000000 alignment records processed.\n",
            "17100000 alignment records processed.\n",
            "17200000 alignment records processed.\n",
            "17300000 alignment records processed.\n",
            "17400000 alignment records processed.\n",
            "17500000 alignment records processed.\n",
            "17600000 alignment records processed.\n",
            "17700000 alignment records processed.\n",
            "17800000 alignment records processed.\n",
            "17844858 alignment records processed.\n",
            "\n",
            "real\t18m33.632s\n",
            "user\t18m24.724s\n",
            "sys\t0m6.671s\n"
          ]
        }
      ]
    },
    {
      "cell_type": "markdown",
      "metadata": {
        "id": "CHTMa6RlA_m4"
      },
      "source": [
        "* Смотрим сколько чтений не удалось приписать ни одному гену:\n",
        "* `__no_feature 1332692` – столько чтений соответствует участкам генома, где не аннотировано ни одного экзона\n",
        "* `__ambiguous 735108` – столько чтений могут принадлежать разным генам\n",
        "* Более подробно про такие случаи можно посмотреть в описании HTSeq-count - https://htseq.readthedocs.io/en/release_0.11.1/count.html\n",
        "* Итого, общее число чтений, соответствующих хотя бы одному гену равно:\n",
        "17825380 – 1332692 – 735108 = 15757580\n",
        "* Для каждого образца приводим эту статистику в отчете на Github\n"
      ]
    },
    {
      "cell_type": "code",
      "metadata": {
        "colab": {
          "base_uri": "https://localhost:8080/"
        },
        "id": "fvENnVBnisX1",
        "outputId": "20b6e7ef-0b11-4e05-9991-f37ec8123af6"
      },
      "source": [
        "! grep '^__' SRR3414636.counts"
      ],
      "execution_count": 75,
      "outputs": [
        {
          "output_type": "stream",
          "name": "stdout",
          "text": [
            "__no_feature\t1332692\n",
            "__ambiguous\t735108\n",
            "__too_low_aQual\t0\n",
            "__not_aligned\t0\n",
            "__alignment_not_unique\t0\n"
          ]
        }
      ]
    },
    {
      "cell_type": "code",
      "metadata": {
        "colab": {
          "base_uri": "https://localhost:8080/"
        },
        "id": "yiQI2RN9wgrl",
        "outputId": "d9e95a8f-6386-4866-fb37-84f8cdb0a851"
      },
      "source": [
        "! grep '^__' SRR3414629.counts"
      ],
      "execution_count": 76,
      "outputs": [
        {
          "output_type": "stream",
          "name": "stdout",
          "text": [
            "__no_feature\t1604107\n",
            "__ambiguous\t722172\n",
            "__too_low_aQual\t0\n",
            "__not_aligned\t0\n",
            "__alignment_not_unique\t0\n"
          ]
        }
      ]
    },
    {
      "cell_type": "code",
      "metadata": {
        "colab": {
          "base_uri": "https://localhost:8080/"
        },
        "id": "t_Ip3Aywx-Jl",
        "outputId": "c9cac1a7-76dc-42fe-fcc6-0f8e5601fd23"
      },
      "source": [
        "! grep '^__' SRR3414630.counts"
      ],
      "execution_count": 77,
      "outputs": [
        {
          "output_type": "stream",
          "name": "stdout",
          "text": [
            "__no_feature\t1240295\n",
            "__ambiguous\t480520\n",
            "__too_low_aQual\t0\n",
            "__not_aligned\t0\n",
            "__alignment_not_unique\t0\n"
          ]
        }
      ]
    },
    {
      "cell_type": "code",
      "metadata": {
        "colab": {
          "base_uri": "https://localhost:8080/"
        },
        "id": "35xyegZIx-1R",
        "outputId": "2d9db05d-aab7-47f2-9657-1300e99e50b3"
      },
      "source": [
        "! grep '^__' SRR3414631.counts"
      ],
      "execution_count": 78,
      "outputs": [
        {
          "output_type": "stream",
          "name": "stdout",
          "text": [
            "__no_feature\t1700354\n",
            "__ambiguous\t819740\n",
            "__too_low_aQual\t0\n",
            "__not_aligned\t0\n",
            "__alignment_not_unique\t0\n"
          ]
        }
      ]
    },
    {
      "cell_type": "code",
      "metadata": {
        "colab": {
          "base_uri": "https://localhost:8080/"
        },
        "id": "EmLaeZyLx-8x",
        "outputId": "820684b8-56b8-4171-b0e8-9ff75977e7ad"
      },
      "source": [
        "! grep '^__' SRR3414635.counts"
      ],
      "execution_count": 79,
      "outputs": [
        {
          "output_type": "stream",
          "name": "stdout",
          "text": [
            "__no_feature\t1392186\n",
            "__ambiguous\t760134\n",
            "__too_low_aQual\t0\n",
            "__not_aligned\t0\n",
            "__alignment_not_unique\t0\n"
          ]
        }
      ]
    },
    {
      "cell_type": "code",
      "metadata": {
        "colab": {
          "base_uri": "https://localhost:8080/"
        },
        "id": "RvtaclRrx_Eb",
        "outputId": "f036c3f2-18d7-4581-cfdc-3bb9d2b89ec7"
      },
      "source": [
        "! grep '^__' SRR3414637.counts "
      ],
      "execution_count": 83,
      "outputs": [
        {
          "output_type": "stream",
          "name": "stdout",
          "text": [
            "__no_feature\t1397650\n",
            "__ambiguous\t710230\n",
            "__too_low_aQual\t0\n",
            "__not_aligned\t0\n",
            "__alignment_not_unique\t0\n"
          ]
        }
      ]
    },
    {
      "cell_type": "code",
      "metadata": {
        "colab": {
          "base_uri": "https://localhost:8080/"
        },
        "id": "Dl-i-ZYOwNh8",
        "outputId": "df0b194b-75f8-40cb-f07e-7f7383881184"
      },
      "source": [
        "print(f\"Общее число чтений для SRR3414629: {18375888 - 1604107 - 722172}\")\n",
        "print(f\"Общее число чтений для SRR3414630: {13186139 - 1240295 - 480520}\")\n",
        "print(f\"Общее число чтений для SRR3414631: {20928945 - 1700354 - 819740}\")\n",
        "print(f\"Общее число чтений для SRR3414635: {12219204 - 923895 - 503651}\")\n",
        "print(\"Общее число чтений для SRR3414636: 15757580\")\n",
        "print(f\"Общее число чтений для SRR3414637: {17844858 - 1397650 - 710230}\")"
      ],
      "execution_count": 84,
      "outputs": [
        {
          "output_type": "stream",
          "name": "stdout",
          "text": [
            "Общее число чтений для SRR3414629: 16049609\n",
            "Общее число чтений для SRR3414630: 11465324\n",
            "Общее число чтений для SRR3414631: 18408851\n",
            "Общее число чтений для SRR3414635: 10791658\n",
            "Общее число чтений для SRR3414636: 15757580\n",
            "Общее число чтений для SRR3414637: 15736978\n"
          ]
        }
      ]
    },
    {
      "cell_type": "code",
      "metadata": {
        "colab": {
          "base_uri": "https://localhost:8080/"
        },
        "id": "AVfCynJhzV9T",
        "outputId": "c4897761-4d9b-494f-cd9d-e6ff372d5038"
      },
      "source": [
        "!head SRR3414629.counts"
      ],
      "execution_count": 85,
      "outputs": [
        {
          "output_type": "stream",
          "name": "stdout",
          "text": [
            "ENSMUSG00000000001.4\t4489\n",
            "ENSMUSG00000000003.15\t0\n",
            "ENSMUSG00000000028.15\t345\n",
            "ENSMUSG00000000031.16\t64504\n",
            "ENSMUSG00000000037.17\t77\n",
            "ENSMUSG00000000049.11\t4\n",
            "ENSMUSG00000000056.7\t641\n",
            "ENSMUSG00000000058.6\t1012\n",
            "ENSMUSG00000000078.7\t4475\n",
            "ENSMUSG00000000085.16\t689\n"
          ]
        }
      ]
    },
    {
      "cell_type": "code",
      "metadata": {
        "colab": {
          "base_uri": "https://localhost:8080/"
        },
        "id": "7Fhhnwq3zoMQ",
        "outputId": "980c57fe-1cbc-4036-8553-3eae4a481e3c"
      },
      "source": [
        "!head SRR3414630.counts"
      ],
      "execution_count": 86,
      "outputs": [
        {
          "output_type": "stream",
          "name": "stdout",
          "text": [
            "ENSMUSG00000000001.4\t3919\n",
            "ENSMUSG00000000003.15\t0\n",
            "ENSMUSG00000000028.15\t273\n",
            "ENSMUSG00000000031.16\t33249\n",
            "ENSMUSG00000000037.17\t68\n",
            "ENSMUSG00000000049.11\t1\n",
            "ENSMUSG00000000056.7\t432\n",
            "ENSMUSG00000000058.6\t988\n",
            "ENSMUSG00000000078.7\t3243\n",
            "ENSMUSG00000000085.16\t433\n"
          ]
        }
      ]
    },
    {
      "cell_type": "markdown",
      "metadata": {
        "id": "lQ-ryqO0BiDp"
      },
      "source": [
        "* Объединям все файлы .counts по генам в один общий файл `ALL.counts`.\n",
        "* В качестве заголовка для каждого образца указывать не его SRR id, а c1, c2, c3 для контрольных образцов и r1, r2, r3 для перепрограммированных образцов.\n",
        "* Загружаем полученный ALL.counts файл в Github репозиторий"
      ]
    },
    {
      "cell_type": "code",
      "metadata": {
        "colab": {
          "base_uri": "https://localhost:8080/",
          "height": 419
        },
        "id": "mY4buxrZ4AMv",
        "outputId": "106c92f2-f593-40e0-ebce-5659b9db29c6"
      },
      "source": [
        "import pandas as pd\n",
        "\n",
        "\n",
        "c1 = pd.read_csv('SRR3414635.counts', sep=\"\\t\",  names=['geneID', 'c1'])\n",
        "c2 = pd.read_csv('SRR3414636.counts', sep=\"\\t\",  names=['geneID', 'c2'])\n",
        "c3 = pd.read_csv('SRR3414637.counts', sep=\"\\t\",  names=['geneID', 'c3'])\n",
        "r1 = pd.read_csv('SRR3414629.counts', sep=\"\\t\",  names=['geneID', 'r1'])\n",
        "r2 = pd.read_csv('SRR3414630.counts', sep=\"\\t\",  names=['geneID', 'r2'])\n",
        "r3 = pd.read_csv('SRR3414631.counts', sep=\"\\t\",  names=['geneID', 'r3'])\n",
        "c1 = c1.merge(c2, how='left', on='geneID')\n",
        "c1 = c1.merge(c3, how='left', on='geneID')\n",
        "c1 = c1.merge(r1, how='left', on='geneID')\n",
        "c1 = c1.merge(r2, how='left', on='geneID')\n",
        "c1 = c1.merge(r3, how='left', on='geneID')\n",
        "ALL_count = c1[:-5]\n",
        "ALL_count"
      ],
      "execution_count": 87,
      "outputs": [
        {
          "output_type": "execute_result",
          "data": {
            "text/html": [
              "<div>\n",
              "<style scoped>\n",
              "    .dataframe tbody tr th:only-of-type {\n",
              "        vertical-align: middle;\n",
              "    }\n",
              "\n",
              "    .dataframe tbody tr th {\n",
              "        vertical-align: top;\n",
              "    }\n",
              "\n",
              "    .dataframe thead th {\n",
              "        text-align: right;\n",
              "    }\n",
              "</style>\n",
              "<table border=\"1\" class=\"dataframe\">\n",
              "  <thead>\n",
              "    <tr style=\"text-align: right;\">\n",
              "      <th></th>\n",
              "      <th>geneID</th>\n",
              "      <th>c1</th>\n",
              "      <th>c2</th>\n",
              "      <th>c3</th>\n",
              "      <th>r1</th>\n",
              "      <th>r2</th>\n",
              "      <th>r3</th>\n",
              "    </tr>\n",
              "  </thead>\n",
              "  <tbody>\n",
              "    <tr>\n",
              "      <th>0</th>\n",
              "      <td>ENSMUSG00000000001.4</td>\n",
              "      <td>3431</td>\n",
              "      <td>3504</td>\n",
              "      <td>4031</td>\n",
              "      <td>4489</td>\n",
              "      <td>3919</td>\n",
              "      <td>5700</td>\n",
              "    </tr>\n",
              "    <tr>\n",
              "      <th>1</th>\n",
              "      <td>ENSMUSG00000000003.15</td>\n",
              "      <td>0</td>\n",
              "      <td>0</td>\n",
              "      <td>0</td>\n",
              "      <td>0</td>\n",
              "      <td>0</td>\n",
              "      <td>0</td>\n",
              "    </tr>\n",
              "    <tr>\n",
              "      <th>2</th>\n",
              "      <td>ENSMUSG00000000028.15</td>\n",
              "      <td>150</td>\n",
              "      <td>136</td>\n",
              "      <td>152</td>\n",
              "      <td>345</td>\n",
              "      <td>273</td>\n",
              "      <td>468</td>\n",
              "    </tr>\n",
              "    <tr>\n",
              "      <th>3</th>\n",
              "      <td>ENSMUSG00000000031.16</td>\n",
              "      <td>55526</td>\n",
              "      <td>48225</td>\n",
              "      <td>56064</td>\n",
              "      <td>64504</td>\n",
              "      <td>33249</td>\n",
              "      <td>64992</td>\n",
              "    </tr>\n",
              "    <tr>\n",
              "      <th>4</th>\n",
              "      <td>ENSMUSG00000000037.17</td>\n",
              "      <td>41</td>\n",
              "      <td>44</td>\n",
              "      <td>52</td>\n",
              "      <td>77</td>\n",
              "      <td>68</td>\n",
              "      <td>87</td>\n",
              "    </tr>\n",
              "    <tr>\n",
              "      <th>...</th>\n",
              "      <td>...</td>\n",
              "      <td>...</td>\n",
              "      <td>...</td>\n",
              "      <td>...</td>\n",
              "      <td>...</td>\n",
              "      <td>...</td>\n",
              "      <td>...</td>\n",
              "    </tr>\n",
              "    <tr>\n",
              "      <th>55396</th>\n",
              "      <td>ENSMUSG00000118655.1</td>\n",
              "      <td>0</td>\n",
              "      <td>0</td>\n",
              "      <td>0</td>\n",
              "      <td>0</td>\n",
              "      <td>1</td>\n",
              "      <td>1</td>\n",
              "    </tr>\n",
              "    <tr>\n",
              "      <th>55397</th>\n",
              "      <td>ENSMUSG00000118656.1</td>\n",
              "      <td>0</td>\n",
              "      <td>0</td>\n",
              "      <td>0</td>\n",
              "      <td>0</td>\n",
              "      <td>0</td>\n",
              "      <td>0</td>\n",
              "    </tr>\n",
              "    <tr>\n",
              "      <th>55398</th>\n",
              "      <td>ENSMUSG00000118657.1</td>\n",
              "      <td>0</td>\n",
              "      <td>1</td>\n",
              "      <td>0</td>\n",
              "      <td>2</td>\n",
              "      <td>0</td>\n",
              "      <td>4</td>\n",
              "    </tr>\n",
              "    <tr>\n",
              "      <th>55399</th>\n",
              "      <td>ENSMUSG00000118658.1</td>\n",
              "      <td>0</td>\n",
              "      <td>0</td>\n",
              "      <td>0</td>\n",
              "      <td>0</td>\n",
              "      <td>0</td>\n",
              "      <td>0</td>\n",
              "    </tr>\n",
              "    <tr>\n",
              "      <th>55400</th>\n",
              "      <td>ENSMUSG00000118659.1</td>\n",
              "      <td>0</td>\n",
              "      <td>0</td>\n",
              "      <td>0</td>\n",
              "      <td>0</td>\n",
              "      <td>0</td>\n",
              "      <td>0</td>\n",
              "    </tr>\n",
              "  </tbody>\n",
              "</table>\n",
              "<p>55401 rows × 7 columns</p>\n",
              "</div>"
            ],
            "text/plain": [
              "                      geneID     c1     c2     c3     r1     r2     r3\n",
              "0       ENSMUSG00000000001.4   3431   3504   4031   4489   3919   5700\n",
              "1      ENSMUSG00000000003.15      0      0      0      0      0      0\n",
              "2      ENSMUSG00000000028.15    150    136    152    345    273    468\n",
              "3      ENSMUSG00000000031.16  55526  48225  56064  64504  33249  64992\n",
              "4      ENSMUSG00000000037.17     41     44     52     77     68     87\n",
              "...                      ...    ...    ...    ...    ...    ...    ...\n",
              "55396   ENSMUSG00000118655.1      0      0      0      0      1      1\n",
              "55397   ENSMUSG00000118656.1      0      0      0      0      0      0\n",
              "55398   ENSMUSG00000118657.1      0      1      0      2      0      4\n",
              "55399   ENSMUSG00000118658.1      0      0      0      0      0      0\n",
              "55400   ENSMUSG00000118659.1      0      0      0      0      0      0\n",
              "\n",
              "[55401 rows x 7 columns]"
            ]
          },
          "metadata": {},
          "execution_count": 87
        }
      ]
    },
    {
      "cell_type": "code",
      "metadata": {
        "id": "uyMqwkQ7ALQZ"
      },
      "source": [
        "tfile = open('ALL.counts', 'w')\n",
        "tfile.write(ALL_count.to_csv(sep='\\t', index=False))\n",
        "tfile.close()"
      ],
      "execution_count": 88,
      "outputs": []
    },
    {
      "cell_type": "code",
      "metadata": {
        "id": "PfB3NJjFBzhU"
      },
      "source": [
        ""
      ],
      "execution_count": null,
      "outputs": []
    }
  ]
}